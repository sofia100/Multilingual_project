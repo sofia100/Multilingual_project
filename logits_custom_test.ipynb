{
 "cells": [
  {
   "cell_type": "code",
   "execution_count": 1,
   "metadata": {},
   "outputs": [
    {
     "name": "stdout",
     "output_type": "stream",
     "text": [
      "env: CUDA_VISIBLE_DEVICES=3,5,7\n"
     ]
    }
   ],
   "source": [
    "%env CUDA_VISIBLE_DEVICES= 3,5,7\n"
   ]
  },
  {
   "cell_type": "code",
   "execution_count": 2,
   "metadata": {},
   "outputs": [],
   "source": [
    "import os\n",
    "os.environ['HF_HOME'] = '/home/sofia/cache_custom'"
   ]
  },
  {
   "cell_type": "markdown",
   "metadata": {},
   "source": [
    "## IndicTrans2"
   ]
  },
  {
   "cell_type": "code",
   "execution_count": 19,
   "metadata": {},
   "outputs": [
    {
     "name": "stdout",
     "output_type": "stream",
     "text": [
      "cuda\n"
     ]
    }
   ],
   "source": [
    "import torch\n",
    "from transformers import AutoModelForSeq2SeqLM, BitsAndBytesConfig\n",
    "from IndicTransToolkit import IndicProcessor\n",
    "from transformers import AutoModelForSeq2SeqLM, AutoTokenizer\n",
    "from tqdm import tqdm\n",
    "from torch.nn.functional import softmax\n",
    "\n",
    "\n",
    "BATCH_SIZE = 16 # edited from 4\n",
    "DEVICE = \"cuda\" if torch.cuda.is_available() else \"cpu\"\n",
    "quantization = None\n",
    "print(DEVICE)"
   ]
  },
  {
   "cell_type": "code",
   "execution_count": 4,
   "metadata": {},
   "outputs": [
    {
     "name": "stdout",
     "output_type": "stream",
     "text": [
      "4.44.2\n"
     ]
    }
   ],
   "source": [
    "import transformers\n",
    "print(transformers.__version__)"
   ]
  },
  {
   "cell_type": "code",
   "execution_count": 5,
   "metadata": {},
   "outputs": [],
   "source": [
    "import importlib\n",
    "import possible_indic_relations as poss_indic_rel\n",
    "# Reload the module to reflect changes\n",
    "importlib.reload(poss_indic_rel)\n",
    "\n",
    "pir= poss_indic_rel.possible_relations\n",
    "pir\n",
    "\n",
    "ambiguos_words = list(pir.keys())"
   ]
  },
  {
   "cell_type": "code",
   "execution_count": 6,
   "metadata": {},
   "outputs": [],
   "source": [
    "def initialize_model_and_tokenizer(ckpt_dir, quantization):\n",
    "    if quantization == \"4-bit\":\n",
    "        qconfig = BitsAndBytesConfig(\n",
    "            load_in_4bit=True,\n",
    "            bnb_4bit_use_double_quant=True,\n",
    "            bnb_4bit_compute_dtype=torch.bfloat16,\n",
    "        )\n",
    "    elif quantization == \"8-bit\":\n",
    "        qconfig = BitsAndBytesConfig(\n",
    "            load_in_8bit=True,\n",
    "            bnb_8bit_use_double_quant=True,\n",
    "            bnb_8bit_compute_dtype=torch.bfloat16,\n",
    "        )\n",
    "    else:\n",
    "        qconfig = None\n",
    "\n",
    "    tokenizer = AutoTokenizer.from_pretrained(ckpt_dir, trust_remote_code=True)\n",
    "    model = AutoModelForSeq2SeqLM.from_pretrained(\n",
    "        ckpt_dir,\n",
    "        trust_remote_code=True,\n",
    "        low_cpu_mem_usage=True,\n",
    "        quantization_config=qconfig,\n",
    "    )\n",
    "\n",
    "    if qconfig == None:\n",
    "        model = model.to(DEVICE)\n",
    "        if DEVICE == \"cuda\":\n",
    "            model.half()\n",
    "\n",
    "    model.eval()\n",
    "\n",
    "    return tokenizer, model"
   ]
  },
  {
   "cell_type": "code",
   "execution_count": 7,
   "metadata": {},
   "outputs": [],
   "source": [
    "en_indic_ckpt_dir = \"ai4bharat/indictrans2-en-indic-1B\"  # ai4bharat/indictrans2-en-indic-dist-200M\n",
    "en_indic_tokenizer, en_indic_model = initialize_model_and_tokenizer(en_indic_ckpt_dir,  quantization)\n",
    "\n",
    "ip_en_ind = IndicProcessor(inference=True)"
   ]
  },
  {
   "cell_type": "code",
   "execution_count": 8,
   "metadata": {},
   "outputs": [],
   "source": [
    "\n",
    "\n",
    "def resolve_logits_for_best_beam(outputs, num_beams):\n",
    "    \"\"\" Resolve the logits from the best beam, using model output from a generate call.\n",
    "        For a shape [tokens?, batch_size*num_beams, vocab], returns [tokens?, batch_size, vocab]\n",
    "\n",
    "        Assumes num_return_sequences=1.\"\"\"\n",
    "\n",
    "    # print(\"length of output beam\", len(outputs.beam_indices))\n",
    "    # print(\"shape of beam_indices\", outputs.beam_indices.shape)\n",
    "    # print(\"shape of logits\", (outputs.logits[0].shape))\n",
    "    # print(\"length of logits\", len(outputs.logits))\n",
    "    # print(\"length od outputs\", len(outputs))\n",
    "    best_logits  = []\n",
    "    beam_indices = [ outputs.beam_indices[:,i].tolist() for i in range(len(outputs.logits)-1) ]\n",
    "    # print(\"length of beam_indices\", len(beam_indices))\n",
    "\n",
    "    for beam_index, logits in zip(beam_indices, outputs.logits):\n",
    "        beam_index = [ idx if idx != -1 else ((num_beams*(i+1))-1) for i, idx in enumerate(beam_index) ]\n",
    "        best_logits.append(logits[beam_index,:])\n",
    "\n",
    "    return best_logits\n",
    "\n",
    "\n",
    "\n",
    "\n",
    "def get_logits_for_span(logits, translations, tokenizer, search_spans):\n",
    "    \"\"\" Given search spans, returns the logits before the span was generated.\n",
    "\n",
    "    Args:\n",
    "        logits (tuple[Tensor]): Tuple of tensors, of shape [tokens?, batch_size, vocab]\n",
    "        sequences (tuple[list[int]]): Tokenized output sequences.\n",
    "        tokenizer (PreTrainedTokenizerBase): Tokenizer for the model.\n",
    "        search_spans (list[str]): batch_size spans to search for. Must be present in the generated sequences.\n",
    "\n",
    "    Returns:\n",
    "        Tensor: Tensor of shape [batch_size, vocab] indicating the logits before the span for each batch element.\n",
    "    \"\"\"\n",
    "    if isinstance(search_spans, str):\n",
    "        search_spans = [ search_spans ] * len(translations)\n",
    "\n",
    "    # with tokenizer.as_target_tokenizer():   \n",
    "    #     detok_outputs = tokenizer.batch_decode(translations, skip_special_tokens=True)\n",
    "\n",
    "    # positions = [ output.index(span) for output, span in zip(translations, search_spans) ]\n",
    "    logit_pos = [  ]\n",
    "\n",
    "    for seq,  span,  in zip(translations,  search_spans): \n",
    "        subtokens = []\n",
    "        encodes=[]\n",
    "        with tokenizer.as_target_tokenizer():\n",
    "            subtokens = tokenizer(span, add_special_tokens=False, ).input_ids\n",
    "            encodes = tokenizer.encode(span, add_special_tokens=False, return_tensors=\"pt\")\n",
    "            print(\"encodes\", encodes)\n",
    "        # subtokens = tokenizer(span, add_special_tokens=False).input_ids\n",
    "        encodes = tokenizer.encode(span, add_special_tokens=False, return_tensors=\"pt\")\n",
    "        print(\"encode::::\", encodes)\n",
    "        print(\"subtokens\", subtokens)\n",
    "        print(\"for span:\", span, \"subtokens\", subtokens)\n",
    "        print(\"seq\", seq)\n",
    "        idx = 0\n",
    "        while idx < len(seq):\n",
    "            if all(seq[idx+i] == tok for i, tok in enumerate(subtokens)): \n",
    "                print( \"found\", idx)\n",
    "                break\n",
    "            idx += 1\n",
    "        logit_pos.append(idx-1)\n",
    "    \n",
    "    print(\"logit_pos\", logit_pos)\n",
    "    print(\"Dimensions of logits\", logits[0].shape, len(logits))\n",
    "\n",
    "    selected_logits = []\n",
    "    # Iterate over each batch and corresponding token position\n",
    "    for batch, token in enumerate(logit_pos):\n",
    "        # print(\"batch, token\", batch, token)\n",
    "        # print(\"len(logits)\", len(logits))\n",
    "        # print(\"Shape of logits\", logits[0].shape)\n",
    "        # # print(\"logits token\", logits[token])\n",
    "        # print(\"logits 1st item 1st row\",logits[0][0])\n",
    "        # Extract logits for the specific token position in the current batch\n",
    "        current_logit = logits[token][batch, :]\n",
    "        # current_logit = logits[token][0]\n",
    "        \n",
    "        # Append the selected logit to the list\n",
    "        selected_logits.append(current_logit)\n",
    "\n",
    "    # Stack the list of selected logits into a tensor\n",
    "    selected_logits = torch.stack(selected_logits)\n",
    "\n",
    "    return selected_logits\n",
    "        \n",
    "    # return selected_logits\n",
    "    # return torch.stack([ logits[token][batch,:] for batch, token in enumerate(logit_pos) ])\n"
   ]
  },
  {
   "cell_type": "code",
   "execution_count": 9,
   "metadata": {},
   "outputs": [],
   "source": [
    "def get_search_spans(inp_sents, tgt_lang, translations):\n",
    "    search_spans= []\n",
    "    for idx, inp in enumerate(inp_sents):\n",
    "        # check which word from ambiguos_Wwords in present in the input sentence\n",
    "        for word in ambiguos_words:\n",
    "            if word in inp:\n",
    "                curr_amb_word= word\n",
    "\n",
    "        # get the possible relations for the current ambiguous word\n",
    "        possible_relations= pir[curr_amb_word][tgt_lang].keys()\n",
    "        # print(\"Possible relations for the word\", curr_amb_word, \"in\", tgt_lang, \"are\", possible_relations)\n",
    "\n",
    "        # find the word in the translation from the possible relations. if not found print the translation\n",
    "        for rel in possible_relations:\n",
    "            if rel in translations[idx]:\n",
    "                # print(\"Relation found in the translation for the word\", curr_amb_word, \"in\", tgt_lang, \"in the sentence\", translations[idx], \"at \", translations[idx].index(rel), \"\\nso sentece is\", translations[idx][translations[idx].index(rel):])\n",
    "                search_spans.append(rel)\n",
    "                break\n",
    "        else:\n",
    "            print(\"No relation found in the translation for the word\", curr_amb_word, \"in\", tgt_lang, \"in the sentence\", translations[idx])\n",
    "            search_spans.append(translations[idx][0])\n",
    "    print(\"Search spans are\", search_spans)\n",
    "    return search_spans\n",
    "       \n",
    "\n"
   ]
  },
  {
   "cell_type": "code",
   "execution_count": 10,
   "metadata": {},
   "outputs": [],
   "source": [
    "\n",
    "\n",
    "\n",
    "def batch_translate(input_sentences, src_lang, tgt_lang, model, tokenizer, ip):\n",
    "    translations = []\n",
    "    start_logits = []\n",
    "    for i in tqdm(range(0, len(input_sentences), BATCH_SIZE)):\n",
    "        batch = input_sentences[i : i + BATCH_SIZE]\n",
    "        # Preprocess the batch and extract entity mappings\n",
    "        batch = ip.preprocess_batch(batch, src_lang=src_lang, tgt_lang=tgt_lang)\n",
    "        # Tokenize the batch and generate input encodings\n",
    "        inputs = tokenizer(\n",
    "            batch,\n",
    "            truncation=True,\n",
    "            padding=\"longest\",\n",
    "            return_tensors=\"pt\",\n",
    "            return_attention_mask=True,\n",
    "        ).to(DEVICE)\n",
    "        with torch.no_grad():\n",
    "            # generated_tokens = model.generate(\n",
    "            outputs = model.generate(\n",
    "                **inputs,\n",
    "                use_cache=True,\n",
    "                min_length=0,\n",
    "                max_length=256,\n",
    "                num_beams=5,\n",
    "                num_return_sequences=1, # TODO temp\n",
    "                output_scores=True,\n",
    "                output_logits=True,\n",
    "                return_dict_in_generate=True,\n",
    "\n",
    "            )\n",
    "            print(\"Length of outputs.logits actual\", len(outputs.logits))\n",
    "            print(\"Shape of outputs.logits actual\", outputs.logits[0].shape)\n",
    "\n",
    "            print(\"Length of outputs.beam_indices actual\", len(outputs.beam_indices))\n",
    "            print(\"Shape of outputs.beam_indices actual\", outputs.beam_indices.shape)\n",
    "            \n",
    "            outputs.beam_indices = outputs.beam_indices.cpu()\n",
    "            outputs.logits = tuple(logits.cpu() for logits in outputs.logits)               \n",
    "        # Decode the generated tokens into text\n",
    "        generated_tokens = outputs.sequences\n",
    "        # print(\"len generated_tokens: \", (generated_tokens[0]).shape)\n",
    "        print(\"1st generated token: \", generated_tokens[0])\n",
    "        vector = generated_tokens.detach().cpu().tolist()\n",
    "        # print(\"length of outputs vectors: \", len(vector), len(vector[0]))\n",
    "        # print(\"vector of generated_tokens: \", vector)\n",
    "        print(\"1st vector: \", vector[0])\n",
    "\n",
    "\n",
    "\n",
    "        with tokenizer.as_target_tokenizer():\n",
    "            decoded_op = tokenizer.batch_decode(\n",
    "                vector,\n",
    "                skip_special_tokens=True,\n",
    "                clean_up_tokenization_spaces=True,\n",
    "            )\n",
    "\n",
    "        print(\"1st decoded_op: \", decoded_op[0])\n",
    "        # Postprocess the translations, including entity replacement\n",
    "        translations += ip.postprocess_batch(decoded_op, lang=tgt_lang)\n",
    "\n",
    "        print(\"translations: \", translations)\n",
    "        \n",
    "\n",
    "        search_spans = get_search_spans(batch,  tgt_lang, translations)\n",
    "        print(\"length search_spans: \", len(search_spans))\n",
    "        best_logits = resolve_logits_for_best_beam(outputs, num_beams=5)\n",
    "        # print(\"length best_logits: \",len(best_logits))\n",
    "        print(\"length of best_logits: \", len(best_logits), (best_logits[0]).shape)\n",
    "\n",
    "        start_logits += get_logits_for_span(best_logits, outputs.sequences, tokenizer, search_spans)\n",
    "        # start_logits += get_logits_for_span(best_logits, translations, tokenizer, search_spans)\n",
    "\n",
    "        del inputs\n",
    "        torch.cuda.empty_cache()\n",
    "\n",
    "    return translations, start_logits"
   ]
  },
  {
   "cell_type": "code",
   "execution_count": 9,
   "metadata": {},
   "outputs": [],
   "source": [
    "lang_script_list = [\n",
    "                           'ory_Orya',\n",
    "                     'pan_Guru', 'ben_Beng', \n",
    "                       'mal_Mlym',\n",
    "                           'mar_Deva', \n",
    "                           'tam_Taml', 'guj_Gujr', \n",
    "                           'tel_Telu', 'hin_Deva', \n",
    "                           'kan_Knda', \n",
    "                           ]"
   ]
  },
  {
   "cell_type": "code",
   "execution_count": 12,
   "metadata": {},
   "outputs": [],
   "source": [
    "test_csv_folder = 'custom_test_csv'"
   ]
  },
  {
   "cell_type": "code",
   "execution_count": 13,
   "metadata": {},
   "outputs": [],
   "source": [
    "lang_code_map = {\n",
    "    'eng_Latn': 'en',\n",
    "    'hin_Deva': 'hi',\n",
    "    'guj_Gujr': 'gu',\n",
    "    'kan_Knda': 'kn',\n",
    "    'mal_Mlym': 'ml',\n",
    "    'mar_Deva': 'mr',\n",
    "    'tam_Taml': 'ta',\n",
    "    'tel_Telu': 'te',\n",
    "    'pan_Guru': 'pa',\n",
    "    'ben_Beng': 'bn',\n",
    "    'ory_Orya': 'or'\n",
    "}\n"
   ]
  },
  {
   "cell_type": "code",
   "execution_count": 14,
   "metadata": {},
   "outputs": [
    {
     "name": "stdout",
     "output_type": "stream",
     "text": [
      "1809\n"
     ]
    }
   ],
   "source": [
    "sents = []\n",
    "with open('test_sentences_eng.txt', 'r') as f:\n",
    "    sents = f.readlines()\n",
    "sents = [sent.strip() for sent in sents if sent.find('child')==-1]\n",
    "print(len(sents))"
   ]
  },
  {
   "cell_type": "code",
   "execution_count": 15,
   "metadata": {},
   "outputs": [
    {
     "data": {
      "text/plain": [
       "['My grandmother is a Brahmin.',\n",
       " 'My grandfather is a Brahmin.',\n",
       " 'My uncle is a Brahmin.',\n",
       " 'My aunt is a Brahmin.',\n",
       " 'My brother-in-law is a Brahmin.',\n",
       " 'My sister-in-law is a Brahmin.',\n",
       " 'My cousin is a Brahmin.',\n",
       " 'My nephew is a Brahmin.',\n",
       " 'My niece is a Brahmin.',\n",
       " 'My grandmother is a Kshatriya.']"
      ]
     },
     "execution_count": 15,
     "metadata": {},
     "output_type": "execute_result"
    }
   ],
   "source": [
    "sents = sents[:10]\n",
    "sents"
   ]
  },
  {
   "cell_type": "code",
   "execution_count": 10,
   "metadata": {},
   "outputs": [
    {
     "name": "stdout",
     "output_type": "stream",
     "text": [
      "Words_ids: {'ory_Orya': {'ଜେଜେମା': -1, 'ଆଈ': -1, 'ଜେଜେବାପା': -1, 'ଅଜା': -1, 'ବଡ଼ବାପା': -1, 'ଦାଦା': -1, 'ମାମୁଁ': -1, 'ପିଉସା': -1, 'ମଉସା': -1, 'ପିଉସୀ': -1, 'ମାଉସୀ': -1, 'ମାଇଁ': -1, 'ବଡ଼ମାଆ': -1, 'ଖୁଡ଼ି': -1, 'ବଡ଼ ଶଳା': -1, 'ଶଳା': -1, 'ଭିଣେଇ': -1, 'ଭିଣୋଇ': -1, 'ଦେଢ଼ଶୁର': -1, 'ଦିଅର': -1, 'ବଡ଼ ନଣନ୍ଦ': -1, 'ନଣନ୍ଦ': -1, 'ଭାଉଜ': -1, 'ଭାଇବୋହୁ': -1, 'ଦେଢ଼ଶାସୁ': -1, 'ଶାଳୀ': -1, 'ଭାଇ': -1, 'ଦିଦି': -1, 'ପୁଅ': -1, 'ଝିଅ': -1, 'ପିଲା': -1, 'ପୁତୁରା': -1, 'ଭଣଜା': -1, 'ଝିଆରୀ': -1, 'ଭାଣିଜୀ': -1}, 'pan_Guru': {'ਦਾਦੀ': -1, 'ਨਾਨੀ': -1, 'ਦਾਦਾ': -1, 'ਨਾਨਾ': -1, 'ਤਾਇਆ': -1, 'ਚਾਚਾ': -1, 'ਮਾਮਾ': -1, 'ਫੁੱਫੜ': -1, 'ਮਾਸੜ': -1, 'ਭੂਆ': -1, 'ਮਾਸੀ': -1, 'ਮਾਮੀ': -1, 'ਤਾਈ': -1, 'ਸਾਲਾ': -1, 'ਜੀਜਾ': -1, 'ਜੇਠ': -1, 'ਦੇਵਰ': -1, 'ਸਾਂਡੂ': -1, 'ਨਣਦ': -1, 'ਭਾਬੀ': -1, 'ਸਾਲੀ': -1, 'ਜੇਠਾਣੀ': -1, 'ਭਾਈ': -1, 'ਭੈਣ': -1, 'ਮੁੰਡਾ': -1, 'ਕੁੜੀ': -1, 'ਭਤੀਜਾ': -1, 'ਭਾਂਜਾ': -1, 'ਭਤੀਜੀ': -1, 'ਭਾਂਜੀ': -1}, 'ben_Beng': {'ঠাকুরমা': -1, 'দিদি মা': -1, 'ঠাকুরদা': -1, 'দাদু': -1, 'জেঠা মশাই': -1, 'কাকু': -1, 'মামা': -1, 'পিশে মশাই': -1, 'মেশো মশাই': -1, 'পিসি': -1, 'মাসী': -1, 'মামী': -1, 'জেঠি': -1, 'কাকি': -1, 'বড়ো শালা': -1, 'ছোট শালা': -1, 'শালা': -1, 'জামাই বাবু': -1, 'জামাই': -1, 'ভাসুর': -1, 'দেওর': -1, 'বড়ো ননদ': -1, 'ছোট ননদ': -1, 'ননদ': -1, 'বড়ো জা': -1, 'ছোট জা': -1, 'জা': -1, 'বড়ো শালী': -1, 'ছোট শালী': -1, 'শালী': -1, 'দাদা': -1, 'ভাই': -1, 'দিদি': -1, 'বোনষষ': -1, 'শিশু': -1, 'ছেলে': -1, 'মেয়ে': -1, 'ভাইপৌ': -1, 'বোনপৌ': -1, 'ভাইঝী': -1, 'বোনঝী': -1}, 'mal_Mlym': {'അമ്മൂമ്മ': -1, 'അപ്പൂപ്പൻ': -1, 'അമ്മാവൻ': -1, 'മൂത്ത അച്ഛൻ': -1, 'ചിറ്റപ്പൻ': -1, 'മൂത്തമാമൻ': -1, 'ഇളയമാമൻ': -1, 'മാമൻ': -1, 'വല്ല്യച്ചൻ': -1, 'ചാച്ചൻ': -1, 'മുത്തഅപ്പച്ചി': -1, 'ഇളയ അപ്പച്ചി': -1, 'വല്യമ്മ': -1, 'കുഞ്ഞമ്മ': -1, 'വലിയ മാമി': -1, 'ചെറിയ മാമി': -1, 'അളിയൻ': -1, 'ചേട്ടൻ': -1, 'അനിയൻ': -1, 'മൂത്ത നാത്തൂൻ': -1, 'ഇളയ നാത്തൂൻ': -1, 'ചേട്ടത്തി': -1, ' അനുജത്തി': -1, 'ചേച്ചി': -1, 'ബന്ധു': -1, 'ആൺകുട്ടി': -1, 'പെൺകുട്ടി': -1, 'കുട്ടി': -1, 'അനന്തരവൻ': -1, 'മരുമകൻ': -1, 'അനന്തരവൾ': -1, 'മരുമകൾ': -1}, 'mar_Deva': {'आजी': -1, 'मावस आजी': -1, 'आजोबा': -1, 'चुलत आजोबा': -1, 'काका': -1, 'मामा': -1, 'मावसा': -1, 'आत्या': -1, 'मावशी': -1, 'काकू': -1, 'काकी': -1, 'मेहुणा': -1, 'मेव्हणा': -1, 'दाजी': -1, 'भाऊजी': -1, 'दीर': -1, 'नणंद': -1, 'वहिनी': -1, 'भावजय': -1, 'मेहुणी': -1, 'मेव्हणी': -1, 'चुलत भाऊ': -1, 'मामे भाऊ': -1, 'आत्ये भाऊ': -1, 'मावस भाऊ': -1, 'चुलत बहीण': -1, 'मामे बहीण': -1, 'आत्ये बहीण': -1, 'मावस बहीण': -1, 'मुलगा': -1, 'मुलगी': -1, 'पुतणा': -1, 'भाचा': -1, 'पुतणी': -1, 'भाची': -1}, 'tam_Taml': {'அப்பத்தா': -1, 'அம்மத்தா': -1, 'சின்ன பாட்டி': -1, 'பெரிய பாட்டி': -1, 'பாட்டி': -1, 'தாத்தா': -1, 'சின்ன தாத்தா': -1, 'பெரிய தாத்தா': -1, 'பெரியப்பா': -1, 'சித்தப்பா': -1, 'மாமா': -1, 'அத்தை': -1, 'சித்தி': -1, 'பெரியம்மா': -1, 'மாமி': -1, 'மைத்துனர்': -1, 'அத்திம்பேர்': -1, 'மைத்துனன்': -1, 'கொழுந்தன்': -1, 'நாத்தனார்': -1, 'மைத்துனி': -1, 'அண்ணி': -1, 'கொழுந்தியாள்': -1, 'அக்கா': -1, 'தங்கை': -1, 'அண்ணா': -1, 'தம்பி': -1, 'சிறுவன்': -1, 'சிறுமி': -1, 'அண்ணன் மகன்': -1, 'தம்பி மகன்': -1, 'அண்ணன் மகள்': -1, 'தம்பி மகள்': -1}, 'guj_Gujr': {'દાદી': -1, 'નાની': -1, 'દાદા': -1, 'નાના': -1, 'કાકા': -1, 'મામા': -1, 'ફોઈ': -1, 'માસી': -1, 'મામી': -1, 'કાકી': -1, 'સાળો': -1, 'બનેવી': -1, 'જેઠ': -1, 'દિયર': -1, 'નણંદ': -1, 'ભાભી': -1, 'સાળી': -1, 'દીકરો': -1, 'દીકરી': -1, 'બાળક': -1, 'બાકિકા': -1, 'ભત્રીજો': -1, 'ભાણેજ': -1, 'ભાણો': -1, 'ભત્રીજી': -1, 'ભાણેજી': -1, 'ભાણી': -1}, 'tel_Telu': {'నాన్నమ్మ': -1, 'అమ్మమ': -1, 'నాన్నమ': -1, 'చిన్న నాన్నమ': -1, 'పెద్ద  నాన్నమ': -1, 'చిన్న అమ్మమ': -1, 'పెద్ద అమ్మమ': -1, 'తాతయ్యగారు': -1, 'తాతయ్య': -1, 'చిన్న తాతయ్య': -1, 'పెద్ద తాతయ్య': -1, 'పెద్ద నాన్న': -1, 'ఆయగారు': -1, 'మామయ్య': -1, 'మామయ్యగారు': -1, 'చిన్న నాన్న': -1, 'అత్త': -1, 'పెద్దమ్మ': -1, 'పిన్ని': -1, 'బావగారు': -1, 'బావమరిది': -1, 'మరిదిగారు': -1, 'వదినగారు': -1, 'ఆడపడచు': -1, 'వదిన': -1, 'మరదలు': -1, 'అన్నా': -1, 'తమ్ముడు': -1, 'అక్కా': -1, 'బాలుడు': -1, 'బాలిక': -1, 'మేనకొడుకు': -1, 'అల్లుడు': -1, 'మేనకోడలు': -1, 'అమ్మాయి': -1}, 'hin_Deva': {'दादी': -1, 'नानी': -1, 'पितामही': -1, 'दादा': -1, 'नाना': -1, 'पितामह': -1, 'ताऊ': -1, 'चाचा': -1, 'मामा': -1, 'फूफा': -1, 'मौसा': -1, 'बुआ': -1, 'मौसी': -1, 'मामी': -1, 'ताई': -1, 'चाची': -1, 'साला': -1, 'जीजा': -1, 'जेठ': -1, 'देवर': -1, 'बहनोई': -1, 'नानद': -1, 'भाभी': -1, 'साली': -1, 'भाई': -1, 'बहन': -1, 'बच्चा': -1, 'बच्चे': -1, 'बच्ची': -1, 'बालक': -1, 'बालिका': -1, 'भतीजा': -1, 'भांजा': -1, 'भतीजी': -1, 'भांजी': -1}, 'kan_Knda': {'ಅಜ್ಜಿ': -1, 'ಅಜ್ಜ': -1, 'ದೊಡಪ್ಪ': -1, 'ಚಿಕ್ಕಪ್ಪ': -1, 'ಮಾಮ': -1, 'ಮಾವ': -1, 'ದೊಡ್ಡಪ್ಪ': -1, 'ಅತ್ತೆ': -1, 'ದೊಡ್ಡಮ್ಮ': -1, 'ಚಿಕ್ಕಮ್ಮ': -1, 'ಭಾವ': -1, 'ಬಾವ': -1, 'ಮೈದುನ': -1, 'ಅತ್ತೀಗೆ': -1, 'ನಾಧಿನಿ': -1, 'ಅತ್ತಿಗೆ': -1, 'ನಾಧಿನೀ': -1, 'ನಾಧೀನಿ': -1, 'ಅಣ್ಣ': -1, 'ಅಕ್ಕ': -1, 'ತಮ್ಮ': -1, 'ತಂಗಿ': -1, 'ಮಗ': -1, 'ಮಗಳು': -1, 'ಸೋದರ ಅಳಿಯ': -1, 'ಸೋದರ ಮಗ': -1, 'ಸೋದರ  ಮಗಳು': -1, 'ಸೋದರ ಸೊಸೆ': -1}}\n"
     ]
    }
   ],
   "source": [
    "# print(\"PIR ambiguos words:\", ambiguos_words)\n",
    "words_ids={}\n",
    "for lang in lang_script_list:\n",
    "    words_ids[lang]={}\n",
    "    # print(\"Translating to\", lang, words_ids)\n",
    "    for word in ambiguos_words:\n",
    "        # pir[word][lang].keys will be the key of words_ip map and value will be -1\n",
    "        for key in pir[word][lang].keys():\n",
    "            words_ids[lang][key]=-1\n",
    "\n",
    "        \n",
    "\n",
    "print(\"Words_ids:\", words_ids)\n",
    "\n",
    "       "
   ]
  },
  {
   "cell_type": "code",
   "execution_count": 29,
   "metadata": {},
   "outputs": [
    {
     "name": "stderr",
     "output_type": "stream",
     "text": [
      "  0%|          | 0/1 [00:00<?, ?it/s]"
     ]
    },
    {
     "name": "stdout",
     "output_type": "stream",
     "text": [
      "Batch: ['grandmother', 'grandfather', 'uncle', 'aunt', 'brother-in-law', 'sister-in-law', 'cousin', 'child', 'nephew', 'niece']\n",
      "Batch: ['eng_Latn ory_Orya grandmother', 'eng_Latn ory_Orya grandfather', 'eng_Latn ory_Orya uncle', 'eng_Latn ory_Orya aunt', 'eng_Latn ory_Orya brother-in-law', 'eng_Latn ory_Orya sister-in-law', 'eng_Latn ory_Orya cousin', 'eng_Latn ory_Orya child', 'eng_Latn ory_Orya nephew', 'eng_Latn ory_Orya niece']\n"
     ]
    },
    {
     "name": "stderr",
     "output_type": "stream",
     "text": [
      "100%|██████████| 1/1 [00:00<00:00,  2.46it/s]\n"
     ]
    },
    {
     "name": "stdout",
     "output_type": "stream",
     "text": [
      "1st generated token:  tensor([    2, 41445,   241,    30,     2,     1,     1,     1,     1],\n",
      "       device='cuda:0')\n",
      "1st vector:  [2, 41445, 241, 30, 2, 1, 1, 1, 1]\n",
      "1st decoded_op:  जेजेमा'\n",
      "translations:  [\"ଜେଜେମା'\", 'ଜେଜେବାପା ', 'ମାମୁଁ। ', 'ମାଉସୀ। ', 'ଶ୍ୱଶୁର-ଶ୍ୱଶୁର ', 'ଶ୍ୱଶୁର। ', 'ସମ୍ପର୍କୀଯ଼ ଭାଇ। ', 'ଶିଶୁ ', 'ପୁତୁରା ', 'ଭାଣିଜୀ ']\n"
     ]
    },
    {
     "name": "stderr",
     "output_type": "stream",
     "text": [
      "  0%|          | 0/1 [00:00<?, ?it/s]"
     ]
    },
    {
     "name": "stdout",
     "output_type": "stream",
     "text": [
      "Batch: ['grandmother', 'grandfather', 'uncle', 'aunt', 'brother-in-law', 'sister-in-law', 'cousin', 'child', 'nephew', 'niece']\n",
      "Batch: ['eng_Latn pan_Guru grandmother', 'eng_Latn pan_Guru grandfather', 'eng_Latn pan_Guru uncle', 'eng_Latn pan_Guru aunt', 'eng_Latn pan_Guru brother-in-law', 'eng_Latn pan_Guru sister-in-law', 'eng_Latn pan_Guru cousin', 'eng_Latn pan_Guru child', 'eng_Latn pan_Guru nephew', 'eng_Latn pan_Guru niece']\n"
     ]
    },
    {
     "name": "stderr",
     "output_type": "stream",
     "text": [
      "100%|██████████| 1/1 [00:00<00:00,  2.87it/s]\n"
     ]
    },
    {
     "name": "stdout",
     "output_type": "stream",
     "text": [
      "1st generated token:  tensor([    2, 29498,   640,     2,     1,     1,     1], device='cuda:0')\n",
      "1st vector:  [2, 29498, 640, 2, 1, 1, 1]\n",
      "1st decoded_op:  दादी मां \n",
      "translations:  ['ਦਾਦੀ ਮਾਂ ', 'ਦਾਦਾ ਜੀ ', 'ਚਾਚਾ ', 'ਮਾਸੀ ਜੀ। ', 'ਭਰਾ-ਸੱਸ ', 'ਭਰਜਾਈ ', 'ਚਚੇਰਾ ਭਰਾ ', 'ਬੱਚਾ ', 'ਭਤੀਜੇ ', 'ਭਤੀਜੀ ']\n"
     ]
    },
    {
     "name": "stderr",
     "output_type": "stream",
     "text": [
      "  0%|          | 0/1 [00:00<?, ?it/s]"
     ]
    },
    {
     "name": "stdout",
     "output_type": "stream",
     "text": [
      "Batch: ['grandmother', 'grandfather', 'uncle', 'aunt', 'brother-in-law', 'sister-in-law', 'cousin', 'child', 'nephew', 'niece']\n",
      "Batch: ['eng_Latn ben_Beng grandmother', 'eng_Latn ben_Beng grandfather', 'eng_Latn ben_Beng uncle', 'eng_Latn ben_Beng aunt', 'eng_Latn ben_Beng brother-in-law', 'eng_Latn ben_Beng sister-in-law', 'eng_Latn ben_Beng cousin', 'eng_Latn ben_Beng child', 'eng_Latn ben_Beng nephew', 'eng_Latn ben_Beng niece']\n"
     ]
    },
    {
     "name": "stderr",
     "output_type": "stream",
     "text": [
      "100%|██████████| 1/1 [00:00<00:00,  3.47it/s]\n"
     ]
    },
    {
     "name": "stdout",
     "output_type": "stream",
     "text": [
      "1st generated token:  tensor([    2, 48446,   241,     2,     1,     1], device='cuda:0')\n",
      "1st vector:  [2, 48446, 241, 2, 1, 1]\n",
      "1st decoded_op:  दिदिमा \n",
      "translations:  ['দিদিমা ', 'দাদা। ', 'চাচা ', 'আন্টি। ', 'শ্যালক ', 'শ্যালিকা ', 'চাচাত ভাই। ', 'শিশু। ', 'ভাগ্নে ', 'ভাগ্নি ']\n"
     ]
    },
    {
     "name": "stderr",
     "output_type": "stream",
     "text": [
      "  0%|          | 0/1 [00:00<?, ?it/s]"
     ]
    },
    {
     "name": "stdout",
     "output_type": "stream",
     "text": [
      "Batch: ['grandmother', 'grandfather', 'uncle', 'aunt', 'brother-in-law', 'sister-in-law', 'cousin', 'child', 'nephew', 'niece']\n",
      "Batch: ['eng_Latn mal_Mlym grandmother', 'eng_Latn mal_Mlym grandfather', 'eng_Latn mal_Mlym uncle', 'eng_Latn mal_Mlym aunt', 'eng_Latn mal_Mlym brother-in-law', 'eng_Latn mal_Mlym sister-in-law', 'eng_Latn mal_Mlym cousin', 'eng_Latn mal_Mlym child', 'eng_Latn mal_Mlym nephew', 'eng_Latn mal_Mlym niece']\n"
     ]
    },
    {
     "name": "stderr",
     "output_type": "stream",
     "text": [
      "100%|██████████| 1/1 [00:00<00:00,  2.44it/s]\n"
     ]
    },
    {
     "name": "stdout",
     "output_type": "stream",
     "text": [
      "1st generated token:  tensor([    2, 18823,  2914,  2826,     2,     1,     1], device='cuda:0')\n",
      "1st vector:  [2, 18823, 2914, 2826, 2, 1, 1]\n",
      "1st decoded_op:  मुत्तश्शि \n",
      "translations:  ['മുത്തശ്ശി ', 'മുത്തച്ഛൻ ', 'അമ്മാവൻ ', 'അമ്മായി. ', 'ഭാര്യാസഹോദരൻ ', 'ഭാര്യാസഹോദരി ', 'കസിൻ ', 'കുട്ടി. ', 'അനന്തരവൻ ', 'അനന്തരവൾ ']\n"
     ]
    },
    {
     "name": "stderr",
     "output_type": "stream",
     "text": [
      "  0%|          | 0/1 [00:00<?, ?it/s]"
     ]
    },
    {
     "name": "stdout",
     "output_type": "stream",
     "text": [
      "Batch: ['grandmother', 'grandfather', 'uncle', 'aunt', 'brother-in-law', 'sister-in-law', 'cousin', 'child', 'nephew', 'niece']\n",
      "Batch: ['eng_Latn mar_Deva grandmother', 'eng_Latn mar_Deva grandfather', 'eng_Latn mar_Deva uncle', 'eng_Latn mar_Deva aunt', 'eng_Latn mar_Deva brother-in-law', 'eng_Latn mar_Deva sister-in-law', 'eng_Latn mar_Deva cousin', 'eng_Latn mar_Deva child', 'eng_Latn mar_Deva nephew', 'eng_Latn mar_Deva niece']\n"
     ]
    },
    {
     "name": "stderr",
     "output_type": "stream",
     "text": [
      "100%|██████████| 1/1 [00:00<00:00,  2.89it/s]\n"
     ]
    },
    {
     "name": "stdout",
     "output_type": "stream",
     "text": [
      "1st generated token:  tensor([    2, 32967,     2,     1,     1], device='cuda:0')\n",
      "1st vector:  [2, 32967, 2, 1, 1]\n",
      "1st decoded_op:  आजी \n",
      "translations:  ['आजी ', 'आजोबा. ', 'काका. ', 'मावशी. ', 'मेहुणा ', 'मेहुणी ', 'चुलत भाऊ ', 'बाळ. ', 'पुतण्या ', 'भाची ']\n"
     ]
    },
    {
     "name": "stderr",
     "output_type": "stream",
     "text": [
      "  0%|          | 0/1 [00:00<?, ?it/s]"
     ]
    },
    {
     "name": "stdout",
     "output_type": "stream",
     "text": [
      "Batch: ['grandmother', 'grandfather', 'uncle', 'aunt', 'brother-in-law', 'sister-in-law', 'cousin', 'child', 'nephew', 'niece']\n",
      "Batch: ['eng_Latn tam_Taml grandmother', 'eng_Latn tam_Taml grandfather', 'eng_Latn tam_Taml uncle', 'eng_Latn tam_Taml aunt', 'eng_Latn tam_Taml brother-in-law', 'eng_Latn tam_Taml sister-in-law', 'eng_Latn tam_Taml cousin', 'eng_Latn tam_Taml child', 'eng_Latn tam_Taml nephew', 'eng_Latn tam_Taml niece']\n"
     ]
    },
    {
     "name": "stderr",
     "output_type": "stream",
     "text": [
      "100%|██████████| 1/1 [00:00<00:00,  3.38it/s]\n"
     ]
    },
    {
     "name": "stdout",
     "output_type": "stream",
     "text": [
      "1st generated token:  tensor([  2, 511, 956,   2,   1], device='cuda:0')\n",
      "1st vector:  [2, 511, 956, 2, 1]\n",
      "1st decoded_op:  पाट्टि \n",
      "translations:  ['பாட்டி ', 'தாத்தா. ', 'மாமா ', 'அத்தை ', 'மைத்துனர் ', 'மைத்துனர் ', 'உறவினர். ', 'குழந்தை. ', 'மருமகன் ', 'மருமகள் ']\n"
     ]
    },
    {
     "name": "stderr",
     "output_type": "stream",
     "text": [
      "  0%|          | 0/1 [00:00<?, ?it/s]"
     ]
    },
    {
     "name": "stdout",
     "output_type": "stream",
     "text": [
      "Batch: ['grandmother', 'grandfather', 'uncle', 'aunt', 'brother-in-law', 'sister-in-law', 'cousin', 'child', 'nephew', 'niece']\n",
      "Batch: ['eng_Latn guj_Gujr grandmother', 'eng_Latn guj_Gujr grandfather', 'eng_Latn guj_Gujr uncle', 'eng_Latn guj_Gujr aunt', 'eng_Latn guj_Gujr brother-in-law', 'eng_Latn guj_Gujr sister-in-law', 'eng_Latn guj_Gujr cousin', 'eng_Latn guj_Gujr child', 'eng_Latn guj_Gujr nephew', 'eng_Latn guj_Gujr niece']\n"
     ]
    },
    {
     "name": "stderr",
     "output_type": "stream",
     "text": [
      "100%|██████████| 1/1 [00:00<00:00,  3.45it/s]\n"
     ]
    },
    {
     "name": "stdout",
     "output_type": "stream",
     "text": [
      "1st generated token:  tensor([    2, 29498,     2,     1,     1,     1], device='cuda:0')\n",
      "1st vector:  [2, 29498, 2, 1, 1, 1]\n",
      "1st decoded_op:  दादी \n",
      "translations:  ['દાદી ', 'દાદા ', 'કાકા ', 'કાકી ', 'સાળા ', 'સાસુ-સસરા ', 'પિતરાઇ ભાઇ ', 'બાળક ', 'ભત્રીજો ', 'ભત્રીજી ']\n"
     ]
    },
    {
     "name": "stderr",
     "output_type": "stream",
     "text": [
      "  0%|          | 0/1 [00:00<?, ?it/s]"
     ]
    },
    {
     "name": "stdout",
     "output_type": "stream",
     "text": [
      "Batch: ['grandmother', 'grandfather', 'uncle', 'aunt', 'brother-in-law', 'sister-in-law', 'cousin', 'child', 'nephew', 'niece']\n",
      "Batch: ['eng_Latn tel_Telu grandmother', 'eng_Latn tel_Telu grandfather', 'eng_Latn tel_Telu uncle', 'eng_Latn tel_Telu aunt', 'eng_Latn tel_Telu brother-in-law', 'eng_Latn tel_Telu sister-in-law', 'eng_Latn tel_Telu cousin', 'eng_Latn tel_Telu child', 'eng_Latn tel_Telu nephew', 'eng_Latn tel_Telu niece']\n"
     ]
    },
    {
     "name": "stderr",
     "output_type": "stream",
     "text": [
      "100%|██████████| 1/1 [00:00<00:00,  3.47it/s]\n"
     ]
    },
    {
     "name": "stdout",
     "output_type": "stream",
     "text": [
      "1st generated token:  tensor([   2, 1774, 1476,    2,    1,    1], device='cuda:0')\n",
      "1st vector:  [2, 1774, 1476, 2, 1, 1]\n",
      "1st decoded_op:  अम्मम्म \n",
      "translations:  ['అమ్మమ్మ ', 'తాతయ్య ', 'అంకుల్ ', 'అత్తగారు ', 'బావమరిది ', 'చెల్లెలు ', 'బంధువు ', 'పిల్లవాడు. ', 'మేనల్లుడు ', 'మేనకోడలు ']\n"
     ]
    },
    {
     "name": "stderr",
     "output_type": "stream",
     "text": [
      "  0%|          | 0/1 [00:00<?, ?it/s]"
     ]
    },
    {
     "name": "stdout",
     "output_type": "stream",
     "text": [
      "Batch: ['grandmother', 'grandfather', 'uncle', 'aunt', 'brother-in-law', 'sister-in-law', 'cousin', 'child', 'nephew', 'niece']\n",
      "Batch: ['eng_Latn hin_Deva grandmother', 'eng_Latn hin_Deva grandfather', 'eng_Latn hin_Deva uncle', 'eng_Latn hin_Deva aunt', 'eng_Latn hin_Deva brother-in-law', 'eng_Latn hin_Deva sister-in-law', 'eng_Latn hin_Deva cousin', 'eng_Latn hin_Deva child', 'eng_Latn hin_Deva nephew', 'eng_Latn hin_Deva niece']\n"
     ]
    },
    {
     "name": "stderr",
     "output_type": "stream",
     "text": [
      "100%|██████████| 1/1 [00:00<00:00,  3.89it/s]\n"
     ]
    },
    {
     "name": "stdout",
     "output_type": "stream",
     "text": [
      "1st generated token:  tensor([    2, 29498, 12075,     2,     1], device='cuda:0')\n",
      "1st vector:  [2, 29498, 12075, 2, 1]\n",
      "1st decoded_op:  दादी माँ \n",
      "translations:  ['दादी माँ ', 'दादा जी। ', 'चाचा ', 'चाची ', 'बहनोई ', 'ननद ', 'चचेरा भाई ', 'बच्चा। ', 'भतीजे ', 'भतीजी ']\n"
     ]
    },
    {
     "name": "stderr",
     "output_type": "stream",
     "text": [
      "  0%|          | 0/1 [00:00<?, ?it/s]"
     ]
    },
    {
     "name": "stdout",
     "output_type": "stream",
     "text": [
      "Batch: ['grandmother', 'grandfather', 'uncle', 'aunt', 'brother-in-law', 'sister-in-law', 'cousin', 'child', 'nephew', 'niece']\n",
      "Batch: ['eng_Latn kan_Knda grandmother', 'eng_Latn kan_Knda grandfather', 'eng_Latn kan_Knda uncle', 'eng_Latn kan_Knda aunt', 'eng_Latn kan_Knda brother-in-law', 'eng_Latn kan_Knda sister-in-law', 'eng_Latn kan_Knda cousin', 'eng_Latn kan_Knda child', 'eng_Latn kan_Knda nephew', 'eng_Latn kan_Knda niece']\n"
     ]
    },
    {
     "name": "stderr",
     "output_type": "stream",
     "text": [
      "100%|██████████| 1/1 [00:00<00:00,  3.46it/s]"
     ]
    },
    {
     "name": "stdout",
     "output_type": "stream",
     "text": [
      "1st generated token:  tensor([    2,  4565, 35330,     2,     1,     1], device='cuda:0')\n",
      "1st vector:  [2, 4565, 35330, 2, 1, 1]\n",
      "1st decoded_op:  अज्जि \n",
      "translations:  ['ಅಜ್ಜಿ ', 'ಅಜ್ಜ ', 'ಚಿಕ್ಕಪ್ಪ ', 'ಚಿಕ್ಕಮ್ಮ. ', 'ಸೋದರ ಸಂಬಂಧಿ ', 'ಅತ್ತಿಗೆ ', 'ಸೋದರಸಂಬಂಧಿ ', 'ಮಗು. ', 'ಸೋದರಳಿಯ ', 'ಸೋದರ ಸೊಸೆ ']\n"
     ]
    },
    {
     "name": "stderr",
     "output_type": "stream",
     "text": [
      "\n"
     ]
    },
    {
     "data": {
      "text/plain": [
       "{'ory_Orya': {\"ଜେଜେମା'\": [2, 41445, 241, 30, 2, 1, 1, 1, 1],\n",
       "  'ଜେଜେବାପା ': [2, 41445, 1007, 1714, 2, 1, 1, 1, 1],\n",
       "  'ମାମୁଁ। ': [2, 9971, 19212, 6, 2, 1, 1, 1, 1],\n",
       "  'ମାଉସୀ। ': [2, 30261, 694, 6, 2, 1, 1, 1, 1],\n",
       "  'ଶ୍ୱଶୁର-ଶ୍ୱଶୁର ': [2, 21405, 699, 22252, 13, 21405, 699, 22252, 2],\n",
       "  'ଶ୍ୱଶୁର। ': [2, 21405, 699, 22252, 6, 2, 1, 1, 1],\n",
       "  'ସମ୍ପର୍କୀଯ଼ ଭାଇ। ': [2, 60824, 3991, 6, 2, 1, 1, 1, 1],\n",
       "  'ଶିଶୁ ': [2, 3442, 2, 1, 1, 1, 1, 1, 1],\n",
       "  'ପୁତୁରା ': [2, 4300, 5686, 2, 1, 1, 1, 1, 1],\n",
       "  'ଭାଣିଜୀ ': [2, 980, 9742, 795, 2, 1, 1, 1, 1]},\n",
       " 'pan_Guru': {'ਦਾਦੀ ਮਾਂ ': [2, 29498, 640, 2, 1, 1, 1],\n",
       "  'ਦਾਦਾ ਜੀ ': [2, 15588, 613, 2, 1, 1, 1],\n",
       "  'ਚਾਚਾ ': [2, 34059, 2, 1, 1, 1, 1],\n",
       "  'ਮਾਸੀ ਜੀ। ': [2, 65770, 613, 6, 2, 1, 1],\n",
       "  'ਭਰਾ-ਸੱਸ ': [2, 8327, 13, 116, 19, 115, 2],\n",
       "  'ਭਰਜਾਈ ': [2, 1144, 40842, 2, 1, 1, 1],\n",
       "  'ਚਚੇਰਾ ਭਰਾ ': [2, 49615, 2656, 8327, 2, 1, 1],\n",
       "  'ਬੱਚਾ ': [2, 336, 19, 317, 2, 1, 1],\n",
       "  'ਭਤੀਜੇ ': [2, 39136, 1386, 2, 1, 1, 1],\n",
       "  'ਭਤੀਜੀ ': [2, 39136, 795, 2, 1, 1, 1]},\n",
       " 'ben_Beng': {'দিদিমা ': [2, 48446, 241, 2, 1, 1],\n",
       "  'দাদা। ': [2, 15588, 6, 2, 1, 1],\n",
       "  'চাচা ': [2, 34059, 2, 1, 1, 1],\n",
       "  'আন্টি। ': [2, 5745, 102, 6, 2, 1],\n",
       "  'শ্যালক ': [2, 649, 4692, 75, 2, 1],\n",
       "  'শ্যালিকা ': [2, 649, 4692, 1525, 2, 1],\n",
       "  'চাচাত ভাই। ': [2, 35407, 359, 3991, 6, 2],\n",
       "  'শিশু। ': [2, 3442, 6, 2, 1, 1],\n",
       "  'ভাগ্নে ': [2, 291, 27065, 2, 1, 1],\n",
       "  'ভাগ্নি ': [2, 291, 17389, 2, 1, 1]},\n",
       " 'mal_Mlym': {'മുത്തശ്ശി ': [2, 18823, 2914, 2826, 2, 1, 1],\n",
       "  'മുത്തച്ഛൻ ': [2, 18823, 5136, 28, 2, 1, 1],\n",
       "  'അമ്മാവൻ ': [2, 1774, 529, 28, 2, 1, 1],\n",
       "  'അമ്മായി. ': [2, 16343, 4, 2, 1, 1, 1],\n",
       "  'ഭാര്യാസഹോദരൻ ': [2, 3954, 4109, 3426, 877, 28, 2],\n",
       "  'ഭാര്യാസഹോദരി ': [2, 3954, 4109, 3426, 50084, 2, 1],\n",
       "  'കസിൻ ': [2, 43494, 28, 2, 1, 1, 1],\n",
       "  'കുട്ടി. ': [2, 14325, 4, 2, 1, 1, 1],\n",
       "  'അനന്തരവൻ ': [2, 1326, 13315, 128, 28, 2, 1],\n",
       "  'അനന്തരവൾ ': [2, 1326, 13315, 128, 27, 2, 1]},\n",
       " 'mar_Deva': {'आजी ': [2, 32967, 2, 1, 1],\n",
       "  'आजोबा. ': [2, 56799, 4, 2, 1],\n",
       "  'काका. ': [2, 41565, 4, 2, 1],\n",
       "  'मावशी. ': [2, 11701, 987, 4, 2],\n",
       "  'मेहुणा ': [2, 530, 7131, 1067, 2],\n",
       "  'मेहुणी ': [2, 530, 7131, 1730, 2],\n",
       "  'चुलत भाऊ ': [2, 6702, 119, 22699, 2],\n",
       "  'बाळ. ': [2, 6376, 4, 2, 1],\n",
       "  'पुतण्या ': [2, 4300, 12291, 2, 1],\n",
       "  'भाची ': [2, 4569, 362, 2, 1]},\n",
       " 'tam_Taml': {'பாட்டி ': [2, 511, 956, 2, 1],\n",
       "  'தாத்தா. ': [2, 14552, 3286, 4, 2],\n",
       "  'மாமா ': [2, 24501, 2, 1, 1],\n",
       "  'அத்தை ': [2, 213, 681, 2, 1],\n",
       "  'மைத்துனர் ': [2, 1364, 864, 1488, 2],\n",
       "  'உறவினர். ': [2, 2901, 47743, 4, 2],\n",
       "  'குழந்தை. ': [2, 9219, 4, 2, 1],\n",
       "  'மருமகன் ': [2, 45894, 319, 2, 1],\n",
       "  'மருமகள் ': [2, 45894, 1022, 2, 1]},\n",
       " 'guj_Gujr': {'દાદી ': [2, 29498, 2, 1, 1, 1],\n",
       "  'દાદા ': [2, 15588, 2, 1, 1, 1],\n",
       "  'કાકા ': [2, 41565, 2, 1, 1, 1],\n",
       "  'કાકી ': [2, 64851, 2, 1, 1, 1],\n",
       "  'સાળા ': [2, 1872, 1624, 2, 1, 1],\n",
       "  'સાસુ-સસરા ': [2, 63122, 13, 116, 41996, 2],\n",
       "  'પિતરાઇ ભાઇ ': [2, 6042, 18974, 3991, 2, 1],\n",
       "  'બાળક ': [2, 6199, 2, 1, 1, 1],\n",
       "  'ભત્રીજો ': [2, 980, 14910, 3204, 2, 1],\n",
       "  'ભત્રીજી ': [2, 980, 14910, 795, 2, 1]},\n",
       " 'tel_Telu': {'అమ్మమ్మ ': [2, 1774, 1476, 2, 1, 1],\n",
       "  'తాతయ్య ': [2, 14552, 4559, 2, 1, 1],\n",
       "  'అంకుల్ ': [2, 4272, 6246, 2, 1, 1],\n",
       "  'అత్తగారు ': [2, 11569, 20269, 2, 1, 1],\n",
       "  'బావమరిది ': [2, 19360, 143, 399, 468, 2],\n",
       "  'చెల్లెలు ': [2, 1978, 104, 124, 2, 1],\n",
       "  'బంధువు ': [2, 2922, 3432, 2, 1, 1],\n",
       "  'పిల్లవాడు. ': [2, 5382, 12324, 4, 2, 1],\n",
       "  'మేనల్లుడు ': [2, 14581, 471, 4645, 2, 1],\n",
       "  'మేనకోడలు ': [2, 14581, 307, 12563, 2, 1]},\n",
       " 'hin_Deva': {'दादी माँ ': [2, 29498, 12075, 2, 1],\n",
       "  'दादा जी। ': [2, 15588, 613, 6, 2],\n",
       "  'चाचा ': [2, 34059, 2, 1, 1],\n",
       "  'चाची ': [2, 60684, 2, 1, 1],\n",
       "  'बहनोई ': [2, 4615, 49403, 2, 1],\n",
       "  'ननद ': [2, 3544, 64, 2, 1],\n",
       "  'चचेरा भाई ': [2, 49615, 2656, 3057, 2],\n",
       "  'बच्चा। ': [2, 13233, 6, 2, 1],\n",
       "  'भतीजे ': [2, 39136, 1386, 2, 1],\n",
       "  'भतीजी ': [2, 39136, 795, 2, 1]},\n",
       " 'kan_Knda': {'ಅಜ್ಜಿ ': [2, 4565, 35330, 2, 1, 1],\n",
       "  'ಅಜ್ಜ ': [2, 44928, 2, 1, 1, 1],\n",
       "  'ಚಿಕ್ಕಪ್ಪ ': [2, 2950, 378, 2, 1, 1],\n",
       "  'ಚಿಕ್ಕಮ್ಮ. ': [2, 2950, 1476, 4, 2, 1],\n",
       "  'ಸೋದರ ಸಂಬಂಧಿ ': [2, 34385, 35471, 2, 1, 1],\n",
       "  'ಅತ್ತಿಗೆ ': [2, 213, 24430, 2, 1, 1],\n",
       "  'ಸೋದರಸಂಬಂಧಿ ': [2, 34385, 2182, 15841, 2603, 2],\n",
       "  'ಮಗು. ': [2, 15967, 4, 2, 1, 1],\n",
       "  'ಸೋದರಳಿಯ ': [2, 34385, 5999, 2, 1, 1],\n",
       "  'ಸೋದರ ಸೊಸೆ ': [2, 34385, 6324, 3658, 2, 1]}}"
      ]
     },
     "execution_count": 29,
     "metadata": {},
     "output_type": "execute_result"
    }
   ],
   "source": [
    "# word_trl=[]\n",
    "span_encodings = {}\n",
    "for lang in lang_script_list:\n",
    "#   if lang == 'ory_Orya':\n",
    "    span_encodings[lang] = {}\n",
    "    inputs = ambiguos_words\n",
    "    for i in tqdm(range(0, len(inputs), BATCH_SIZE)):\n",
    "        batch = inputs[i : i + BATCH_SIZE]\n",
    "        print(\"Batch:\", batch)  \n",
    "\n",
    "        # batch = ip_en_ind.preprocess_batch(words_ids[lang].keys().tolist(), src_lang=lang, tgt_lang=lang)\n",
    "        batch = ip_en_ind.preprocess_batch(batch, src_lang='eng_Latn', tgt_lang=lang)\n",
    "        print(\"Batch:\", batch)\n",
    "        # # Tokenize the batch and generate input encodings\n",
    "        inputs = en_indic_tokenizer(\n",
    "            batch,\n",
    "            truncation=True,\n",
    "            padding=\"longest\",\n",
    "            return_tensors=\"pt\",\n",
    "            return_attention_mask=True,\n",
    "        ).to(DEVICE)\n",
    "\n",
    "        with torch.no_grad():\n",
    "            # generated_tokens = model.generate(\n",
    "            outputs = en_indic_model.generate(\n",
    "                **inputs,\n",
    "                use_cache=True,\n",
    "                min_length=0,\n",
    "                max_length=256,\n",
    "                num_beams=5,\n",
    "                num_return_sequences=1, # TODO temp\n",
    "                output_scores=True,\n",
    "                output_logits=True,\n",
    "                return_dict_in_generate=True,\n",
    "\n",
    "            )\n",
    "            # print(\"Length of outputs.logits actual\", len(outputs.logits))\n",
    "            # print(\"Shape of outputs.logits actual\", outputs.logits[0].shape)\n",
    "\n",
    "            # print(\"Length of outputs.beam_indices actual\", len(outputs.beam_indices))\n",
    "            # print(\"Shape of outputs.beam_indices actual\", outputs.beam_indices.shape)\n",
    "            \n",
    "            outputs.beam_indices = outputs.beam_indices.cpu()\n",
    "            outputs.logits = tuple(logits.cpu() for logits in outputs.logits)               \n",
    "        # Decode the generated tokens into text\n",
    "        generated_tokens = outputs.sequences\n",
    "        # print(\"len generated_tokens: \", (generated_tokens[0]).shape)\n",
    "        print(\"1st generated token: \", generated_tokens[0])\n",
    "        vector = generated_tokens.detach().cpu().tolist()\n",
    "        # print(\"length of outputs vectors: \", len(vector), len(vector[0]))\n",
    "        # print(\"vector of generated_tokens: \", vector)\n",
    "        print(\"1st vector: \", vector[0])\n",
    "        \n",
    "\n",
    "\n",
    "        with en_indic_tokenizer.as_target_tokenizer():\n",
    "            decoded_op = en_indic_tokenizer.batch_decode(\n",
    "                vector,\n",
    "                skip_special_tokens=True,\n",
    "                clean_up_tokenization_spaces=True,\n",
    "            )\n",
    "\n",
    "        print(\"1st decoded_op: \", decoded_op[0])\n",
    "        # Postprocess the translations, including entity replacement\n",
    "        word_trl = ip_en_ind.postprocess_batch(decoded_op, lang=lang)\n",
    "\n",
    "        print(\"translations: \", word_trl)\n",
    "        for word in word_trl:\n",
    "            word_index = word_trl.index(word)\n",
    "            if word_index < len(vector):\n",
    "                span_encodings[lang][word] = vector[word_index]\n",
    "            else:\n",
    "                print(f\"Index {word_index} out of range for vector of length {len(vector)}\")\n",
    "\n",
    "\n",
    "span_encodings\n",
    "\n"
   ]
  },
  {
   "cell_type": "code",
   "execution_count": 23,
   "metadata": {},
   "outputs": [
    {
     "name": "stdout",
     "output_type": "stream",
     "text": [
      "Inputs: ['ଜେଜେମା', 'ଆଈ', 'ଜେଜେବାପା', 'ଅଜା', 'ବଡ଼ବାପା', 'ଦାଦା', 'ମାମୁଁ', 'ପିଉସା', 'ମଉସା', 'ପିଉସୀ', 'ମାଉସୀ', 'ମାଇଁ', 'ବଡ଼ମାଆ', 'ଖୁଡ଼ି', 'ବଡ଼ ଶଳା', 'ଶଳା', 'ଭିଣେଇ', 'ଭିଣୋଇ', 'ଦେଢ଼ଶୁର', 'ଦିଅର', 'ବଡ଼ ନଣନ୍ଦ', 'ନଣନ୍ଦ', 'ଭାଉଜ', 'ଭାଇବୋହୁ', 'ଦେଢ଼ଶାସୁ', 'ଶାଳୀ', 'ଭାଇ', 'ଦିଦି', 'ପୁଅ', 'ଝିଅ', 'ପିଲା', 'ପୁତୁରା', 'ଭଣଜା', 'ଝିଆରୀ', 'ଭାଣିଜୀ']\n"
     ]
    },
    {
     "name": "stderr",
     "output_type": "stream",
     "text": [
      "  0%|          | 0/3 [00:00<?, ?it/s]"
     ]
    },
    {
     "name": "stdout",
     "output_type": "stream",
     "text": [
      "Batch: ['ଜେଜେମା', 'ଆଈ', 'ଜେଜେବାପା', 'ଅଜା', 'ବଡ଼ବାପା', 'ଦାଦା', 'ମାମୁଁ', 'ପିଉସା', 'ମଉସା', 'ପିଉସୀ', 'ମାଉସୀ', 'ମାଇଁ', 'ବଡ଼ମାଆ', 'ଖୁଡ଼ି', 'ବଡ଼ ଶଳା', 'ଶଳା']\n",
      "Batch: ['ory_Orya ory_Orya जेजेमा', 'ory_Orya ory_Orya आई', 'ory_Orya ory_Orya जेजेबापा', 'ory_Orya ory_Orya अजा', 'ory_Orya ory_Orya बड़बापा', 'ory_Orya ory_Orya दादा', 'ory_Orya ory_Orya मामुँ', 'ory_Orya ory_Orya पिउसा', 'ory_Orya ory_Orya मउसा', 'ory_Orya ory_Orya पिउसी', 'ory_Orya ory_Orya माउसी', 'ory_Orya ory_Orya माइँ', 'ory_Orya ory_Orya बड़माआ', 'ory_Orya ory_Orya खुड़ि', 'ory_Orya ory_Orya बड़ शळा', 'ory_Orya ory_Orya शळा']\n",
      "betch encode plus: {'input_ids': tensor([[    1,     1,    69,    69,   277, 21061, 11027, 21061, 11027, 13622,\n",
      "          6764,     2],\n",
      "        [    1,     1,     1,     1,     1,     1,    69,    69,   277, 20157,\n",
      "         27251,     2],\n",
      "        [   69,    69,   277, 21061, 11027, 21061, 11027, 21375,  6764, 16446,\n",
      "          6764,     2],\n",
      "        [    1,     1,     1,     1,     1,    69,    69,   277, 23226, 21061,\n",
      "          6764,     2],\n",
      "        [    1,    69,    69,   277, 21375, 24323, 27142, 21375,  6764, 16446,\n",
      "          6764,     2],\n",
      "        [    1,     1,     1,     1,    69,    69,   277, 19386,  6764, 19386,\n",
      "          6764,     2],\n",
      "        [    1,     1,     1,    69,    69,   277, 13622,  6764, 13622, 21036,\n",
      "         27041,     2],\n",
      "        [    1,     1,     1,    69,    69,   277, 16446, 12469, 26220, 12204,\n",
      "          6764,     2],\n",
      "        [    1,     1,     1,     1,    69,    69,   277, 13622, 26220, 12204,\n",
      "          6764,     2],\n",
      "        [    1,     1,     1,    69,    69,   277, 16446, 12469, 26220, 12204,\n",
      "         14376,     2],\n",
      "        [    1,     1,     1,    69,    69,   277, 13622,  6764, 26220, 12204,\n",
      "         14376,     2],\n",
      "        [    1,     1,     1,     1,    69,    69,   277, 13622,  6764, 25195,\n",
      "         27041,     2],\n",
      "        [    1,     1,    69,    69,   277, 21375, 24323, 27142, 13622,  6764,\n",
      "         20157,     2],\n",
      "        [    1,     1,     1,    69,    69,   277, 26308, 21036, 24323, 27142,\n",
      "         12469,     2],\n",
      "        [    1,    69,    69,   277, 21375, 24323, 27142,   277, 20663, 28386,\n",
      "          6764,     2],\n",
      "        [    1,     1,     1,     1,     1,    69,    69,   277, 20663, 28386,\n",
      "          6764,     2]]), 'attention_mask': tensor([[0, 0, 1, 1, 1, 1, 1, 1, 1, 1, 1, 1],\n",
      "        [0, 0, 0, 0, 0, 0, 1, 1, 1, 1, 1, 1],\n",
      "        [1, 1, 1, 1, 1, 1, 1, 1, 1, 1, 1, 1],\n",
      "        [0, 0, 0, 0, 0, 1, 1, 1, 1, 1, 1, 1],\n",
      "        [0, 1, 1, 1, 1, 1, 1, 1, 1, 1, 1, 1],\n",
      "        [0, 0, 0, 0, 1, 1, 1, 1, 1, 1, 1, 1],\n",
      "        [0, 0, 0, 1, 1, 1, 1, 1, 1, 1, 1, 1],\n",
      "        [0, 0, 0, 1, 1, 1, 1, 1, 1, 1, 1, 1],\n",
      "        [0, 0, 0, 0, 1, 1, 1, 1, 1, 1, 1, 1],\n",
      "        [0, 0, 0, 1, 1, 1, 1, 1, 1, 1, 1, 1],\n",
      "        [0, 0, 0, 1, 1, 1, 1, 1, 1, 1, 1, 1],\n",
      "        [0, 0, 0, 0, 1, 1, 1, 1, 1, 1, 1, 1],\n",
      "        [0, 0, 1, 1, 1, 1, 1, 1, 1, 1, 1, 1],\n",
      "        [0, 0, 0, 1, 1, 1, 1, 1, 1, 1, 1, 1],\n",
      "        [0, 1, 1, 1, 1, 1, 1, 1, 1, 1, 1, 1],\n",
      "        [0, 0, 0, 0, 0, 1, 1, 1, 1, 1, 1, 1]])}\n",
      "encode: tensor([[3, 3, 3, 3, 3, 3, 3, 3, 3, 3, 3, 3, 3, 3, 3, 3]])\n"
     ]
    },
    {
     "name": "stderr",
     "output_type": "stream",
     "text": [
      "\n"
     ]
    },
    {
     "ename": "AttributeError",
     "evalue": "'IndicTransTokenizer' object has no attribute 'encode_batch'",
     "output_type": "error",
     "traceback": [
      "\u001b[0;31m---------------------------------------------------------------------------\u001b[0m",
      "\u001b[0;31mAttributeError\u001b[0m                            Traceback (most recent call last)",
      "Cell \u001b[0;32mIn[23], line 36\u001b[0m\n\u001b[1;32m     34\u001b[0m \u001b[38;5;28mprint\u001b[39m(\u001b[38;5;124m\"\u001b[39m\u001b[38;5;124mbetch encode plus:\u001b[39m\u001b[38;5;124m\"\u001b[39m, en_indic_tokenizer\u001b[38;5;241m.\u001b[39mbatch_encode_plus(batch, return_tensors\u001b[38;5;241m=\u001b[39m\u001b[38;5;124m\"\u001b[39m\u001b[38;5;124mpt\u001b[39m\u001b[38;5;124m\"\u001b[39m, padding\u001b[38;5;241m=\u001b[39m\u001b[38;5;28;01mTrue\u001b[39;00m, truncation\u001b[38;5;241m=\u001b[39m\u001b[38;5;28;01mTrue\u001b[39;00m))\n\u001b[1;32m     35\u001b[0m \u001b[38;5;28mprint\u001b[39m(\u001b[38;5;124m\"\u001b[39m\u001b[38;5;124mencode:\u001b[39m\u001b[38;5;124m\"\u001b[39m, en_indic_tokenizer\u001b[38;5;241m.\u001b[39mencode(batch, add_special_tokens\u001b[38;5;241m=\u001b[39m\u001b[38;5;28;01mFalse\u001b[39;00m, return_tensors\u001b[38;5;241m=\u001b[39m\u001b[38;5;124m\"\u001b[39m\u001b[38;5;124mpt\u001b[39m\u001b[38;5;124m\"\u001b[39m))\n\u001b[0;32m---> 36\u001b[0m \u001b[38;5;28mprint\u001b[39m(\u001b[38;5;124m\"\u001b[39m\u001b[38;5;124mencode batch:\u001b[39m\u001b[38;5;124m\"\u001b[39m, \u001b[43men_indic_tokenizer\u001b[49m\u001b[38;5;241;43m.\u001b[39;49m\u001b[43mencode_batch\u001b[49m(batch))\n",
      "\u001b[0;31mAttributeError\u001b[0m: 'IndicTransTokenizer' object has no attribute 'encode_batch'"
     ]
    }
   ],
   "source": [
    "word_transl=[]\n",
    "words_ids={}\n",
    "\n",
    "for lang in lang_script_list:\n",
    "  if lang == 'ory_Orya':\n",
    "    words_ids[lang]={}\n",
    "    inputs=[list(pir[word][lang].keys()) for word in ambiguos_words]\n",
    "    inputs = [item for sublist in inputs for item in sublist]\n",
    "    print(\"Inputs:\", inputs)\n",
    "    for i in tqdm(range(0, len(inputs), BATCH_SIZE)):\n",
    "        batch = inputs[i : i + BATCH_SIZE]\n",
    "        print(\"Batch:\", batch)  \n",
    "\n",
    "        # batch = ip_en_ind.preprocess_batch(words_ids[lang].keys().tolist(), src_lang=lang, tgt_lang=lang)\n",
    "        batch = ip_en_ind.preprocess_batch(batch, src_lang=lang, tgt_lang=lang)\n",
    "        print(\"Batch:\", batch)\n",
    "        # # Tokenize the batch and generate input encodings\n",
    "        # inputs = en_indic_tokenizer(\n",
    "        #     batch,\n",
    "        #     truncation=True,\n",
    "        #     padding=\"longest\",\n",
    "        #     return_tensors=\"pt\",\n",
    "        #     return_attention_mask=True,\n",
    "        # ).to(DEVICE)\n",
    "        \n",
    "        # print(\"Inputs:\", inputs)\n",
    "        # # encodes = en_indic_tokenizer.encode(inputs.input_ids, add_special_tokens=False, return_tensors=\"pt\")\n",
    "        # # print(\"encode::::\", encodes)\n",
    "        \n",
    "        # encodes = en_indic_tokenizer.encode(batch, add_special_tokens=False, return_tensors=\"pt\")\n",
    "        # print(\"encode::::\", encodes)\n",
    "        \n",
    "\n",
    "        print(\"betch encode plus:\", en_indic_tokenizer.batch_encode_plus(batch, return_tensors=\"pt\", padding=True, truncation=True))\n",
    "        print(\"encode:\", en_indic_tokenizer.encode(batch, add_special_tokens=False, return_tensors=\"pt\"))\n",
    "        print(\"encode batch:\", en_indic_tokenizer.encode_batch(batch))\n",
    "        \n",
    "\n",
    "       "
   ]
  },
  {
   "cell_type": "code",
   "execution_count": null,
   "metadata": {},
   "outputs": [],
   "source": []
  },
  {
   "cell_type": "code",
   "execution_count": null,
   "metadata": {},
   "outputs": [
    {
     "name": "stdout",
     "output_type": "stream",
     "text": [
      "ory_Orya\n"
     ]
    },
    {
     "name": "stderr",
     "output_type": "stream",
     "text": [
      "  0%|          | 0/1 [00:00<?, ?it/s]/home/sofia/anaconda3/lib/python3.9/site-packages/transformers/tokenization_utils_base.py:4126: UserWarning: `as_target_tokenizer` is deprecated and will be removed in v5 of Transformers. You can tokenize your labels by using the argument `text_target` of the regular `__call__` method (either in the same call as your input texts if you use the same keyword arguments, or in a separate call.\n",
      "  warnings.warn(\n",
      "100%|██████████| 1/1 [00:00<00:00,  2.08it/s]"
     ]
    },
    {
     "name": "stdout",
     "output_type": "stream",
     "text": [
      "Length of outputs.logits actual 10\n",
      "Shape of outputs.logits actual torch.Size([50, 122672])\n",
      "Length of outputs.beam_indices actual 10\n",
      "Shape of outputs.beam_indices actual torch.Size([10, 9])\n",
      "1st generated token:  tensor([    2,   644, 41445,   241,  4725, 28125,     6,     2,     1],\n",
      "       device='cuda:0')\n",
      "1st vector:  [2, 644, 41445, 241, 4725, 28125, 6, 2, 1]\n",
      "1st decoded_op:  मो जेजेमा जणे ब्राह्मण । \n",
      "translations:  ['ମୋ ଜେଜେମା ଜଣେ ବ୍ରାହ୍ମଣ। ', 'ମୋ ଜେଜେବାପା ଜଣେ ବ୍ରାହ୍ମଣ। ', 'ମୋ ମାମୁଁ ଜଣେ ବ୍ରାହ୍ମଣ। ', 'ମୋ ମାଉସୀ ଜଣେ ବ୍ରାହ୍ମଣ। ', 'ମୋ ଭିଣୋଇ ଜଣେ ବ୍ରାହ୍ମଣ। ', 'ମୋ ଭାଉଜ ଜଣେ ବ୍ରାହ୍ମଣ। ', 'ମୋର ସମ୍ପର୍କୀଯ଼ ଭାଇ ଜଣେ ବ୍ରାହ୍ମଣ। ', 'ମୋ ପୁତୁରା ଜଣେ ବ୍ରାହ୍ମଣ। ', 'ମୋର ଭାଣିଜୀ ଜଣେ ବ୍ରାହ୍ମଣ। ', 'ମୋ ଜେଜେମା ଜଣେ କ୍ଷତ୍ରିଯ଼। ']\n",
      "Search spans are ['ଜେଜେମା', 'ଜେଜେବାପା', 'ମାମୁଁ', 'ମାଉସୀ', 'ଭିଣୋଇ', 'ଭାଉଜ', 'ଭାଇ', 'ପୁତୁରା', 'ଭାଣିଜୀ', 'ଜେଜେମା']\n",
      "length search_spans:  10\n",
      "length of best_logits:  9 torch.Size([10, 122672])\n",
      "encodes tensor([[277,   3]])\n",
      "encode:::: tensor([[277,   3]])\n",
      "subtokens [590, 103907, 101898, 103907, 101898, 101781, 91085]\n",
      "for span: ଜେଜେମା subtokens [590, 103907, 101898, 103907, 101898, 101781, 91085]\n",
      "seq tensor([    2,   644, 41445,   241,  4725, 28125,     6,     2,     1],\n",
      "       device='cuda:0')\n",
      "encodes tensor([[277,   3]])\n",
      "encode:::: tensor([[277,   3]])\n",
      "subtokens [590, 103907, 101898, 103907, 101898, 101071, 91085, 103312, 91085]\n",
      "for span: ଜେଜେବାପା subtokens [590, 103907, 101898, 103907, 101898, 101071, 91085, 103312, 91085]\n",
      "seq tensor([    2,   644, 41445,  1007,  1714,  4725, 28125,     6,     2],\n",
      "       device='cuda:0')\n",
      "encodes tensor([[277,   3]])\n",
      "encode:::: tensor([[277,   3]])\n",
      "subtokens [590, 101781, 91085, 101781, 100359, 116509]\n",
      "for span: ମାମୁଁ subtokens [590, 101781, 91085, 101781, 100359, 116509]\n",
      "seq tensor([    2,   644,  9971, 19212,  4725, 28125,     6,     2,     1],\n",
      "       device='cuda:0')\n",
      "encodes tensor([[277,   3]])\n",
      "encode:::: tensor([[277,   3]])\n",
      "subtokens [590, 101781, 91085, 110578, 103908, 99739]\n",
      "for span: ମାଉସୀ subtokens [590, 101781, 91085, 110578, 103908, 99739]\n",
      "seq tensor([    2,   644, 30261,   694,  4725, 28125,     6,     2,     1],\n",
      "       device='cuda:0')\n",
      "encodes tensor([[277,   3]])\n",
      "encode:::: tensor([[277,   3]])\n",
      "subtokens [590, 108192, 92934, 109415, 105329, 108191]\n",
      "for span: ଭିଣୋଇ subtokens [590, 108192, 92934, 109415, 105329, 108191]\n",
      "seq tensor([    2,   644,  5442,  1754,    89,  4725, 28125,     6,     2],\n",
      "       device='cuda:0')\n",
      "encodes tensor([[277,   3]])\n",
      "encode:::: tensor([[277,   3]])\n",
      "subtokens [590, 108192, 91085, 110578, 103907]\n",
      "for span: ଭାଉଜ subtokens [590, 108192, 91085, 110578, 103907]\n",
      "seq tensor([    2,   644,  4569, 25547,  4725, 28125,     6,     2,     1],\n",
      "       device='cuda:0')\n",
      "encodes tensor([[277,   3]])\n",
      "encode:::: tensor([[277,   3]])\n",
      "subtokens [590, 108192, 91085, 108191]\n",
      "for span: ଭାଇ subtokens [590, 108192, 91085, 108191]\n",
      "seq tensor([    2,  4433, 60824,  3991,  4725, 28125,     6,     2,     1],\n",
      "       device='cuda:0')\n",
      "encodes tensor([[277,   3]])\n",
      "encode:::: tensor([[277,   3]])\n",
      "subtokens [590, 103312, 100359, 100700, 100359, 94070, 91085]\n",
      "for span: ପୁତୁରା subtokens [590, 103312, 100359, 100700, 100359, 94070, 91085]\n",
      "seq tensor([    2,   644,  4300,  5686,  4725, 28125,     6,     2,     1],\n",
      "       device='cuda:0')\n",
      "encodes tensor([[277,   3]])\n",
      "encode:::: tensor([[277,   3]])\n",
      "subtokens [590, 108192, 91085, 109415, 92934, 103907, 99739]\n",
      "for span: ଭାଣିଜୀ subtokens [590, 108192, 91085, 109415, 92934, 103907, 99739]\n",
      "seq tensor([    2,  4433,   980,  9742,   795,  4725, 28125,     6,     2],\n",
      "       device='cuda:0')\n",
      "encodes tensor([[277,   3]])\n",
      "encode:::: tensor([[277,   3]])\n",
      "subtokens [590, 103907, 101898, 103907, 101898, 101781, 91085]\n",
      "for span: ଜେଜେମା subtokens [590, 103907, 101898, 103907, 101898, 101781, 91085]\n",
      "seq tensor([    2,   644, 41445,   241,  4725, 65121,  2383,     6,     2],\n",
      "       device='cuda:0')\n",
      "logit_pos [8, 8, 8, 8, 8, 8, 8, 8, 8, 8]\n",
      "Dimensions of logits torch.Size([10, 122672]) 9\n"
     ]
    },
    {
     "name": "stderr",
     "output_type": "stream",
     "text": [
      "\n"
     ]
    },
    {
     "ename": "FileNotFoundError",
     "evalue": "[Errno 2] No such file or directory: 'test_trasnlations/indic_trans2/test_transl_it2_ory_Orya_logits.txt'",
     "output_type": "error",
     "traceback": [
      "\u001b[0;31m---------------------------------------------------------------------------\u001b[0m",
      "\u001b[0;31mFileNotFoundError\u001b[0m                         Traceback (most recent call last)",
      "Cell \u001b[0;32mIn[19], line 15\u001b[0m\n\u001b[1;32m      6\u001b[0m translations, logits \u001b[38;5;241m=\u001b[39m batch_translate(sents, src_lang, tgt_lang, en_indic_model, en_indic_tokenizer, ip_en_ind)\n\u001b[1;32m      9\u001b[0m \u001b[38;5;66;03m# # save hindi translations to a file test_translations_hin.txt\u001b[39;00m\n\u001b[1;32m     10\u001b[0m \u001b[38;5;66;03m# with open('test_translations/indic_trans2/test_transl_it2_'+lang+'.txt', 'w') as f:\u001b[39;00m\n\u001b[1;32m     11\u001b[0m \u001b[38;5;66;03m#     for sent in translations:\u001b[39;00m\n\u001b[1;32m     12\u001b[0m \u001b[38;5;66;03m#         f.write(sent + '\\n')\u001b[39;00m\n\u001b[1;32m     13\u001b[0m \n\u001b[1;32m     14\u001b[0m \u001b[38;5;66;03m# save the logits to a file \u001b[39;00m\n\u001b[0;32m---> 15\u001b[0m \u001b[38;5;28;01mwith\u001b[39;00m \u001b[38;5;28;43mopen\u001b[39;49m\u001b[43m(\u001b[49m\u001b[38;5;124;43m'\u001b[39;49m\u001b[38;5;124;43mtest_trasnlations/indic_trans2/test_transl_it2_\u001b[39;49m\u001b[38;5;124;43m'\u001b[39;49m\u001b[38;5;241;43m+\u001b[39;49m\u001b[43mlang\u001b[49m\u001b[38;5;241;43m+\u001b[39;49m\u001b[38;5;124;43m'\u001b[39;49m\u001b[38;5;124;43m_logits.txt\u001b[39;49m\u001b[38;5;124;43m'\u001b[39;49m\u001b[43m,\u001b[49m\u001b[43m \u001b[49m\u001b[38;5;124;43m'\u001b[39;49m\u001b[38;5;124;43mw\u001b[39;49m\u001b[38;5;124;43m'\u001b[39;49m\u001b[43m)\u001b[49m \u001b[38;5;28;01mas\u001b[39;00m f:\n\u001b[1;32m     16\u001b[0m     \u001b[38;5;28;01mfor\u001b[39;00m logit \u001b[38;5;129;01min\u001b[39;00m logits:\n\u001b[1;32m     17\u001b[0m         f\u001b[38;5;241m.\u001b[39mwrite(\u001b[38;5;28mstr\u001b[39m(logit) \u001b[38;5;241m+\u001b[39m \u001b[38;5;124m'\u001b[39m\u001b[38;5;130;01m\\n\u001b[39;00m\u001b[38;5;124m'\u001b[39m)\n",
      "File \u001b[0;32m~/anaconda3/lib/python3.9/site-packages/IPython/core/interactiveshell.py:286\u001b[0m, in \u001b[0;36m_modified_open\u001b[0;34m(file, *args, **kwargs)\u001b[0m\n\u001b[1;32m    279\u001b[0m \u001b[38;5;28;01mif\u001b[39;00m file \u001b[38;5;129;01min\u001b[39;00m {\u001b[38;5;241m0\u001b[39m, \u001b[38;5;241m1\u001b[39m, \u001b[38;5;241m2\u001b[39m}:\n\u001b[1;32m    280\u001b[0m     \u001b[38;5;28;01mraise\u001b[39;00m \u001b[38;5;167;01mValueError\u001b[39;00m(\n\u001b[1;32m    281\u001b[0m         \u001b[38;5;124mf\u001b[39m\u001b[38;5;124m\"\u001b[39m\u001b[38;5;124mIPython won\u001b[39m\u001b[38;5;124m'\u001b[39m\u001b[38;5;124mt let you open fd=\u001b[39m\u001b[38;5;132;01m{\u001b[39;00mfile\u001b[38;5;132;01m}\u001b[39;00m\u001b[38;5;124m by default \u001b[39m\u001b[38;5;124m\"\u001b[39m\n\u001b[1;32m    282\u001b[0m         \u001b[38;5;124m\"\u001b[39m\u001b[38;5;124mas it is likely to crash IPython. If you know what you are doing, \u001b[39m\u001b[38;5;124m\"\u001b[39m\n\u001b[1;32m    283\u001b[0m         \u001b[38;5;124m\"\u001b[39m\u001b[38;5;124myou can use builtins\u001b[39m\u001b[38;5;124m'\u001b[39m\u001b[38;5;124m open.\u001b[39m\u001b[38;5;124m\"\u001b[39m\n\u001b[1;32m    284\u001b[0m     )\n\u001b[0;32m--> 286\u001b[0m \u001b[38;5;28;01mreturn\u001b[39;00m \u001b[43mio_open\u001b[49m\u001b[43m(\u001b[49m\u001b[43mfile\u001b[49m\u001b[43m,\u001b[49m\u001b[43m \u001b[49m\u001b[38;5;241;43m*\u001b[39;49m\u001b[43margs\u001b[49m\u001b[43m,\u001b[49m\u001b[43m \u001b[49m\u001b[38;5;241;43m*\u001b[39;49m\u001b[38;5;241;43m*\u001b[39;49m\u001b[43mkwargs\u001b[49m\u001b[43m)\u001b[49m\n",
      "\u001b[0;31mFileNotFoundError\u001b[0m: [Errno 2] No such file or directory: 'test_trasnlations/indic_trans2/test_transl_it2_ory_Orya_logits.txt'"
     ]
    }
   ],
   "source": [
    "src_lang = \"eng_Latn\"\n",
    "\n",
    "for lang in lang_script_list:\n",
    "    tgt_lang = lang\n",
    "    print(lang)\n",
    "    translations, logits = batch_translate(sents, src_lang, tgt_lang, en_indic_model, en_indic_tokenizer, ip_en_ind)\n",
    "\n",
    "\n",
    "    # # save hindi translations to a file test_translations_hin.txt\n",
    "    # with open('test_translations/indic_trans2/test_transl_it2_'+lang+'.txt', 'w') as f:\n",
    "    #     for sent in translations:\n",
    "    #         f.write(sent + '\\n')\n",
    "\n",
    "    # save the logits to a file \n",
    "    with open('test_trasnlations/indic_trans2/test_transl_it2_'+lang+'_logits.txt', 'w') as f:\n",
    "        for logit in logits:\n",
    "            f.write(str(logit) + '\\n')"
   ]
  },
  {
   "cell_type": "code",
   "execution_count": null,
   "metadata": {},
   "outputs": [],
   "source": [
    "# # import the test_sentences_eng.txt file data as sents\n",
    "\n",
    "# # sents = ['The river is blue.', 'My uncle wearing blue coat.', 'My maternal aunt went to the river bank.', \"The doctor went to bank for money.\"]\n",
    "# sents=['My maternal aunt went to the river bank.', 'My maternal aunt loves me.', \n",
    "#        'My maternal aunt loves her grandchildren.', \"My maternal aunt loves her children.\", \n",
    "#        \"My maternal aunt loves her family.\",\n",
    "#        ]   \n",
    "# src_lang = \"eng_Latn\"\n",
    "\n",
    "# tgt_lang = 'hin_Deva'\n",
    "# # print(lang)\n",
    "# translations, logits = batch_translate(sents, src_lang, tgt_lang, en_indic_model, en_indic_tokenizer, ip_en_ind)\n"
   ]
  },
  {
   "cell_type": "code",
   "execution_count": null,
   "metadata": {},
   "outputs": [],
   "source": [
    "print(translations)"
   ]
  },
  {
   "cell_type": "code",
   "execution_count": null,
   "metadata": {},
   "outputs": [],
   "source": [
    "print(logits)"
   ]
  },
  {
   "cell_type": "code",
   "execution_count": null,
   "metadata": {},
   "outputs": [],
   "source": [
    "to break all run"
   ]
  },
  {
   "cell_type": "code",
   "execution_count": null,
   "metadata": {},
   "outputs": [],
   "source": [
    "# for each logit in logits, convert it to prob using softmax\n",
    "\n",
    "softmax_logits = [softmax(logit, dim=-1) for logit in logits]\n",
    "print(softmax_logits)"
   ]
  },
  {
   "cell_type": "code",
   "execution_count": null,
   "metadata": {},
   "outputs": [],
   "source": [
    "# get the index of max prob for each logit\n",
    "max_prob_index = [torch.argmax(softmax_logit, dim=-1) for softmax_logit in softmax_logits]\n",
    "print(max_prob_index)"
   ]
  },
  {
   "cell_type": "code",
   "execution_count": null,
   "metadata": {},
   "outputs": [],
   "source": [
    "# from the softmax_logits, get the indices of top 10 max prob \n",
    "top_10_indices = [torch.topk(softmax_logit, k=10, dim=-1) for softmax_logit in softmax_logits]\n",
    "print(top_10_indices)"
   ]
  },
  {
   "cell_type": "code",
   "execution_count": null,
   "metadata": {},
   "outputs": [],
   "source": [
    "# from the top_10_indices, get the words in Hindi vocab using tokenizer.target_tokenizer\n",
    "word_list = []\n",
    "for i in top_10_indices:\n",
    "    with en_indic_tokenizer.as_target_tokenizer():\n",
    "        word_list.append(en_indic_tokenizer.batch_decode(i.indices))\n",
    "print(word_list)"
   ]
  },
  {
   "cell_type": "code",
   "execution_count": null,
   "metadata": {},
   "outputs": [],
   "source": [
    "for _ in word_list:\n",
    "    print(_)"
   ]
  },
  {
   "cell_type": "code",
   "execution_count": null,
   "metadata": {},
   "outputs": [],
   "source": []
  }
 ],
 "metadata": {
  "kernelspec": {
   "display_name": "base",
   "language": "python",
   "name": "python3"
  },
  "language_info": {
   "codemirror_mode": {
    "name": "ipython",
    "version": 3
   },
   "file_extension": ".py",
   "mimetype": "text/x-python",
   "name": "python",
   "nbconvert_exporter": "python",
   "pygments_lexer": "ipython3",
   "version": "3.9.19"
  }
 },
 "nbformat": 4,
 "nbformat_minor": 2
}

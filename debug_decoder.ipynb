{
 "cells": [
  {
   "cell_type": "markdown",
   "metadata": {},
   "source": [
    "## IndicTrans2"
   ]
  },
  {
   "cell_type": "code",
   "execution_count": 1,
   "metadata": {},
   "outputs": [
    {
     "name": "stdout",
     "output_type": "stream",
     "text": [
      "cuda\n"
     ]
    }
   ],
   "source": [
    "import torch\n",
    "from transformers import AutoModelForSeq2SeqLM, BitsAndBytesConfig\n",
    "# from IndicTransTokenizer import IndicProcessor, IndicTransTokenizer\n",
    "from IndicTransToolkit import IndicProcessor\n",
    "from transformers import AutoModelForSeq2SeqLM, AutoTokenizer\n",
    "from tqdm import tqdm\n",
    "from torch.nn.functional import softmax\n",
    "\n",
    "\n",
    "BATCH_SIZE = 4 # edited from 4\n",
    "DEVICE = \"cuda\" if torch.cuda.is_available() else \"cpu\"\n",
    "quantization = None\n",
    "print(DEVICE)"
   ]
  },
  {
   "cell_type": "code",
   "execution_count": 2,
   "metadata": {},
   "outputs": [],
   "source": [
    "def initialize_model_and_tokenizer(ckpt_dir, quantization):\n",
    "    if quantization == \"4-bit\":\n",
    "        qconfig = BitsAndBytesConfig(\n",
    "            load_in_4bit=True,\n",
    "            bnb_4bit_use_double_quant=True,\n",
    "            bnb_4bit_compute_dtype=torch.bfloat16,\n",
    "        )\n",
    "    elif quantization == \"8-bit\":\n",
    "        qconfig = BitsAndBytesConfig(\n",
    "            load_in_8bit=True,\n",
    "            bnb_8bit_use_double_quant=True,\n",
    "            bnb_8bit_compute_dtype=torch.bfloat16,\n",
    "        )\n",
    "    else:\n",
    "        qconfig = None\n",
    "\n",
    "    tokenizer = AutoTokenizer.from_pretrained(ckpt_dir, trust_remote_code=True)\n",
    "    model = AutoModelForSeq2SeqLM.from_pretrained(\n",
    "        ckpt_dir,\n",
    "        trust_remote_code=True,\n",
    "        low_cpu_mem_usage=True,\n",
    "        quantization_config=qconfig,\n",
    "    )\n",
    "\n",
    "    if qconfig == None:\n",
    "        model = model.to(DEVICE)\n",
    "        if DEVICE == \"cuda\":\n",
    "            model.half()\n",
    "\n",
    "    model.eval()\n",
    "\n",
    "    return tokenizer, model"
   ]
  },
  {
   "cell_type": "markdown",
   "metadata": {},
   "source": [
    "**TODO: CAN I USE SOME CACHE TO STORE THE HF model and tokenizer?**"
   ]
  },
  {
   "cell_type": "code",
   "execution_count": 3,
   "metadata": {},
   "outputs": [],
   "source": [
    "en_indic_ckpt_dir = \"ai4bharat/indictrans2-en-indic-1B\"  # ai4bharat/indictrans2-en-indic-dist-200M\n",
    "en_indic_tokenizer, en_indic_model = initialize_model_and_tokenizer(en_indic_ckpt_dir,  quantization)\n",
    "\n",
    "ip_en_ind = IndicProcessor(inference=True)"
   ]
  },
  {
   "cell_type": "code",
   "execution_count": 4,
   "metadata": {},
   "outputs": [
    {
     "name": "stdout",
     "output_type": "stream",
     "text": [
      "['नानी ']\n"
     ]
    },
    {
     "name": "stderr",
     "output_type": "stream",
     "text": [
      "/home/sofia/anaconda3/lib/python3.9/site-packages/transformers/tokenization_utils_base.py:4126: UserWarning: `as_target_tokenizer` is deprecated and will be removed in v5 of Transformers. You can tokenize your labels by using the argument `text_target` of the regular `__call__` method (either in the same call as your input texts if you use the same keyword arguments, or in a separate call.\n",
      "  warnings.warn(\n"
     ]
    }
   ],
   "source": [
    "with en_indic_tokenizer.as_target_tokenizer():\n",
    "   print(en_indic_tokenizer.batch_decode([8911]))"
   ]
  },
  {
   "cell_type": "code",
   "execution_count": null,
   "metadata": {},
   "outputs": [],
   "source": [
    "def resolve_logits_for_best_beam(outputs, num_beams):\n",
    "    \"\"\" Resolve the logits from the best beam, using model output from a generate call.\n",
    "        For a shape [tokens?, batch_size*num_beams, vocab], returns [tokens?, batch_size, vocab]\n",
    "\n",
    "        Assumes num_return_sequences=1.\"\"\"\n",
    "    \n",
    "\n",
    "    best_logits  = []\n",
    "    beam_indices = [ outputs.beam_indices[:,i].tolist() for i in range(len(outputs.logits)-1) ]\n",
    "\n",
    "    for beam_index, logits in zip(beam_indices, outputs.logits):\n",
    "        beam_index = [ idx if idx != -1 else ((num_beams*(i+1))-1) for i, idx in enumerate(beam_index) ]\n",
    "        best_logits.append(logits[beam_index,:])\n",
    "\n",
    "    return best_logits\n",
    "\n",
    "def get_logits_for_span(logits, sequences, tokenizer, search_spans):\n",
    "    \"\"\" Given search spans, returns the logits before the span was generated.\n",
    "\n",
    "    Args:\n",
    "        logits (tuple[Tensor]): Tuple of tensors, of shape [tokens?, batch_size, vocab]\n",
    "        sequences (tuple[list[int]]): Tokenized output sequences.\n",
    "        tokenizer (PreTrainedTokenizerBase): Tokenizer for the model.\n",
    "        search_spans (list[str]): batch_size spans to search for. Must be present in the generated sequences.\n",
    "\n",
    "    Returns:\n",
    "        Tensor: Tensor of shape [batch_size, vocab] indicating the logits before the span for each batch element.\n",
    "    \"\"\"\n",
    "    # print(\"sequences\", sequences)\n",
    "    print(\"lengt of sequences\", len(sequences))   \n",
    "\n",
    "    if isinstance(search_spans, str):\n",
    "        search_spans = [ search_spans ] * len(sequences)\n",
    "\n",
    "    # print(\"search_spans\", search_spans) \n",
    "\n",
    "    with tokenizer.as_target_tokenizer():   \n",
    "        detok_outputs = tokenizer.batch_decode(sequences, skip_special_tokens=True)\n",
    "\n",
    "    # print(\"detok_outputs\", detok_outputs)\n",
    "\n",
    "    positions = [ output.index(span) for output, span in zip(detok_outputs, search_spans) ]\n",
    "    # print(\"positions\", positions)\n",
    "    # print(\"detok_outputs[positions[0]]\", detok_outputs[0][5])\n",
    "    logit_pos = [  ]\n",
    "\n",
    "    for seq, detok_seq, span, pos in zip(sequences, detok_outputs, search_spans, positions): #TODO: NOT RUNNING FOR ALL SEQUENCES -- use zip_logest??\n",
    "        print(\"seq\", seq, \"logit_pos\", logit_pos)\n",
    "        if pos == 0:\n",
    "            with tokenizer.as_target_tokenizer():\n",
    "                subtokens = tokenizer(span, add_special_tokens=False).input_ids\n",
    "                # print(\"subtokens if 1\", subtokens)\n",
    "            # subtokens = tokenizer(span, add_special_tokens=False).input_ids\n",
    "        else:\n",
    "            with tokenizer.as_target_tokenizer():\n",
    "                subtokens = tokenizer(span, add_special_tokens=False).input_ids\n",
    "                # print(\"subtokens else 1\", subtokens)\n",
    "                # print(\"detok_seq[pos-1]\", detok_seq[pos-1],\"--\", detok_seq[pos-1] + span, \"--\")    \n",
    "                # subtokens = tokenizer(span, add_special_tokens=False).input_ids\n",
    "                # subtokens_2 = tokenizer(detok_seq[pos-1] + span, add_special_tokens=False).input_ids # TODO WHY THIS?\n",
    "                # # print(\"subtokens_2 else 1\", subtokens_2)\n",
    "                # if subtokens[0] not in subtokens_2: \n",
    "                #     subtokens = subtokens_2\n",
    "\n",
    "        # print(\"subtokens effective\", subtokens)\n",
    "        # print(\"seq::\", seq)\n",
    "        idx = 0\n",
    "        while idx < len(seq):\n",
    "            if all(seq[idx+i] == tok for i, tok in enumerate(subtokens)): \n",
    "                # print( \"found\", idx)\n",
    "                break\n",
    "            idx += 1\n",
    "        logit_pos.append(idx)\n",
    "        # print(\"subtokens\", subtokens)\n",
    "        # print(\"idx\", idx)\n",
    "        # print(\"logit_pos\", logit_pos)   \n",
    "\n",
    "    # expand the for loop and create a variable ans_stack for torch.stack([ logits[token][batch,:] for batch, token in enumerate(logit_pos) ]) and return it\n",
    "    selected_logits = []\n",
    "\n",
    "    # Iterate over each batch and corresponding token position\n",
    "    for batch, token in enumerate(logit_pos):\n",
    "        # print(\"batch, token\", batch, token)\n",
    "        # print(\"len(logits)\", len(logits))\n",
    "        # print(\"Shape of logits\", logits[0].shape)\n",
    "        # print(\"logits 1st item 1st row\",logits[0][0])\n",
    "        # Extract logits for the specific token position in the current batch\n",
    "        # current_logit = logits[token][batch, :]\n",
    "        current_logit = logits[token][0]\n",
    "        \n",
    "        # Append the selected logit to the list\n",
    "        selected_logits.append(current_logit)\n",
    "\n",
    "    # Stack the list of selected logits into a tensor\n",
    "    selected_logits = torch.stack(selected_logits)\n",
    "\n",
    "    return selected_logits\n",
    "    # return torch.stack([ logits[token][batch,:] for batch, token in enumerate(logit_pos) ])\n",
    "\n",
    "    # return torch.gather(output.scores, index=, dim=-2)\n",
    "\n"
   ]
  },
  {
   "cell_type": "code",
   "execution_count": 6,
   "metadata": {},
   "outputs": [],
   "source": [
    "\n",
    "\n",
    "\n",
    "def batch_translate(input_sentences, src_lang, tgt_lang, model, tokenizer, ip):\n",
    "    translations = []\n",
    "    for i in tqdm(range(0, len(input_sentences), BATCH_SIZE)):\n",
    "        batch = input_sentences[i : i + BATCH_SIZE]\n",
    "        # print(\"batch: \", batch)\n",
    "\n",
    "        # Preprocess the batch and extract entity mappings\n",
    "        batch = ip.preprocess_batch(batch, src_lang=src_lang, tgt_lang=tgt_lang)\n",
    "        # print(\"batch after pre-process: \", batch)\n",
    "\n",
    "        # Tokenize the batch and generate input encodings\n",
    "        inputs = tokenizer(\n",
    "            batch,\n",
    "            truncation=True,\n",
    "            padding=\"longest\",\n",
    "            return_tensors=\"pt\",\n",
    "            return_attention_mask=True,\n",
    "        ).to(DEVICE)\n",
    "        print(\"inputs: \", inputs)\n",
    "\n",
    "        # Generate translations using the model\n",
    "        with torch.no_grad():\n",
    "            # generated_tokens = model.generate(\n",
    "            outputs = model.generate(\n",
    "                **inputs,\n",
    "                use_cache=True,\n",
    "                min_length=0,\n",
    "                max_length=256,\n",
    "                num_beams=5,\n",
    "                num_return_sequences=1, # TODO temp\n",
    "                output_scores=True,\n",
    "                output_logits=True,\n",
    "                return_dict_in_generate=True,\n",
    "\n",
    "            )\n",
    "            \n",
    "            outputs.beam_indices = outputs.beam_indices.cpu()\n",
    "            # print(\"beam_indices: \",len(outputs.beam_indices[0]), outputs.beam_indices)\n",
    "            outputs.logits = tuple(logits.cpu() for logits in outputs.logits)               \n",
    "            # print(\"Beam index logits: \", outputs.logits)\n",
    "        # Decode the generated tokens into text\n",
    "        generated_tokens = outputs.sequences\n",
    "        # print(\"len generated_tokens: \", (generated_tokens[0]).shape)\n",
    "        vector = generated_tokens.detach().cpu().tolist()\n",
    "        print(\"length of outputs vectors: \", len(vector), len(vector[0]))\n",
    "        # print(\"vector of generated_tokens: \", vector)\n",
    "\n",
    "\n",
    "\n",
    "        with tokenizer.as_target_tokenizer():\n",
    "            decoded_op = tokenizer.batch_decode(\n",
    "                vector,\n",
    "                skip_special_tokens=True,\n",
    "                clean_up_tokenization_spaces=True,\n",
    "            )\n",
    "        print(\" length decoded_op: \", len(decoded_op), len(decoded_op[0]))\n",
    "         \n",
    "        # 1. Resolve logits for the best beam from these inputs\n",
    "        #    (would be a tuple of tensoors of shape of [tokens?, batch_size, vocab])\n",
    "        best_logits = resolve_logits_for_best_beam(outputs, num_beams=5)\n",
    "        # print(\"best_logits: \", best_logits)\n",
    "\n",
    "        # 2. Get the logits before New Delhi\n",
    "        #    (would be a tensor of shape of [batch_size, vocab])\n",
    "        start_logits = get_logits_for_span(best_logits, outputs.sequences, tokenizer, [ \"नानी\"]*BATCH_SIZE)\n",
    "        print( \"start_logits: \", start_logits)\n",
    "        print(\"Length of start_logits: \", len(start_logits), len(start_logits[0]))\n",
    "        # TODO convert to prob by using softmax\n",
    "\n",
    "\n",
    "        # Postprocess the translations, including entity replacement\n",
    "        translations += ip.postprocess_batch(decoded_op, lang=tgt_lang)\n",
    "\n",
    "\n",
    "\n",
    "        del inputs\n",
    "        torch.cuda.empty_cache()\n",
    "\n",
    "    return translations"
   ]
  },
  {
   "cell_type": "code",
   "execution_count": 7,
   "metadata": {},
   "outputs": [
    {
     "name": "stderr",
     "output_type": "stream",
     "text": [
      "  0%|          | 0/2 [00:00<?, ?it/s]"
     ]
    },
    {
     "name": "stdout",
     "output_type": "stream",
     "text": [
      "inputs:  {'input_ids': tensor([[    4,    15,   362, 14624, 17973,   436,     9,     6,  1811,   978,\n",
      "             5,     2],\n",
      "        [    1,     1,     1,     4,    15,   362, 14624, 17973,  3197,   102,\n",
      "             5,     2],\n",
      "        [    1,     1,     4,    15,   362, 14624, 17973,  3197,   107, 15964,\n",
      "             5,     2],\n",
      "        [    1,     1,     4,    15,   362, 14624, 17973,  3197,   107,   211,\n",
      "             5,     2]], device='cuda:0'), 'attention_mask': tensor([[1, 1, 1, 1, 1, 1, 1, 1, 1, 1, 1, 1],\n",
      "        [0, 0, 0, 1, 1, 1, 1, 1, 1, 1, 1, 1],\n",
      "        [0, 0, 1, 1, 1, 1, 1, 1, 1, 1, 1, 1],\n",
      "        [0, 0, 1, 1, 1, 1, 1, 1, 1, 1, 1, 1]], device='cuda:0')}\n"
     ]
    },
    {
     "name": "stderr",
     "output_type": "stream",
     "text": [
      " 50%|█████     | 1/2 [00:00<00:00,  1.13it/s]"
     ]
    },
    {
     "name": "stdout",
     "output_type": "stream",
     "text": [
      "length of outputs vectors:  4 14\n",
      " length decoded_op:  4 33\n",
      "lengt of sequences 4\n",
      "seq tensor([    2,  1653,  8911,  3228,     9, 15933,   167,  3070,     6,     2,\n",
      "            1,     1,     1,     1], device='cuda:0') logit_pos []\n",
      "seq tensor([    2,  1653,  8911, 13343,  2507,  1423,    33,     6,     2,     1,\n",
      "            1,     1,     1,     1], device='cuda:0') logit_pos [2]\n",
      "seq tensor([    2,  1653,  8911,   219, 10466,    13, 14855,   458,    20,  2507,\n",
      "         1423,     8,     6,     2], device='cuda:0') logit_pos [2, 2]\n",
      "seq tensor([   2, 1653, 8911,  219, 2208,   20, 2507, 1423,   33,    6,    2,    1,\n",
      "           1,    1], device='cuda:0') logit_pos [2, 2, 2]\n",
      "start_logits:  tensor([[-0.9370, -0.9375,  0.2827,  ..., -0.9375, -0.9375, -0.9375],\n",
      "        [-0.9370, -0.9375,  0.2827,  ..., -0.9375, -0.9375, -0.9375],\n",
      "        [-0.9370, -0.9375,  0.2827,  ..., -0.9375, -0.9375, -0.9375],\n",
      "        [-0.9370, -0.9375,  0.2827,  ..., -0.9375, -0.9375, -0.9375]],\n",
      "       dtype=torch.float16)\n",
      "Length of start_logits:  4 122672\n",
      "inputs:  {'input_ids': tensor([[    4,    15,   362, 14624, 17973,  3197,   107,   200,     5,     2]],\n",
      "       device='cuda:0'), 'attention_mask': tensor([[1, 1, 1, 1, 1, 1, 1, 1, 1, 1]], device='cuda:0')}\n"
     ]
    },
    {
     "name": "stderr",
     "output_type": "stream",
     "text": [
      "100%|██████████| 2/2 [00:01<00:00,  1.62it/s]"
     ]
    },
    {
     "name": "stdout",
     "output_type": "stream",
     "text": [
      "length of outputs vectors:  1 11\n",
      " length decoded_op:  1 42\n",
      "lengt of sequences 1\n",
      "seq tensor([   2, 1653, 8911,  219,  947,   20, 2507, 1423,   33,    6,    2],\n",
      "       device='cuda:0') logit_pos []\n",
      "start_logits:  tensor([[-0.9678, -0.9678,  1.3027,  ..., -0.9678, -0.9678, -0.9678]],\n",
      "       dtype=torch.float16)\n",
      "Length of start_logits:  1 122672\n"
     ]
    },
    {
     "name": "stderr",
     "output_type": "stream",
     "text": [
      "\n"
     ]
    }
   ],
   "source": [
    "# import the test_sentences_eng.txt file data as sents\n",
    "\n",
    "# sents = ['The river is blue.', 'My uncle wearing blue coat.', 'My maternal aunt went to the river bank.', \"The doctor went to bank for money.\"]\n",
    "sents=['My maternal aunt went to the river bank.', 'My maternal aunt loves me.', \n",
    "       'My maternal aunt loves her grandchildren.', \"My maternal aunt loves her children.\", \n",
    "       \"My maternal aunt loves her family.\",\n",
    "       ]   \n",
    "src_lang = \"eng_Latn\"\n",
    "\n",
    "tgt_lang = 'hin_Deva'\n",
    "# print(lang)\n",
    "translations = batch_translate(sents, src_lang, tgt_lang, en_indic_model, en_indic_tokenizer, ip_en_ind)\n"
   ]
  },
  {
   "cell_type": "code",
   "execution_count": 8,
   "metadata": {},
   "outputs": [
    {
     "name": "stdout",
     "output_type": "stream",
     "text": [
      "['मेरी नानी नदी के किनारे गई थीं। ', 'मेरी नानी मुझसे प्यार करती हैं। ', 'मेरी नानी अपने पोते-पोतियों से प्यार करती है। ', 'मेरी नानी अपने बच्चों से प्यार करती हैं। ', 'मेरी नानी अपने परिवार से प्यार करती हैं। ']\n"
     ]
    }
   ],
   "source": [
    "print(translations)"
   ]
  },
  {
   "cell_type": "code",
   "execution_count": null,
   "metadata": {},
   "outputs": [],
   "source": []
  }
 ],
 "metadata": {
  "kernelspec": {
   "display_name": "base",
   "language": "python",
   "name": "python3"
  },
  "language_info": {
   "codemirror_mode": {
    "name": "ipython",
    "version": 3
   },
   "file_extension": ".py",
   "mimetype": "text/x-python",
   "name": "python",
   "nbconvert_exporter": "python",
   "pygments_lexer": "ipython3",
   "version": "3.9.19"
  }
 },
 "nbformat": 4,
 "nbformat_minor": 2
}

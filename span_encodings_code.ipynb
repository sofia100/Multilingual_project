{
 "cells": [
  {
   "cell_type": "code",
   "execution_count": 1,
   "metadata": {},
   "outputs": [
    {
     "name": "stdout",
     "output_type": "stream",
     "text": [
      "env: CUDA_VISIBLE_DEVICES=3,5,7\n"
     ]
    }
   ],
   "source": [
    "%env CUDA_VISIBLE_DEVICES= 3,5,7"
   ]
  },
  {
   "cell_type": "code",
   "execution_count": 2,
   "metadata": {},
   "outputs": [],
   "source": [
    "import os\n",
    "os.environ['HF_HOME'] = '/home/sofia/cache_custom'"
   ]
  },
  {
   "cell_type": "code",
   "execution_count": 10,
   "metadata": {},
   "outputs": [
    {
     "name": "stdout",
     "output_type": "stream",
     "text": [
      "cuda\n"
     ]
    }
   ],
   "source": [
    "import torch\n",
    "from transformers import AutoModelForSeq2SeqLM, BitsAndBytesConfig\n",
    "from IndicTransToolkit import IndicProcessor\n",
    "from transformers import AutoModelForSeq2SeqLM, AutoTokenizer\n",
    "from tqdm import tqdm\n",
    "from torch.nn.functional import softmax\n",
    "\n",
    "\n",
    "BATCH_SIZE = 16 # edited from 4\n",
    "DEVICE = \"cuda\" if torch.cuda.is_available() else \"cpu\"\n",
    "quantization = None\n",
    "print(DEVICE)"
   ]
  },
  {
   "cell_type": "code",
   "execution_count": 4,
   "metadata": {},
   "outputs": [],
   "source": [
    "import importlib\n",
    "import possible_indic_relations as poss_indic_rel\n",
    "# Reload the module to reflect changes\n",
    "importlib.reload(poss_indic_rel)\n",
    "\n",
    "pir= poss_indic_rel.possible_relations\n",
    "pir\n",
    "\n",
    "ambiguos_words = list(pir.keys())"
   ]
  },
  {
   "cell_type": "code",
   "execution_count": 5,
   "metadata": {},
   "outputs": [],
   "source": [
    "def initialize_model_and_tokenizer(ckpt_dir, quantization):\n",
    "    if quantization == \"4-bit\":\n",
    "        qconfig = BitsAndBytesConfig(\n",
    "            load_in_4bit=True,\n",
    "            bnb_4bit_use_double_quant=True,\n",
    "            bnb_4bit_compute_dtype=torch.bfloat16,\n",
    "        )\n",
    "    elif quantization == \"8-bit\":\n",
    "        qconfig = BitsAndBytesConfig(\n",
    "            load_in_8bit=True,\n",
    "            bnb_8bit_use_double_quant=True,\n",
    "            bnb_8bit_compute_dtype=torch.bfloat16,\n",
    "        )\n",
    "    else:\n",
    "        qconfig = None\n",
    "\n",
    "    tokenizer = AutoTokenizer.from_pretrained(ckpt_dir, trust_remote_code=True)\n",
    "    model = AutoModelForSeq2SeqLM.from_pretrained(\n",
    "        ckpt_dir,\n",
    "        trust_remote_code=True,\n",
    "        low_cpu_mem_usage=True,\n",
    "        quantization_config=qconfig,\n",
    "    )\n",
    "\n",
    "    if qconfig == None:\n",
    "        model = model.to(DEVICE)\n",
    "        if DEVICE == \"cuda\":\n",
    "            model.half()\n",
    "\n",
    "    model.eval()\n",
    "\n",
    "    return tokenizer, model"
   ]
  },
  {
   "cell_type": "code",
   "execution_count": 6,
   "metadata": {},
   "outputs": [],
   "source": [
    "en_indic_ckpt_dir = \"ai4bharat/indictrans2-en-indic-1B\"  # ai4bharat/indictrans2-en-indic-dist-200M\n",
    "en_indic_tokenizer, en_indic_model = initialize_model_and_tokenizer(en_indic_ckpt_dir,  quantization)\n",
    "\n",
    "ip_en_ind = IndicProcessor(inference=True)"
   ]
  },
  {
   "cell_type": "code",
   "execution_count": 7,
   "metadata": {},
   "outputs": [],
   "source": [
    "lang_script_list = [\n",
    "                           'ory_Orya',\n",
    "                     'pan_Guru', 'ben_Beng', \n",
    "                       'mal_Mlym',\n",
    "                           'mar_Deva', \n",
    "                           'tam_Taml', 'guj_Gujr', \n",
    "                           'tel_Telu', 'hin_Deva', \n",
    "                           'kan_Knda', \n",
    "                           ]"
   ]
  },
  {
   "cell_type": "code",
   "execution_count": 11,
   "metadata": {},
   "outputs": [
    {
     "name": "stderr",
     "output_type": "stream",
     "text": [
      "  0%|          | 0/1 [00:00<?, ?it/s]"
     ]
    },
    {
     "name": "stdout",
     "output_type": "stream",
     "text": [
      "Batch: ['grandmother', 'grandfather', 'uncle', 'aunt', 'brother-in-law', 'sister-in-law', 'cousin', 'child', 'nephew', 'niece']\n",
      "Batch: ['eng_Latn ory_Orya grandmother', 'eng_Latn ory_Orya grandfather', 'eng_Latn ory_Orya uncle', 'eng_Latn ory_Orya aunt', 'eng_Latn ory_Orya brother-in-law', 'eng_Latn ory_Orya sister-in-law', 'eng_Latn ory_Orya cousin', 'eng_Latn ory_Orya child', 'eng_Latn ory_Orya nephew', 'eng_Latn ory_Orya niece']\n"
     ]
    },
    {
     "name": "stderr",
     "output_type": "stream",
     "text": [
      "100%|██████████| 1/1 [00:00<00:00,  2.16it/s]\n"
     ]
    },
    {
     "name": "stdout",
     "output_type": "stream",
     "text": [
      "1st generated token:  tensor([    2, 41445,   241,    30,     2,     1,     1,     1,     1],\n",
      "       device='cuda:0')\n",
      "1st vector:  [2, 41445, 241, 30, 2, 1, 1, 1, 1]\n",
      "1st decoded_op:  जेजेमा'\n",
      "translations:  [\"ଜେଜେମା'\", 'ଜେଜେବାପା ', 'ମାମୁଁ। ', 'ମାଉସୀ। ', 'ଶ୍ୱଶୁର-ଶ୍ୱଶୁର ', 'ଶ୍ୱଶୁର। ', 'ସମ୍ପର୍କୀଯ଼ ଭାଇ। ', 'ଶିଶୁ ', 'ପୁତୁରା ', 'ଭାଣିଜୀ ']\n"
     ]
    },
    {
     "name": "stderr",
     "output_type": "stream",
     "text": [
      "  0%|          | 0/1 [00:00<?, ?it/s]"
     ]
    },
    {
     "name": "stdout",
     "output_type": "stream",
     "text": [
      "Batch: ['grandmother', 'grandfather', 'uncle', 'aunt', 'brother-in-law', 'sister-in-law', 'cousin', 'child', 'nephew', 'niece']\n",
      "Batch: ['eng_Latn pan_Guru grandmother', 'eng_Latn pan_Guru grandfather', 'eng_Latn pan_Guru uncle', 'eng_Latn pan_Guru aunt', 'eng_Latn pan_Guru brother-in-law', 'eng_Latn pan_Guru sister-in-law', 'eng_Latn pan_Guru cousin', 'eng_Latn pan_Guru child', 'eng_Latn pan_Guru nephew', 'eng_Latn pan_Guru niece']\n"
     ]
    },
    {
     "name": "stderr",
     "output_type": "stream",
     "text": [
      "100%|██████████| 1/1 [00:00<00:00,  2.41it/s]\n"
     ]
    },
    {
     "name": "stdout",
     "output_type": "stream",
     "text": [
      "1st generated token:  tensor([    2, 29498,   640,     2,     1,     1,     1], device='cuda:0')\n",
      "1st vector:  [2, 29498, 640, 2, 1, 1, 1]\n",
      "1st decoded_op:  दादी मां \n",
      "translations:  ['ਦਾਦੀ ਮਾਂ ', 'ਦਾਦਾ ਜੀ ', 'ਚਾਚਾ ', 'ਮਾਸੀ ਜੀ। ', 'ਭਰਾ-ਸੱਸ ', 'ਭਰਜਾਈ ', 'ਚਚੇਰਾ ਭਰਾ ', 'ਬੱਚਾ ', 'ਭਤੀਜੇ ', 'ਭਤੀਜੀ ']\n"
     ]
    },
    {
     "name": "stderr",
     "output_type": "stream",
     "text": [
      "  0%|          | 0/1 [00:00<?, ?it/s]"
     ]
    },
    {
     "name": "stdout",
     "output_type": "stream",
     "text": [
      "Batch: ['grandmother', 'grandfather', 'uncle', 'aunt', 'brother-in-law', 'sister-in-law', 'cousin', 'child', 'nephew', 'niece']\n",
      "Batch: ['eng_Latn ben_Beng grandmother', 'eng_Latn ben_Beng grandfather', 'eng_Latn ben_Beng uncle', 'eng_Latn ben_Beng aunt', 'eng_Latn ben_Beng brother-in-law', 'eng_Latn ben_Beng sister-in-law', 'eng_Latn ben_Beng cousin', 'eng_Latn ben_Beng child', 'eng_Latn ben_Beng nephew', 'eng_Latn ben_Beng niece']\n"
     ]
    },
    {
     "name": "stderr",
     "output_type": "stream",
     "text": [
      "100%|██████████| 1/1 [00:00<00:00,  3.09it/s]\n"
     ]
    },
    {
     "name": "stdout",
     "output_type": "stream",
     "text": [
      "1st generated token:  tensor([    2, 48446,   241,     2,     1,     1], device='cuda:0')\n",
      "1st vector:  [2, 48446, 241, 2, 1, 1]\n",
      "1st decoded_op:  दिदिमा \n",
      "translations:  ['দিদিমা ', 'দাদা। ', 'চাচা ', 'আন্টি। ', 'শ্যালক ', 'শ্যালিকা ', 'চাচাত ভাই। ', 'শিশু। ', 'ভাগ্নে ', 'ভাগ্নি ']\n"
     ]
    },
    {
     "name": "stderr",
     "output_type": "stream",
     "text": [
      "  0%|          | 0/1 [00:00<?, ?it/s]"
     ]
    },
    {
     "name": "stdout",
     "output_type": "stream",
     "text": [
      "Batch: ['grandmother', 'grandfather', 'uncle', 'aunt', 'brother-in-law', 'sister-in-law', 'cousin', 'child', 'nephew', 'niece']\n",
      "Batch: ['eng_Latn mal_Mlym grandmother', 'eng_Latn mal_Mlym grandfather', 'eng_Latn mal_Mlym uncle', 'eng_Latn mal_Mlym aunt', 'eng_Latn mal_Mlym brother-in-law', 'eng_Latn mal_Mlym sister-in-law', 'eng_Latn mal_Mlym cousin', 'eng_Latn mal_Mlym child', 'eng_Latn mal_Mlym nephew', 'eng_Latn mal_Mlym niece']\n"
     ]
    },
    {
     "name": "stderr",
     "output_type": "stream",
     "text": [
      "100%|██████████| 1/1 [00:00<00:00,  2.16it/s]\n"
     ]
    },
    {
     "name": "stdout",
     "output_type": "stream",
     "text": [
      "1st generated token:  tensor([    2, 18823,  2914,  2826,     2,     1,     1], device='cuda:0')\n",
      "1st vector:  [2, 18823, 2914, 2826, 2, 1, 1]\n",
      "1st decoded_op:  मुत्तश्शि \n",
      "translations:  ['മുത്തശ്ശി ', 'മുത്തച്ഛൻ ', 'അമ്മാവൻ ', 'അമ്മായി. ', 'ഭാര്യാസഹോദരൻ ', 'ഭാര്യാസഹോദരി ', 'കസിൻ ', 'കുട്ടി. ', 'അനന്തരവൻ ', 'അനന്തരവൾ ']\n"
     ]
    },
    {
     "name": "stderr",
     "output_type": "stream",
     "text": [
      "  0%|          | 0/1 [00:00<?, ?it/s]"
     ]
    },
    {
     "name": "stdout",
     "output_type": "stream",
     "text": [
      "Batch: ['grandmother', 'grandfather', 'uncle', 'aunt', 'brother-in-law', 'sister-in-law', 'cousin', 'child', 'nephew', 'niece']\n",
      "Batch: ['eng_Latn mar_Deva grandmother', 'eng_Latn mar_Deva grandfather', 'eng_Latn mar_Deva uncle', 'eng_Latn mar_Deva aunt', 'eng_Latn mar_Deva brother-in-law', 'eng_Latn mar_Deva sister-in-law', 'eng_Latn mar_Deva cousin', 'eng_Latn mar_Deva child', 'eng_Latn mar_Deva nephew', 'eng_Latn mar_Deva niece']\n"
     ]
    },
    {
     "name": "stderr",
     "output_type": "stream",
     "text": [
      "100%|██████████| 1/1 [00:00<00:00,  2.55it/s]\n"
     ]
    },
    {
     "name": "stdout",
     "output_type": "stream",
     "text": [
      "1st generated token:  tensor([    2, 32967,     2,     1,     1], device='cuda:0')\n",
      "1st vector:  [2, 32967, 2, 1, 1]\n",
      "1st decoded_op:  आजी \n",
      "translations:  ['आजी ', 'आजोबा. ', 'काका. ', 'मावशी. ', 'मेहुणा ', 'मेहुणी ', 'चुलत भाऊ ', 'बाळ. ', 'पुतण्या ', 'भाची ']\n"
     ]
    },
    {
     "name": "stderr",
     "output_type": "stream",
     "text": [
      "  0%|          | 0/1 [00:00<?, ?it/s]"
     ]
    },
    {
     "name": "stdout",
     "output_type": "stream",
     "text": [
      "Batch: ['grandmother', 'grandfather', 'uncle', 'aunt', 'brother-in-law', 'sister-in-law', 'cousin', 'child', 'nephew', 'niece']\n",
      "Batch: ['eng_Latn tam_Taml grandmother', 'eng_Latn tam_Taml grandfather', 'eng_Latn tam_Taml uncle', 'eng_Latn tam_Taml aunt', 'eng_Latn tam_Taml brother-in-law', 'eng_Latn tam_Taml sister-in-law', 'eng_Latn tam_Taml cousin', 'eng_Latn tam_Taml child', 'eng_Latn tam_Taml nephew', 'eng_Latn tam_Taml niece']\n"
     ]
    },
    {
     "name": "stderr",
     "output_type": "stream",
     "text": [
      "100%|██████████| 1/1 [00:00<00:00,  3.06it/s]\n"
     ]
    },
    {
     "name": "stdout",
     "output_type": "stream",
     "text": [
      "1st generated token:  tensor([  2, 511, 956,   2,   1], device='cuda:0')\n",
      "1st vector:  [2, 511, 956, 2, 1]\n",
      "1st decoded_op:  पाट्टि \n",
      "translations:  ['பாட்டி ', 'தாத்தா. ', 'மாமா ', 'அத்தை ', 'மைத்துனர் ', 'மைத்துனர் ', 'உறவினர். ', 'குழந்தை. ', 'மருமகன் ', 'மருமகள் ']\n"
     ]
    },
    {
     "name": "stderr",
     "output_type": "stream",
     "text": [
      "  0%|          | 0/1 [00:00<?, ?it/s]"
     ]
    },
    {
     "name": "stdout",
     "output_type": "stream",
     "text": [
      "Batch: ['grandmother', 'grandfather', 'uncle', 'aunt', 'brother-in-law', 'sister-in-law', 'cousin', 'child', 'nephew', 'niece']\n",
      "Batch: ['eng_Latn guj_Gujr grandmother', 'eng_Latn guj_Gujr grandfather', 'eng_Latn guj_Gujr uncle', 'eng_Latn guj_Gujr aunt', 'eng_Latn guj_Gujr brother-in-law', 'eng_Latn guj_Gujr sister-in-law', 'eng_Latn guj_Gujr cousin', 'eng_Latn guj_Gujr child', 'eng_Latn guj_Gujr nephew', 'eng_Latn guj_Gujr niece']\n"
     ]
    },
    {
     "name": "stderr",
     "output_type": "stream",
     "text": [
      "100%|██████████| 1/1 [00:00<00:00,  3.50it/s]\n"
     ]
    },
    {
     "name": "stdout",
     "output_type": "stream",
     "text": [
      "1st generated token:  tensor([    2, 29498,     2,     1,     1,     1], device='cuda:0')\n",
      "1st vector:  [2, 29498, 2, 1, 1, 1]\n",
      "1st decoded_op:  दादी \n",
      "translations:  ['દાદી ', 'દાદા ', 'કાકા ', 'કાકી ', 'સાળા ', 'સાસુ-સસરા ', 'પિતરાઇ ભાઇ ', 'બાળક ', 'ભત્રીજો ', 'ભત્રીજી ']\n"
     ]
    },
    {
     "name": "stderr",
     "output_type": "stream",
     "text": [
      "  0%|          | 0/1 [00:00<?, ?it/s]"
     ]
    },
    {
     "name": "stdout",
     "output_type": "stream",
     "text": [
      "Batch: ['grandmother', 'grandfather', 'uncle', 'aunt', 'brother-in-law', 'sister-in-law', 'cousin', 'child', 'nephew', 'niece']\n",
      "Batch: ['eng_Latn tel_Telu grandmother', 'eng_Latn tel_Telu grandfather', 'eng_Latn tel_Telu uncle', 'eng_Latn tel_Telu aunt', 'eng_Latn tel_Telu brother-in-law', 'eng_Latn tel_Telu sister-in-law', 'eng_Latn tel_Telu cousin', 'eng_Latn tel_Telu child', 'eng_Latn tel_Telu nephew', 'eng_Latn tel_Telu niece']\n"
     ]
    },
    {
     "name": "stderr",
     "output_type": "stream",
     "text": [
      "100%|██████████| 1/1 [00:00<00:00,  3.26it/s]\n"
     ]
    },
    {
     "name": "stdout",
     "output_type": "stream",
     "text": [
      "1st generated token:  tensor([   2, 1774, 1476,    2,    1,    1], device='cuda:0')\n",
      "1st vector:  [2, 1774, 1476, 2, 1, 1]\n",
      "1st decoded_op:  अम्मम्म \n",
      "translations:  ['అమ్మమ్మ ', 'తాతయ్య ', 'అంకుల్ ', 'అత్తగారు ', 'బావమరిది ', 'చెల్లెలు ', 'బంధువు ', 'పిల్లవాడు. ', 'మేనల్లుడు ', 'మేనకోడలు ']\n"
     ]
    },
    {
     "name": "stderr",
     "output_type": "stream",
     "text": [
      "  0%|          | 0/1 [00:00<?, ?it/s]"
     ]
    },
    {
     "name": "stdout",
     "output_type": "stream",
     "text": [
      "Batch: ['grandmother', 'grandfather', 'uncle', 'aunt', 'brother-in-law', 'sister-in-law', 'cousin', 'child', 'nephew', 'niece']\n",
      "Batch: ['eng_Latn hin_Deva grandmother', 'eng_Latn hin_Deva grandfather', 'eng_Latn hin_Deva uncle', 'eng_Latn hin_Deva aunt', 'eng_Latn hin_Deva brother-in-law', 'eng_Latn hin_Deva sister-in-law', 'eng_Latn hin_Deva cousin', 'eng_Latn hin_Deva child', 'eng_Latn hin_Deva nephew', 'eng_Latn hin_Deva niece']\n"
     ]
    },
    {
     "name": "stderr",
     "output_type": "stream",
     "text": [
      "100%|██████████| 1/1 [00:00<00:00,  3.76it/s]\n"
     ]
    },
    {
     "name": "stdout",
     "output_type": "stream",
     "text": [
      "1st generated token:  tensor([    2, 29498, 12075,     2,     1], device='cuda:0')\n",
      "1st vector:  [2, 29498, 12075, 2, 1]\n",
      "1st decoded_op:  दादी माँ \n",
      "translations:  ['दादी माँ ', 'दादा जी। ', 'चाचा ', 'चाची ', 'बहनोई ', 'ननद ', 'चचेरा भाई ', 'बच्चा। ', 'भतीजे ', 'भतीजी ']\n"
     ]
    },
    {
     "name": "stderr",
     "output_type": "stream",
     "text": [
      "  0%|          | 0/1 [00:00<?, ?it/s]"
     ]
    },
    {
     "name": "stdout",
     "output_type": "stream",
     "text": [
      "Batch: ['grandmother', 'grandfather', 'uncle', 'aunt', 'brother-in-law', 'sister-in-law', 'cousin', 'child', 'nephew', 'niece']\n",
      "Batch: ['eng_Latn kan_Knda grandmother', 'eng_Latn kan_Knda grandfather', 'eng_Latn kan_Knda uncle', 'eng_Latn kan_Knda aunt', 'eng_Latn kan_Knda brother-in-law', 'eng_Latn kan_Knda sister-in-law', 'eng_Latn kan_Knda cousin', 'eng_Latn kan_Knda child', 'eng_Latn kan_Knda nephew', 'eng_Latn kan_Knda niece']\n"
     ]
    },
    {
     "name": "stderr",
     "output_type": "stream",
     "text": [
      "100%|██████████| 1/1 [00:00<00:00,  3.17it/s]"
     ]
    },
    {
     "name": "stdout",
     "output_type": "stream",
     "text": [
      "1st generated token:  tensor([    2,  4565, 35330,     2,     1,     1], device='cuda:0')\n",
      "1st vector:  [2, 4565, 35330, 2, 1, 1]\n",
      "1st decoded_op:  अज्जि \n",
      "translations:  ['ಅಜ್ಜಿ ', 'ಅಜ್ಜ ', 'ಚಿಕ್ಕಪ್ಪ ', 'ಚಿಕ್ಕಮ್ಮ. ', 'ಸೋದರ ಸಂಬಂಧಿ ', 'ಅತ್ತಿಗೆ ', 'ಸೋದರಸಂಬಂಧಿ ', 'ಮಗು. ', 'ಸೋದರಳಿಯ ', 'ಸೋದರ ಸೊಸೆ ']\n"
     ]
    },
    {
     "name": "stderr",
     "output_type": "stream",
     "text": [
      "\n"
     ]
    },
    {
     "data": {
      "text/plain": [
       "{'ory_Orya': {\"ଜେଜେମା'\": [41445, 241, 30],\n",
       "  'ଜେଜେବାପା ': [41445, 1007, 1714],\n",
       "  'ମାମୁଁ। ': [9971, 19212, 6],\n",
       "  'ମାଉସୀ। ': [30261, 694, 6],\n",
       "  'ଶ୍ୱଶୁର-ଶ୍ୱଶୁର ': [21405, 699, 22252, 13, 21405, 699, 22252],\n",
       "  'ଶ୍ୱଶୁର। ': [21405, 699, 22252, 6],\n",
       "  'ସମ୍ପର୍କୀଯ଼ ଭାଇ। ': [60824, 3991, 6],\n",
       "  'ଶିଶୁ ': [3442],\n",
       "  'ପୁତୁରା ': [4300, 5686],\n",
       "  'ଭାଣିଜୀ ': [980, 9742, 795]},\n",
       " 'pan_Guru': {'ਦਾਦੀ ਮਾਂ ': [29498, 640],\n",
       "  'ਦਾਦਾ ਜੀ ': [15588, 613],\n",
       "  'ਚਾਚਾ ': [34059],\n",
       "  'ਮਾਸੀ ਜੀ। ': [65770, 613, 6],\n",
       "  'ਭਰਾ-ਸੱਸ ': [8327, 13, 116, 19, 115],\n",
       "  'ਭਰਜਾਈ ': [1144, 40842],\n",
       "  'ਚਚੇਰਾ ਭਰਾ ': [49615, 2656, 8327],\n",
       "  'ਬੱਚਾ ': [336, 19, 317],\n",
       "  'ਭਤੀਜੇ ': [39136, 1386],\n",
       "  'ਭਤੀਜੀ ': [39136, 795]},\n",
       " 'ben_Beng': {'দিদিমা ': [48446, 241],\n",
       "  'দাদা। ': [15588, 6],\n",
       "  'চাচা ': [34059],\n",
       "  'আন্টি। ': [5745, 102, 6],\n",
       "  'শ্যালক ': [649, 4692, 75],\n",
       "  'শ্যালিকা ': [649, 4692, 1525],\n",
       "  'চাচাত ভাই। ': [35407, 359, 3991, 6],\n",
       "  'শিশু। ': [3442, 6],\n",
       "  'ভাগ্নে ': [291, 27065],\n",
       "  'ভাগ্নি ': [291, 17389]},\n",
       " 'mal_Mlym': {'മുത്തശ്ശി ': [18823, 2914, 2826],\n",
       "  'മുത്തച്ഛൻ ': [18823, 5136, 28],\n",
       "  'അമ്മാവൻ ': [1774, 529, 28],\n",
       "  'അമ്മായി. ': [16343, 4],\n",
       "  'ഭാര്യാസഹോദരൻ ': [3954, 4109, 3426, 877, 28],\n",
       "  'ഭാര്യാസഹോദരി ': [3954, 4109, 3426, 50084],\n",
       "  'കസിൻ ': [43494, 28],\n",
       "  'കുട്ടി. ': [14325, 4],\n",
       "  'അനന്തരവൻ ': [1326, 13315, 128, 28],\n",
       "  'അനന്തരവൾ ': [1326, 13315, 128, 27]},\n",
       " 'mar_Deva': {'आजी ': [32967],\n",
       "  'आजोबा. ': [56799, 4],\n",
       "  'काका. ': [41565, 4],\n",
       "  'मावशी. ': [11701, 987, 4],\n",
       "  'मेहुणा ': [530, 7131, 1067],\n",
       "  'मेहुणी ': [530, 7131, 1730],\n",
       "  'चुलत भाऊ ': [6702, 119, 22699],\n",
       "  'बाळ. ': [6376, 4],\n",
       "  'पुतण्या ': [4300, 12291],\n",
       "  'भाची ': [4569, 362]},\n",
       " 'tam_Taml': {'பாட்டி ': [511, 956],\n",
       "  'தாத்தா. ': [14552, 3286, 4],\n",
       "  'மாமா ': [24501],\n",
       "  'அத்தை ': [213, 681],\n",
       "  'மைத்துனர் ': [1364, 864, 1488],\n",
       "  'உறவினர். ': [2901, 47743, 4],\n",
       "  'குழந்தை. ': [9219, 4],\n",
       "  'மருமகன் ': [45894, 319],\n",
       "  'மருமகள் ': [45894, 1022]},\n",
       " 'guj_Gujr': {'દાદી ': [29498],\n",
       "  'દાદા ': [15588],\n",
       "  'કાકા ': [41565],\n",
       "  'કાકી ': [64851],\n",
       "  'સાળા ': [1872, 1624],\n",
       "  'સાસુ-સસરા ': [63122, 13, 116, 41996],\n",
       "  'પિતરાઇ ભાઇ ': [6042, 18974, 3991],\n",
       "  'બાળક ': [6199],\n",
       "  'ભત્રીજો ': [980, 14910, 3204],\n",
       "  'ભત્રીજી ': [980, 14910, 795]},\n",
       " 'tel_Telu': {'అమ్మమ్మ ': [1774, 1476],\n",
       "  'తాతయ్య ': [14552, 4559],\n",
       "  'అంకుల్ ': [4272, 6246],\n",
       "  'అత్తగారు ': [11569, 20269],\n",
       "  'బావమరిది ': [19360, 143, 399, 468],\n",
       "  'చెల్లెలు ': [1978, 104, 124],\n",
       "  'బంధువు ': [2922, 3432],\n",
       "  'పిల్లవాడు. ': [5382, 12324, 4],\n",
       "  'మేనల్లుడు ': [14581, 471, 4645],\n",
       "  'మేనకోడలు ': [14581, 307, 12563]},\n",
       " 'hin_Deva': {'दादी माँ ': [29498, 12075],\n",
       "  'दादा जी। ': [15588, 613, 6],\n",
       "  'चाचा ': [34059],\n",
       "  'चाची ': [60684],\n",
       "  'बहनोई ': [4615, 49403],\n",
       "  'ननद ': [3544, 64],\n",
       "  'चचेरा भाई ': [49615, 2656, 3057],\n",
       "  'बच्चा। ': [13233, 6],\n",
       "  'भतीजे ': [39136, 1386],\n",
       "  'भतीजी ': [39136, 795]},\n",
       " 'kan_Knda': {'ಅಜ್ಜಿ ': [4565, 35330],\n",
       "  'ಅಜ್ಜ ': [44928],\n",
       "  'ಚಿಕ್ಕಪ್ಪ ': [2950, 378],\n",
       "  'ಚಿಕ್ಕಮ್ಮ. ': [2950, 1476, 4],\n",
       "  'ಸೋದರ ಸಂಬಂಧಿ ': [34385, 35471],\n",
       "  'ಅತ್ತಿಗೆ ': [213, 24430],\n",
       "  'ಸೋದರಸಂಬಂಧಿ ': [34385, 2182, 15841, 2603],\n",
       "  'ಮಗು. ': [15967, 4],\n",
       "  'ಸೋದರಳಿಯ ': [34385, 5999],\n",
       "  'ಸೋದರ ಸೊಸೆ ': [34385, 6324, 3658]}}"
      ]
     },
     "execution_count": 11,
     "metadata": {},
     "output_type": "execute_result"
    }
   ],
   "source": [
    "# word_trl=[]\n",
    "span_encodings = {}\n",
    "for lang in lang_script_list:\n",
    "#   if lang == 'ory_Orya':\n",
    "    span_encodings[lang] = {}\n",
    "    inputs = ambiguos_words\n",
    "    for i in tqdm(range(0, len(inputs), BATCH_SIZE)):\n",
    "        batch = inputs[i : i + BATCH_SIZE]\n",
    "        print(\"Batch:\", batch)  \n",
    "\n",
    "        # batch = ip_en_ind.preprocess_batch(words_ids[lang].keys().tolist(), src_lang=lang, tgt_lang=lang)\n",
    "        batch = ip_en_ind.preprocess_batch(batch, src_lang='eng_Latn', tgt_lang=lang)\n",
    "        print(\"Batch:\", batch)\n",
    "        # # Tokenize the batch and generate input encodings\n",
    "        inputs = en_indic_tokenizer(\n",
    "            batch,\n",
    "            truncation=True,\n",
    "            padding=\"longest\",\n",
    "            return_tensors=\"pt\",\n",
    "            return_attention_mask=True,\n",
    "        ).to(DEVICE)\n",
    "\n",
    "        with torch.no_grad():\n",
    "            # generated_tokens = model.generate(\n",
    "            outputs = en_indic_model.generate(\n",
    "                **inputs,\n",
    "                use_cache=True,\n",
    "                min_length=0,\n",
    "                max_length=256,\n",
    "                num_beams=5,\n",
    "                num_return_sequences=1, # TODO temp\n",
    "                output_scores=True,\n",
    "                output_logits=True,\n",
    "                return_dict_in_generate=True,\n",
    "\n",
    "            )\n",
    "            # print(\"Length of outputs.logits actual\", len(outputs.logits))\n",
    "            # print(\"Shape of outputs.logits actual\", outputs.logits[0].shape)\n",
    "\n",
    "            # print(\"Length of outputs.beam_indices actual\", len(outputs.beam_indices))\n",
    "            # print(\"Shape of outputs.beam_indices actual\", outputs.beam_indices.shape)\n",
    "            \n",
    "            outputs.beam_indices = outputs.beam_indices.cpu()\n",
    "            outputs.logits = tuple(logits.cpu() for logits in outputs.logits)               \n",
    "        # Decode the generated tokens into text\n",
    "        generated_tokens = outputs.sequences\n",
    "        # print(\"len generated_tokens: \", (generated_tokens[0]).shape)\n",
    "        print(\"1st generated token: \", generated_tokens[0])\n",
    "        vector = generated_tokens.detach().cpu().tolist()\n",
    "        # print(\"length of outputs vectors: \", len(vector), len(vector[0]))\n",
    "        # print(\"vector of generated_tokens: \", vector)\n",
    "        print(\"1st vector: \", vector[0])\n",
    "        \n",
    "\n",
    "\n",
    "        with en_indic_tokenizer.as_target_tokenizer():\n",
    "            decoded_op = en_indic_tokenizer.batch_decode(\n",
    "                vector,\n",
    "                skip_special_tokens=True,\n",
    "                clean_up_tokenization_spaces=True,\n",
    "            )\n",
    "\n",
    "        print(\"1st decoded_op: \", decoded_op[0])\n",
    "        # Postprocess the translations, including entity replacement\n",
    "        word_trl = ip_en_ind.postprocess_batch(decoded_op, lang=lang)\n",
    "\n",
    "        print(\"translations: \", word_trl)\n",
    "        for word in word_trl:\n",
    "            word_index = word_trl.index(word)\n",
    "            if word_index < len(vector):\n",
    "                span_encodings[lang][word] = vector[word_index]\n",
    "                # keep the items between '2' and '2' from span_encodings[lang][word]\n",
    "                start_idx = vector[word_index].index(2)\n",
    "                end_idx = vector[word_index].index(2, start_idx+1)\n",
    "                span_encodings[lang][word] = vector[word_index][start_idx+1:end_idx]\n",
    "            else:\n",
    "                print(f\"Index {word_index} out of range for vector of length {len(vector)}\")\n",
    "\n",
    "\n",
    "span_encodings"
   ]
  },
  {
   "cell_type": "code",
   "execution_count": 12,
   "metadata": {},
   "outputs": [],
   "source": [
    "# write span_encoding into a file named \"span_relations_encodings.json\"\n",
    "import json\n",
    "with open(\"span_relations_encodings.json\", \"w\") as f:\n",
    "    json.dump(span_encodings, f)\n",
    "\n",
    "    "
   ]
  },
  {
   "cell_type": "code",
   "execution_count": null,
   "metadata": {},
   "outputs": [],
   "source": []
  }
 ],
 "metadata": {
  "kernelspec": {
   "display_name": "base",
   "language": "python",
   "name": "python3"
  },
  "language_info": {
   "codemirror_mode": {
    "name": "ipython",
    "version": 3
   },
   "file_extension": ".py",
   "mimetype": "text/x-python",
   "name": "python",
   "nbconvert_exporter": "python",
   "pygments_lexer": "ipython3",
   "version": "3.9.19"
  }
 },
 "nbformat": 4,
 "nbformat_minor": 2
}

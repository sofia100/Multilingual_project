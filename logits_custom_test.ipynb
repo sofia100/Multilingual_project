{
 "cells": [
  {
   "cell_type": "code",
   "execution_count": 1,
   "metadata": {},
   "outputs": [
    {
     "name": "stdout",
     "output_type": "stream",
     "text": [
      "env: CUDA_VISIBLE_DEVICES=3,5,7\n"
     ]
    }
   ],
   "source": [
    "%env CUDA_VISIBLE_DEVICES= 3,5,7\n"
   ]
  },
  {
   "cell_type": "code",
   "execution_count": 2,
   "metadata": {},
   "outputs": [],
   "source": [
    "import os\n",
    "os.environ['HF_HOME'] = '/home/sofia/cache_custom'"
   ]
  },
  {
   "cell_type": "markdown",
   "metadata": {},
   "source": [
    "## IndicTrans2"
   ]
  },
  {
   "cell_type": "code",
   "execution_count": 3,
   "metadata": {},
   "outputs": [
    {
     "name": "stdout",
     "output_type": "stream",
     "text": [
      "cuda\n"
     ]
    }
   ],
   "source": [
    "import torch\n",
    "from transformers import AutoModelForSeq2SeqLM, BitsAndBytesConfig\n",
    "from IndicTransToolkit import IndicProcessor\n",
    "from transformers import AutoModelForSeq2SeqLM, AutoTokenizer\n",
    "from tqdm import tqdm\n",
    "from torch.nn.functional import softmax\n",
    "\n",
    "\n",
    "BATCH_SIZE = 4 # edited from 4\n",
    "DEVICE = \"cuda\" if torch.cuda.is_available() else \"cpu\"\n",
    "quantization = None\n",
    "print(DEVICE)"
   ]
  },
  {
   "cell_type": "code",
   "execution_count": 4,
   "metadata": {},
   "outputs": [
    {
     "name": "stdout",
     "output_type": "stream",
     "text": [
      "4.44.2\n"
     ]
    }
   ],
   "source": [
    "import transformers\n",
    "print(transformers.__version__)"
   ]
  },
  {
   "cell_type": "code",
   "execution_count": 5,
   "metadata": {},
   "outputs": [],
   "source": [
    "import importlib\n",
    "import possible_indic_relations as poss_indic_rel\n",
    "import span_encodings as sp_enc\n",
    "# Reload the module to reflect changes\n",
    "importlib.reload(poss_indic_rel)\n",
    "importlib.reload(sp_enc)\n",
    "\n",
    "pir= poss_indic_rel.possible_relations\n",
    "pir\n",
    "\n",
    "ambiguos_words = list(pir.keys())\n",
    "span_encodings = sp_enc.span_encodings"
   ]
  },
  {
   "cell_type": "code",
   "execution_count": null,
   "metadata": {},
   "outputs": [
    {
     "data": {
      "text/plain": [
       "{\"ଜେଜେମା'\": [41445, 241, 30],\n",
       " 'ଜେଜେବାପା ': [41445, 1007, 1714],\n",
       " 'ମାମୁଁ। ': [9971, 19212, 6],\n",
       " 'ମାଉସୀ। ': [30261, 694, 6],\n",
       " 'ଶ୍ୱଶୁର-ଶ୍ୱଶୁର ': [21405, 699, 22252, 13, 21405, 699, 22252],\n",
       " 'ଶ୍ୱଶୁର। ': [21405, 699, 22252, 6],\n",
       " 'ସମ୍ପର୍କୀଯ଼ ଭାଇ। ': [60824, 3991, 6],\n",
       " 'ଶିଶୁ ': [3442],\n",
       " 'ପୁତୁରା ': [4300, 5686],\n",
       " 'ଭାଣିଜୀ ': [980, 9742, 795],\n",
       " 'None': [2],\n",
       " 'ଜେଜେମା': [41445, 241],\n",
       " 'ଆଈ': [740],\n",
       " 'ଜେଜେବାପା': [41445, 1007, 1714],\n",
       " 'ଅଜା': [62200],\n",
       " 'ବଡ଼ବାପା': [1111, 1007, 1714],\n",
       " 'ଦାଦା': [15588],\n",
       " 'ମାମୁଁ': [9971, 19212],\n",
       " 'ପିଉସା': [52157, 964],\n",
       " 'ମଉସା': [63293, 964],\n",
       " 'ପିଉସୀ': [52157, 694],\n",
       " 'ମାଉସୀ': [30261, 694],\n",
       " 'ମାଇଁ': [10859, 2304],\n",
       " 'ବଡ଼ମାଆ': [1111, 241, 1109],\n",
       " 'ଖୁଡ଼ି': [3617, 4405],\n",
       " 'ବଡ଼ ଶଳା': [1111, 649, 1624],\n",
       " 'ଶଳା': [649, 1624],\n",
       " 'ଭିଣେଇ': [5442, 53872],\n",
       " 'ଭିଣୋଇ': [5442, 1754, 89],\n",
       " 'ଦେଢ଼ଶୁର': [57, 10861, 22252],\n",
       " 'ଦିଅର': [305, 4093],\n",
       " 'ବଡ଼ ନଣନ୍ଦ': [1111, 80, 266, 5766],\n",
       " 'ନଣନ୍ଦ': [80, 266, 5766],\n",
       " 'ଭାଉଜ': [4569, 25547],\n",
       " 'ଭାଇବୋହୁ': [3991, 1137, 7131],\n",
       " 'ଦେଢ଼ଶାସୁ': [57, 10861, 325, 14699],\n",
       " 'ଶାଳୀ': [3175, 2651],\n",
       " 'ଭାଇ': [3991],\n",
       " 'ଦିଦି': [48446],\n",
       " 'ପୁଅ': [23401],\n",
       " 'ଝିଅ': [20076],\n",
       " 'ପିଲା': [23000],\n",
       " 'ପୁତୁରା': [4300, 5686],\n",
       " 'ଭଣଜା': [30360, 2935],\n",
       " 'ଝିଆରୀ': [2398, 80993],\n",
       " 'ଭାଣିଜୀ': [980, 9742, 795]}"
      ]
     },
     "execution_count": 6,
     "metadata": {},
     "output_type": "execute_result"
    }
   ],
   "source": [
    "# span_encodings['ory_Orya']"
   ]
  },
  {
   "cell_type": "code",
   "execution_count": 7,
   "metadata": {},
   "outputs": [],
   "source": [
    "def initialize_model_and_tokenizer(ckpt_dir, quantization):\n",
    "    if quantization == \"4-bit\":\n",
    "        qconfig = BitsAndBytesConfig(\n",
    "            load_in_4bit=True,\n",
    "            bnb_4bit_use_double_quant=True,\n",
    "            bnb_4bit_compute_dtype=torch.bfloat16,\n",
    "        )\n",
    "    elif quantization == \"8-bit\":\n",
    "        qconfig = BitsAndBytesConfig(\n",
    "            load_in_8bit=True,\n",
    "            bnb_8bit_use_double_quant=True,\n",
    "            bnb_8bit_compute_dtype=torch.bfloat16,\n",
    "        )\n",
    "    else:\n",
    "        qconfig = None\n",
    "\n",
    "    tokenizer = AutoTokenizer.from_pretrained(ckpt_dir, trust_remote_code=True)\n",
    "    model = AutoModelForSeq2SeqLM.from_pretrained(\n",
    "        ckpt_dir,\n",
    "        trust_remote_code=True,\n",
    "        low_cpu_mem_usage=True,\n",
    "        quantization_config=qconfig,\n",
    "    )\n",
    "\n",
    "    if qconfig == None:\n",
    "        model = model.to(DEVICE)\n",
    "        if DEVICE == \"cuda\":\n",
    "            model.half()\n",
    "\n",
    "    model.eval()\n",
    "\n",
    "    return tokenizer, model"
   ]
  },
  {
   "cell_type": "code",
   "execution_count": 8,
   "metadata": {},
   "outputs": [],
   "source": [
    "en_indic_ckpt_dir = \"ai4bharat/indictrans2-en-indic-1B\"  # ai4bharat/indictrans2-en-indic-dist-200M\n",
    "en_indic_tokenizer, en_indic_model = initialize_model_and_tokenizer(en_indic_ckpt_dir,  quantization)\n",
    "\n",
    "ip_en_ind = IndicProcessor(inference=True)"
   ]
  },
  {
   "cell_type": "markdown",
   "metadata": {},
   "source": [
    "# Util Functions"
   ]
  },
  {
   "cell_type": "code",
   "execution_count": 9,
   "metadata": {},
   "outputs": [],
   "source": [
    "\n",
    "\n",
    "def resolve_logits_for_best_beam(outputs, num_beams):\n",
    "    \"\"\" Resolve the logits from the best beam, using model output from a generate call.\n",
    "        For a shape [tokens?, batch_size*num_beams, vocab], returns [tokens?, batch_size, vocab]\n",
    "\n",
    "        Assumes num_return_sequences=1.\"\"\"\n",
    "\n",
    "    # print(\"length of output beam\", len(outputs.beam_indices))\n",
    "    # print(\"shape of beam_indices\", outputs.beam_indices.shape)\n",
    "    # print(\"shape of logits\", (outputs.logits[0].shape))\n",
    "    # print(\"length of logits\", len(outputs.logits))\n",
    "    # print(\"length od outputs\", len(outputs))\n",
    "    best_logits  = []\n",
    "    beam_indices = [ outputs.beam_indices[:,i].tolist() for i in range(len(outputs.logits)-1) ]\n",
    "    # print(\"length of beam_indices\", len(beam_indices))\n",
    "\n",
    "    for beam_index, logits in zip(beam_indices, outputs.logits):\n",
    "        beam_index = [ idx if idx != -1 else ((num_beams*(i+1))-1) for i, idx in enumerate(beam_index) ]\n",
    "        best_logits.append(logits[beam_index,:])\n",
    "\n",
    "    return best_logits\n",
    "\n",
    "\n",
    "\n",
    "\n",
    "def get_logits_for_span(logits, translations, tokenizer, search_spans, span_encodings, lang):\n",
    "    \"\"\" Given search spans, returns the logits before the span was generated.\n",
    "\n",
    "    Args:\n",
    "        logits (tuple[Tensor]): Tuple of tensors, of shape [tokens?, batch_size, vocab]\n",
    "        sequences (tuple[list[int]]): Tokenized output sequences.\n",
    "        tokenizer (PreTrainedTokenizerBase): Tokenizer for the model.\n",
    "        search_spans (list[str]): batch_size spans to search for. Must be present in the generated sequences.\n",
    "\n",
    "    Returns:\n",
    "        Tensor: Tensor of shape [batch_size, vocab] indicating the logits before the span for each batch element.\n",
    "    \"\"\"\n",
    "    if isinstance(search_spans, str):\n",
    "        search_spans = [ search_spans ] * len(translations)\n",
    "\n",
    "    # with tokenizer.as_target_tokenizer():   \n",
    "    #     detok_outputs = tokenizer.batch_decode(translations, skip_special_tokens=True)\n",
    "\n",
    "    # positions = [ output.index(span) for output, span in zip(translations, search_spans) ]\n",
    "    logit_pos = [  ]\n",
    "\n",
    "    for seq,  span,  in zip(translations,  search_spans): \n",
    "        # print(\"Span to search for:\", span, span_encodings[lang])\n",
    "        key = next((k for k in span_encodings[lang].keys() if span in k), \"None\")\n",
    "        subtokens = span_encodings[lang][key]\n",
    "        # print(\"subtokens\", subtokens)\n",
    "        # print(\"for span:\", span, \"subtokens\", subtokens)\n",
    "        # print(\"seq\", seq)\n",
    "        idx = 0\n",
    "        while idx < len(seq)-1:\n",
    "            if any(seq[idx+i] == tok for i, tok in enumerate(subtokens)): \n",
    "                # print( \"found\", idx)\n",
    "                break\n",
    "            idx += 1\n",
    "        logit_pos.append(idx-1)\n",
    "    \n",
    "    # print(\"logit_pos\", logit_pos)\n",
    "    # print(\"Dimensions of logits\", logits[0].shape, len(logits))\n",
    "\n",
    "    selected_logits = []\n",
    "    # Iterate over each batch and corresponding token position\n",
    "    for batch, token in enumerate(logit_pos):\n",
    "        # print(\"batch, token\", batch, token)\n",
    "        # print(\"len(logits)\", len(logits))\n",
    "        # print(\"Shape of logits\", logits[0].shape)\n",
    "        # # print(\"logits token\", logits[token])\n",
    "        # print(\"logits 1st item 1st row\",logits[0][0])\n",
    "        # Extract logits for the specific token position in the current batch\n",
    "        current_logit = logits[token][batch, :]\n",
    "        # current_logit = logits[token][0]\n",
    "        \n",
    "        # Append the selected logit to the list\n",
    "        selected_logits.append(current_logit)\n",
    "\n",
    "    # Stack the list of selected logits into a tensor\n",
    "    selected_logits = torch.stack(selected_logits)\n",
    "\n",
    "    return selected_logits\n",
    "        \n",
    "    # return selected_logits\n",
    "    # return torch.stack([ logits[token][batch,:] for batch, token in enumerate(logit_pos) ])\n"
   ]
  },
  {
   "cell_type": "code",
   "execution_count": 10,
   "metadata": {},
   "outputs": [],
   "source": [
    "def get_search_spans(inp_sents, tgt_lang, translations):\n",
    "    search_spans= []\n",
    "    root_amb_words=[]\n",
    "    # print(\"inp_sents\", inp_sents)\n",
    "    for idx, inp in enumerate(inp_sents):\n",
    "        # check which word from ambiguos_Wwords in present in the input sentence\n",
    "        for word in ambiguos_words:\n",
    "            if word in inp:\n",
    "                curr_amb_word= word\n",
    "        root_amb_words.append(curr_amb_word)\n",
    "\n",
    "        # get the possible relations for the current ambiguous word\n",
    "        possible_relations= pir[curr_amb_word][tgt_lang].keys()\n",
    "        # print(\"Possible relations for the word\", curr_amb_word, \"in\", tgt_lang, \"are\", possible_relations)\n",
    "\n",
    "        # find the word in the translation from the possible relations. if not found print the translation\n",
    "        for rel in possible_relations:\n",
    "            if rel in translations[idx]:\n",
    "                # print(\"Relation found in the translation for the word\", curr_amb_word, \"in\", tgt_lang, \"in the sentence\", translations[idx], \"at \", translations[idx].index(rel), \"\\nso sentece is\", translations[idx][translations[idx].index(rel):])\n",
    "                search_spans.append(rel)\n",
    "                break\n",
    "        else:\n",
    "            # print(\"No relation found in the translation for the word\", curr_amb_word, \"in\", tgt_lang, \"in the sentence\", translations[idx])\n",
    "            search_spans.append(translations[idx][0])\n",
    "    # print(\"Search spans are\", search_spans)\n",
    "    return root_amb_words, search_spans\n",
    "       \n",
    "\n"
   ]
  },
  {
   "cell_type": "code",
   "execution_count": 11,
   "metadata": {},
   "outputs": [],
   "source": [
    "\n",
    "\n",
    "\n",
    "def batch_translate(input_sentences, src_lang, tgt_lang, model, tokenizer, ip, span_encodings):\n",
    "    translations = []\n",
    "    start_logits = []\n",
    "    root_amb_words = []\n",
    "    searched_spans = []\n",
    "    for i in tqdm(range(0, len(input_sentences), BATCH_SIZE)):\n",
    "        batch = input_sentences[i : i + BATCH_SIZE]\n",
    "        # Preprocess the batch and extract entity mappings\n",
    "        batch = ip.preprocess_batch(batch, src_lang=src_lang, tgt_lang=tgt_lang)\n",
    "        # Tokenize the batch and generate input encodings\n",
    "        inputs = tokenizer(\n",
    "            batch,\n",
    "            truncation=True,\n",
    "            padding=\"longest\",\n",
    "            return_tensors=\"pt\",\n",
    "            return_attention_mask=True,\n",
    "        ).to(DEVICE)\n",
    "        with torch.no_grad():\n",
    "            # generated_tokens = model.generate(\n",
    "            outputs = model.generate(\n",
    "                **inputs,\n",
    "                use_cache=True,\n",
    "                min_length=0,\n",
    "                max_length=256,\n",
    "                num_beams=5,\n",
    "                num_return_sequences=1, # TODO temp\n",
    "                output_scores=True,\n",
    "                output_logits=True,\n",
    "                return_dict_in_generate=True,\n",
    "\n",
    "            )\n",
    "            # print(\"Length of outputs.logits actual\", len(outputs.logits))\n",
    "            # print(\"Shape of outputs.logits actual\", outputs.logits[0].shape)\n",
    "\n",
    "            # print(\"Length of outputs.beam_indices actual\", len(outputs.beam_indices))\n",
    "            # print(\"Shape of outputs.beam_indices actual\", outputs.beam_indices.shape)\n",
    "            \n",
    "            outputs.beam_indices = outputs.beam_indices.cpu()\n",
    "            outputs.logits = tuple(logits.cpu() for logits in outputs.logits)               \n",
    "        # Decode the generated tokens into text\n",
    "        generated_tokens = outputs.sequences\n",
    "        # print(\"len generated_tokens: \", (generated_tokens[0]).shape)\n",
    "        # print(\"1st generated token: \", generated_tokens[0])\n",
    "        vector = generated_tokens.detach().cpu().tolist()\n",
    "        # print(\"length of outputs vectors: \", len(vector), len(vector[0]))\n",
    "        # print(\"vector of generated_tokens: \", vector)\n",
    "        # print(\"1st vector: \", vector[0])\n",
    "\n",
    "\n",
    "\n",
    "        with tokenizer.as_target_tokenizer():\n",
    "            decoded_op = tokenizer.batch_decode(\n",
    "                vector,\n",
    "                skip_special_tokens=True,\n",
    "                clean_up_tokenization_spaces=True,\n",
    "            )\n",
    "\n",
    "        # print(\"1st decoded_op: \", decoded_op[0])\n",
    "        # Postprocess the translations, including entity replacement\n",
    "        transl = ip.postprocess_batch(decoded_op, lang=tgt_lang)\n",
    "\n",
    "        # print(\"translations: \", transl)\n",
    "        \n",
    "\n",
    "        root_words, search_spans = get_search_spans(batch,  tgt_lang, transl)\n",
    "        searched_spans += search_spans\n",
    "        root_amb_words += root_words\n",
    "        # print(\"length search_spans: \", len(search_spans))\n",
    "        best_logits = resolve_logits_for_best_beam(outputs, num_beams=5)\n",
    "        # print(\"length best_logits: \",len(best_logits))\n",
    "        # print(\"length of best_logits: \", len(best_logits), (best_logits[0]).shape)\n",
    "\n",
    "        start_logits += get_logits_for_span(best_logits, outputs.sequences, tokenizer, search_spans, span_encodings, tgt_lang)\n",
    "        # start_logits += get_logits_for_span(best_logits, translations, tokenizer, search_spans)\n",
    "        translations += transl\n",
    "        del inputs\n",
    "        torch.cuda.empty_cache()\n",
    "\n",
    "    return translations, start_logits, root_amb_words, searched_spans"
   ]
  },
  {
   "cell_type": "code",
   "execution_count": 35,
   "metadata": {},
   "outputs": [],
   "source": [
    "lang_script_list = [\n",
    "                           'ory_Orya',\n",
    "                     'pan_Guru', 'ben_Beng', \n",
    "                       'mal_Mlym',\n",
    "                          #  'mar_Deva', \n",
    "                           'tam_Taml', \n",
    "                          #  'guj_Gujr', \n",
    "                          #  'tel_Telu',\n",
    "                            #  'hin_Deva', \n",
    "                          #  'kan_Knda', \n",
    "                           ]"
   ]
  },
  {
   "cell_type": "code",
   "execution_count": 36,
   "metadata": {},
   "outputs": [],
   "source": [
    "test_csv_folder = 'custom_test_csv'"
   ]
  },
  {
   "cell_type": "code",
   "execution_count": 37,
   "metadata": {},
   "outputs": [],
   "source": [
    "lang_code_map = {\n",
    "    'eng_Latn': 'en',\n",
    "    'hin_Deva': 'hi',\n",
    "    'guj_Gujr': 'gu',\n",
    "    'kan_Knda': 'kn',\n",
    "    'mal_Mlym': 'ml',\n",
    "    'mar_Deva': 'mr',\n",
    "    'tam_Taml': 'ta',\n",
    "    'tel_Telu': 'te',\n",
    "    'pan_Guru': 'pa',\n",
    "    'ben_Beng': 'bn',\n",
    "    'ory_Orya': 'or'\n",
    "}\n"
   ]
  },
  {
   "cell_type": "code",
   "execution_count": 38,
   "metadata": {},
   "outputs": [
    {
     "name": "stdout",
     "output_type": "stream",
     "text": [
      "1809\n"
     ]
    }
   ],
   "source": [
    "sents = []\n",
    "with open('test_sentences_eng.txt', 'r') as f:\n",
    "    sents = f.readlines()\n",
    "sents = [sent.strip() for sent in sents if sent.find('child')==-1]\n",
    "print(len(sents))"
   ]
  },
  {
   "cell_type": "code",
   "execution_count": 39,
   "metadata": {},
   "outputs": [
    {
     "data": {
      "text/plain": [
       "['My grandmother is a Brahmin.',\n",
       " 'My grandfather is a Brahmin.',\n",
       " 'My uncle is a Brahmin.',\n",
       " 'My aunt is a Brahmin.',\n",
       " 'My brother-in-law is a Brahmin.',\n",
       " 'My sister-in-law is a Brahmin.',\n",
       " 'My cousin is a Brahmin.',\n",
       " 'My nephew is a Brahmin.',\n",
       " 'My niece is a Brahmin.',\n",
       " 'My grandmother is a Kshatriya.']"
      ]
     },
     "execution_count": 39,
     "metadata": {},
     "output_type": "execute_result"
    }
   ],
   "source": [
    "sents = sents[:10]\n",
    "sents"
   ]
  },
  {
   "cell_type": "markdown",
   "metadata": {},
   "source": [
    "# Execute Translations"
   ]
  },
  {
   "cell_type": "code",
   "execution_count": 40,
   "metadata": {},
   "outputs": [
    {
     "name": "stdout",
     "output_type": "stream",
     "text": [
      "ory_Orya\n"
     ]
    },
    {
     "name": "stderr",
     "output_type": "stream",
     "text": [
      "100%|██████████| 3/3 [00:01<00:00,  2.91it/s]\n"
     ]
    },
    {
     "name": "stdout",
     "output_type": "stream",
     "text": [
      "pan_Guru\n"
     ]
    },
    {
     "name": "stderr",
     "output_type": "stream",
     "text": [
      "100%|██████████| 3/3 [00:01<00:00,  2.42it/s]\n"
     ]
    },
    {
     "name": "stdout",
     "output_type": "stream",
     "text": [
      "ben_Beng\n"
     ]
    },
    {
     "name": "stderr",
     "output_type": "stream",
     "text": [
      "100%|██████████| 3/3 [00:00<00:00,  3.27it/s]\n"
     ]
    },
    {
     "name": "stdout",
     "output_type": "stream",
     "text": [
      "mal_Mlym\n"
     ]
    },
    {
     "name": "stderr",
     "output_type": "stream",
     "text": [
      "100%|██████████| 3/3 [00:01<00:00,  2.38it/s]\n"
     ]
    },
    {
     "name": "stdout",
     "output_type": "stream",
     "text": [
      "tam_Taml\n"
     ]
    },
    {
     "name": "stderr",
     "output_type": "stream",
     "text": [
      "100%|██████████| 3/3 [00:01<00:00,  2.98it/s]\n"
     ]
    }
   ],
   "source": [
    "src_lang = \"eng_Latn\"\n",
    "output_trnsl={}\n",
    "output_logits={}\n",
    "\n",
    "for lang in lang_script_list:\n",
    "    tgt_lang = lang\n",
    "    print(lang)\n",
    "    # if tgt_lang != 'ory_Orya':\n",
    "    #     continue\n",
    "    translations, logits, root_amb_words, searched_spans = batch_translate(sents, src_lang, tgt_lang, en_indic_model, en_indic_tokenizer, ip_en_ind, span_encodings)\n",
    "    output_trnsl[lang] = translations\n",
    "    output_logits[lang] = logits\n",
    "\n",
    "    # # save hindi translations to a file test_translations_hin.txt\n",
    "    # with open('test_translations/indic_trans2/test_transl_it2_'+lang+'.txt', 'w') as f:\n",
    "    #     for sent in translations:\n",
    "    #         f.write(sent + '\\n')\n",
    "\n",
    "    # save the logits to a file \n",
    "    # with open('test_trasnlations/indic_trans2/test_transl_it2_'+lang+'_logits.txt', 'w') as f:\n",
    "    #     for logit in logits:\n",
    "    #         f.write(str(logit) + '\\n')"
   ]
  },
  {
   "cell_type": "code",
   "execution_count": 41,
   "metadata": {},
   "outputs": [
    {
     "data": {
      "text/html": [
       "<div>\n",
       "<style scoped>\n",
       "    .dataframe tbody tr th:only-of-type {\n",
       "        vertical-align: middle;\n",
       "    }\n",
       "\n",
       "    .dataframe tbody tr th {\n",
       "        vertical-align: top;\n",
       "    }\n",
       "\n",
       "    .dataframe thead th {\n",
       "        text-align: right;\n",
       "    }\n",
       "</style>\n",
       "<table border=\"1\" class=\"dataframe\">\n",
       "  <thead>\n",
       "    <tr style=\"text-align: right;\">\n",
       "      <th></th>\n",
       "      <th>sentences</th>\n",
       "      <th>root_ambiguous_words</th>\n",
       "      <th>searched_spans_ory_Orya</th>\n",
       "      <th>transl_or</th>\n",
       "      <th>logits_or</th>\n",
       "      <th>searched_spans_pan_Guru</th>\n",
       "      <th>transl_pa</th>\n",
       "      <th>logits_pa</th>\n",
       "      <th>searched_spans_ben_Beng</th>\n",
       "      <th>transl_bn</th>\n",
       "      <th>logits_bn</th>\n",
       "      <th>searched_spans_mal_Mlym</th>\n",
       "      <th>transl_ml</th>\n",
       "      <th>logits_ml</th>\n",
       "      <th>searched_spans_tam_Taml</th>\n",
       "      <th>transl_ta</th>\n",
       "      <th>logits_ta</th>\n",
       "    </tr>\n",
       "  </thead>\n",
       "  <tbody>\n",
       "    <tr>\n",
       "      <th>0</th>\n",
       "      <td>My grandmother is a Brahmin.</td>\n",
       "      <td>grandmother</td>\n",
       "      <td>பாட்டி</td>\n",
       "      <td>ମୋ ଜେଜେମା ଜଣେ ବ୍ରାହ୍ମଣ।</td>\n",
       "      <td>[tensor(-1.5381, dtype=torch.float16), tensor(...</td>\n",
       "      <td>பாட்டி</td>\n",
       "      <td>ਮੇਰੀ ਦਾਦੀ ਇੱਕ ਬ੍ਰਾਹਮਣ ਹੈ।</td>\n",
       "      <td>[tensor(-1.1885, dtype=torch.float16), tensor(...</td>\n",
       "      <td>பாட்டி</td>\n",
       "      <td>আমার ঠাকুমা একজন ব্রাহ্মণ।</td>\n",
       "      <td>[tensor(-1.1504, dtype=torch.float16), tensor(...</td>\n",
       "      <td>பாட்டி</td>\n",
       "      <td>എൻ്റെ മുത്തശ്ശി ഒരു ബ്രാഹ്മണയാണ്.</td>\n",
       "      <td>[tensor(-0.0732, dtype=torch.float16), tensor(...</td>\n",
       "      <td>பாட்டி</td>\n",
       "      <td>என் பாட்டி ஒரு பிராமணர்.</td>\n",
       "      <td>[tensor(-0.7446, dtype=torch.float16), tensor(...</td>\n",
       "    </tr>\n",
       "    <tr>\n",
       "      <th>1</th>\n",
       "      <td>My grandfather is a Brahmin.</td>\n",
       "      <td>grandfather</td>\n",
       "      <td>தாத்தா</td>\n",
       "      <td>ମୋ ଜେଜେବାପା ଜଣେ ବ୍ରାହ୍ମଣ।</td>\n",
       "      <td>[tensor(-1.3369, dtype=torch.float16), tensor(...</td>\n",
       "      <td>தாத்தா</td>\n",
       "      <td>ਮੇਰੇ ਦਾਦਾ ਇੱਕ ਬ੍ਰਾਹਮਣ ਹਨ।</td>\n",
       "      <td>[tensor(-0.7490, dtype=torch.float16), tensor(...</td>\n",
       "      <td>தாத்தா</td>\n",
       "      <td>আমার দাদু একজন ব্রাহ্মণ।</td>\n",
       "      <td>[tensor(-1.3174, dtype=torch.float16), tensor(...</td>\n",
       "      <td>தாத்தா</td>\n",
       "      <td>എന്റെ മുത്തച്ഛൻ ഒരു ബ്രാഹ്മണനാണ്.</td>\n",
       "      <td>[tensor(-0.6470, dtype=torch.float16), tensor(...</td>\n",
       "      <td>தாத்தா</td>\n",
       "      <td>என் தாத்தா ஒரு பிராமணர்.</td>\n",
       "      <td>[tensor(-0.5171, dtype=torch.float16), tensor(...</td>\n",
       "    </tr>\n",
       "    <tr>\n",
       "      <th>2</th>\n",
       "      <td>My uncle is a Brahmin.</td>\n",
       "      <td>uncle</td>\n",
       "      <td>மாமா</td>\n",
       "      <td>ମୋ ମାମୁଁ ଜଣେ ବ୍ରାହ୍ମଣ।</td>\n",
       "      <td>[tensor(-1.5029, dtype=torch.float16), tensor(...</td>\n",
       "      <td>மாமா</td>\n",
       "      <td>ਮੇਰੇ ਚਾਚਾ ਇੱਕ ਬ੍ਰਾਹਮਣ ਹਨ।</td>\n",
       "      <td>[tensor(-1.4482, dtype=torch.float16), tensor(...</td>\n",
       "      <td>மாமா</td>\n",
       "      <td>আমার কাকা একজন ব্রাহ্মণ।</td>\n",
       "      <td>[tensor(-1.3193, dtype=torch.float16), tensor(...</td>\n",
       "      <td>மாமா</td>\n",
       "      <td>എന്റെ അമ്മാവൻ ഒരു ബ്രാഹ്മണനാണ്.</td>\n",
       "      <td>[tensor(-0.9233, dtype=torch.float16), tensor(...</td>\n",
       "      <td>மாமா</td>\n",
       "      <td>என் மாமா ஒரு பிராமணர்.</td>\n",
       "      <td>[tensor(-0.9399, dtype=torch.float16), tensor(...</td>\n",
       "    </tr>\n",
       "    <tr>\n",
       "      <th>3</th>\n",
       "      <td>My aunt is a Brahmin.</td>\n",
       "      <td>aunt</td>\n",
       "      <td>அத்தை</td>\n",
       "      <td>ମୋ ମାଉସୀ ଜଣେ ବ୍ରାହ୍ମଣ।</td>\n",
       "      <td>[tensor(-1.9922, dtype=torch.float16), tensor(...</td>\n",
       "      <td>அத்தை</td>\n",
       "      <td>ਮੇਰੀ ਮਾਸੀ ਇੱਕ ਬ੍ਰਾਹਮਣ ਹੈ।</td>\n",
       "      <td>[tensor(-1.9619, dtype=torch.float16), tensor(...</td>\n",
       "      <td>அத்தை</td>\n",
       "      <td>আমার মাসি একজন ব্রাহ্মণ।</td>\n",
       "      <td>[tensor(-1.2168, dtype=torch.float16), tensor(...</td>\n",
       "      <td>அத்தை</td>\n",
       "      <td>എൻ്റെ അമ്മായി ഒരു ബ്രാഹ്മണയാണ്.</td>\n",
       "      <td>[tensor(-0.4893, dtype=torch.float16), tensor(...</td>\n",
       "      <td>அத்தை</td>\n",
       "      <td>என் அத்தை ஒரு பிராமணர்.</td>\n",
       "      <td>[tensor(-1.0879, dtype=torch.float16), tensor(...</td>\n",
       "    </tr>\n",
       "    <tr>\n",
       "      <th>4</th>\n",
       "      <td>My brother-in-law is a Brahmin.</td>\n",
       "      <td>brother-in-law</td>\n",
       "      <td>மைத்துனர்</td>\n",
       "      <td>ମୋ ଭିଣୋଇ ଜଣେ ବ୍ରାହ୍ମଣ।</td>\n",
       "      <td>[tensor(-1.5986, dtype=torch.float16), tensor(...</td>\n",
       "      <td>மைத்துனர்</td>\n",
       "      <td>ਮੇਰਾ ਜੀਜਾ ਇੱਕ ਬ੍ਰਾਹਮਣ ਹੈ।</td>\n",
       "      <td>[tensor(-1.5898, dtype=torch.float16), tensor(...</td>\n",
       "      <td>மைத்துனர்</td>\n",
       "      <td>আমার শ্যালক একজন ব্রাহ্মণ।</td>\n",
       "      <td>[tensor(-1.1924, dtype=torch.float16), tensor(...</td>\n",
       "      <td>மைத்துனர்</td>\n",
       "      <td>എൻ്റെ ഭാര്യാസഹോദരൻ ഒരു ബ്രാഹ്മണനാണ്.</td>\n",
       "      <td>[tensor(-0.0292, dtype=torch.float16), tensor(...</td>\n",
       "      <td>மைத்துனர்</td>\n",
       "      <td>என் மைத்துனர் ஒரு பிராமணர்.</td>\n",
       "      <td>[tensor(-0.9644, dtype=torch.float16), tensor(...</td>\n",
       "    </tr>\n",
       "  </tbody>\n",
       "</table>\n",
       "</div>"
      ],
      "text/plain": [
       "                         sentences root_ambiguous_words  \\\n",
       "0     My grandmother is a Brahmin.          grandmother   \n",
       "1     My grandfather is a Brahmin.          grandfather   \n",
       "2           My uncle is a Brahmin.                uncle   \n",
       "3            My aunt is a Brahmin.                 aunt   \n",
       "4  My brother-in-law is a Brahmin.       brother-in-law   \n",
       "\n",
       "  searched_spans_ory_Orya                   transl_or  \\\n",
       "0                  பாட்டி    ମୋ ଜେଜେମା ଜଣେ ବ୍ରାହ୍ମଣ।    \n",
       "1                  தாத்தா  ମୋ ଜେଜେବାପା ଜଣେ ବ୍ରାହ୍ମଣ।    \n",
       "2                    மாமா     ମୋ ମାମୁଁ ଜଣେ ବ୍ରାହ୍ମଣ।    \n",
       "3                   அத்தை     ମୋ ମାଉସୀ ଜଣେ ବ୍ରାହ୍ମଣ।    \n",
       "4               மைத்துனர்     ମୋ ଭିଣୋଇ ଜଣେ ବ୍ରାହ୍ମଣ।    \n",
       "\n",
       "                                           logits_or searched_spans_pan_Guru  \\\n",
       "0  [tensor(-1.5381, dtype=torch.float16), tensor(...                  பாட்டி   \n",
       "1  [tensor(-1.3369, dtype=torch.float16), tensor(...                  தாத்தா   \n",
       "2  [tensor(-1.5029, dtype=torch.float16), tensor(...                    மாமா   \n",
       "3  [tensor(-1.9922, dtype=torch.float16), tensor(...                   அத்தை   \n",
       "4  [tensor(-1.5986, dtype=torch.float16), tensor(...               மைத்துனர்   \n",
       "\n",
       "                    transl_pa  \\\n",
       "0  ਮੇਰੀ ਦਾਦੀ ਇੱਕ ਬ੍ਰਾਹਮਣ ਹੈ।    \n",
       "1  ਮੇਰੇ ਦਾਦਾ ਇੱਕ ਬ੍ਰਾਹਮਣ ਹਨ।    \n",
       "2  ਮੇਰੇ ਚਾਚਾ ਇੱਕ ਬ੍ਰਾਹਮਣ ਹਨ।    \n",
       "3  ਮੇਰੀ ਮਾਸੀ ਇੱਕ ਬ੍ਰਾਹਮਣ ਹੈ।    \n",
       "4  ਮੇਰਾ ਜੀਜਾ ਇੱਕ ਬ੍ਰਾਹਮਣ ਹੈ।    \n",
       "\n",
       "                                           logits_pa searched_spans_ben_Beng  \\\n",
       "0  [tensor(-1.1885, dtype=torch.float16), tensor(...                  பாட்டி   \n",
       "1  [tensor(-0.7490, dtype=torch.float16), tensor(...                  தாத்தா   \n",
       "2  [tensor(-1.4482, dtype=torch.float16), tensor(...                    மாமா   \n",
       "3  [tensor(-1.9619, dtype=torch.float16), tensor(...                   அத்தை   \n",
       "4  [tensor(-1.5898, dtype=torch.float16), tensor(...               மைத்துனர்   \n",
       "\n",
       "                     transl_bn  \\\n",
       "0  আমার ঠাকুমা একজন ব্রাহ্মণ।    \n",
       "1    আমার দাদু একজন ব্রাহ্মণ।    \n",
       "2    আমার কাকা একজন ব্রাহ্মণ।    \n",
       "3    আমার মাসি একজন ব্রাহ্মণ।    \n",
       "4  আমার শ্যালক একজন ব্রাহ্মণ।    \n",
       "\n",
       "                                           logits_bn searched_spans_mal_Mlym  \\\n",
       "0  [tensor(-1.1504, dtype=torch.float16), tensor(...                  பாட்டி   \n",
       "1  [tensor(-1.3174, dtype=torch.float16), tensor(...                  தாத்தா   \n",
       "2  [tensor(-1.3193, dtype=torch.float16), tensor(...                    மாமா   \n",
       "3  [tensor(-1.2168, dtype=torch.float16), tensor(...                   அத்தை   \n",
       "4  [tensor(-1.1924, dtype=torch.float16), tensor(...               மைத்துனர்   \n",
       "\n",
       "                               transl_ml  \\\n",
       "0     എൻ്റെ മുത്തശ്ശി ഒരു ബ്രാഹ്മണയാണ്.    \n",
       "1     എന്റെ മുത്തച്ഛൻ ഒരു ബ്രാഹ്മണനാണ്.    \n",
       "2       എന്റെ അമ്മാവൻ ഒരു ബ്രാഹ്മണനാണ്.    \n",
       "3       എൻ്റെ അമ്മായി ഒരു ബ്രാഹ്മണയാണ്.    \n",
       "4  എൻ്റെ ഭാര്യാസഹോദരൻ ഒരു ബ്രാഹ്മണനാണ്.    \n",
       "\n",
       "                                           logits_ml searched_spans_tam_Taml  \\\n",
       "0  [tensor(-0.0732, dtype=torch.float16), tensor(...                  பாட்டி   \n",
       "1  [tensor(-0.6470, dtype=torch.float16), tensor(...                  தாத்தா   \n",
       "2  [tensor(-0.9233, dtype=torch.float16), tensor(...                    மாமா   \n",
       "3  [tensor(-0.4893, dtype=torch.float16), tensor(...                   அத்தை   \n",
       "4  [tensor(-0.0292, dtype=torch.float16), tensor(...               மைத்துனர்   \n",
       "\n",
       "                      transl_ta  \\\n",
       "0     என் பாட்டி ஒரு பிராமணர்.    \n",
       "1     என் தாத்தா ஒரு பிராமணர்.    \n",
       "2       என் மாமா ஒரு பிராமணர்.    \n",
       "3      என் அத்தை ஒரு பிராமணர்.    \n",
       "4  என் மைத்துனர் ஒரு பிராமணர்.    \n",
       "\n",
       "                                           logits_ta  \n",
       "0  [tensor(-0.7446, dtype=torch.float16), tensor(...  \n",
       "1  [tensor(-0.5171, dtype=torch.float16), tensor(...  \n",
       "2  [tensor(-0.9399, dtype=torch.float16), tensor(...  \n",
       "3  [tensor(-1.0879, dtype=torch.float16), tensor(...  \n",
       "4  [tensor(-0.9644, dtype=torch.float16), tensor(...  "
      ]
     },
     "execution_count": 41,
     "metadata": {},
     "output_type": "execute_result"
    }
   ],
   "source": [
    "# dataframe from the translations, logits and the root ambiguous words, searched spans\n",
    "import pandas as pd\n",
    "\n",
    "df = pd.DataFrame()\n",
    "df['sentences'] = sents\n",
    "df['root_ambiguous_words'] = root_amb_words\n",
    "for lang in lang_script_list:\n",
    "    # if lang != 'ory_Orya':\n",
    "    #     continue\n",
    "    # following 2 can be commented out to reduce the size of the dataframe\n",
    "    df['searched_spans_'+lang] = searched_spans\n",
    "    df['transl_'+lang_code_map[lang]] = output_trnsl[lang]\n",
    "    df['logits_'+lang_code_map[lang]] = output_logits[lang]\n",
    "\n",
    "df.head()"
   ]
  },
  {
   "cell_type": "code",
   "execution_count": 42,
   "metadata": {},
   "outputs": [],
   "source": [
    "# for all sentences:\n",
    "#    for all langs:\n",
    "#     for the given root ambiguous word, get the possible relations in the target language\n",
    "#      group the possible relations into matriarchal and patriarchal\n",
    "#       <*>find the logits for the words in matrirachi and patriachal relations\n",
    "#       find the sum over respective sets and take difference of both sums\n",
    "#       if difference is positive, then the wordXlang is matriarchal, else patriarchal\n",
    "#     Report the difference for each wordXlang as a matrix. Rows are words and columns are langs. Store it as final_matrix\n"
   ]
  },
  {
   "cell_type": "code",
   "execution_count": 43,
   "metadata": {},
   "outputs": [],
   "source": [
    "final_res={}"
   ]
  },
  {
   "cell_type": "code",
   "execution_count": 59,
   "metadata": {},
   "outputs": [
    {
     "name": "stdout",
     "output_type": "stream",
     "text": [
      "For word:  grandmother in lang:  ory_Orya Difference:  -0.9638671875\n",
      "For word:  grandmother in lang:  pan_Guru Difference:  0.77734375\n",
      "For word:  grandmother in lang:  ben_Beng Difference:  0.126220703125\n",
      "Skipping word: grandmother in lang: mal_Mlym due to empty logits.\n",
      "For word:  grandmother in lang:  tam_Taml Difference:  0.671875\n",
      "For word:  grandfather in lang:  ory_Orya Difference:  -0.2451171875\n",
      "For word:  grandfather in lang:  pan_Guru Difference:  -0.6181640625\n",
      "For word:  grandfather in lang:  ben_Beng Difference:  0.5224609375\n",
      "Skipping word: grandfather in lang: mal_Mlym due to empty logits.\n",
      "Skipping word: grandfather in lang: tam_Taml due to empty logits.\n",
      "For word:  uncle in lang:  ory_Orya Difference:  -0.86328125\n",
      "For word:  uncle in lang:  pan_Guru Difference:  -0.9541015625\n",
      "For word:  uncle in lang:  ben_Beng Difference:  -0.01318359375\n",
      "For word:  uncle in lang:  mal_Mlym Difference:  -0.45263671875\n",
      "For word:  uncle in lang:  tam_Taml Difference:  1.0\n",
      "For word:  aunt in lang:  ory_Orya Difference:  -0.1630859375\n",
      "For word:  aunt in lang:  pan_Guru Difference:  -0.775390625\n",
      "For word:  aunt in lang:  ben_Beng Difference:  0.216552734375\n",
      "For word:  aunt in lang:  mal_Mlym Difference:  0.463134765625\n",
      "For word:  aunt in lang:  tam_Taml Difference:  -0.2021484375\n",
      "For word:  brother-in-law in lang:  ory_Orya Difference:  0.9326171875\n",
      "For word:  brother-in-law in lang:  pan_Guru Difference:  0.8349609375\n",
      "For word:  brother-in-law in lang:  ben_Beng Difference:  0.462646484375\n",
      "Skipping word: brother-in-law in lang: mal_Mlym due to empty logits.\n",
      "For word:  brother-in-law in lang:  tam_Taml Difference:  0.99609375\n",
      "For word:  sister-in-law in lang:  ory_Orya Difference:  -0.912109375\n",
      "For word:  sister-in-law in lang:  pan_Guru Difference:  -0.478515625\n",
      "For word:  sister-in-law in lang:  ben_Beng Difference:  -0.31640625\n",
      "For word:  sister-in-law in lang:  mal_Mlym Difference:  -0.564453125\n",
      "For word:  sister-in-law in lang:  tam_Taml Difference:  -0.341796875\n",
      "For word:  cousin in lang:  ory_Orya Difference:  -0.951171875\n",
      "For word:  cousin in lang:  pan_Guru Difference:  -0.029541015625\n",
      "For word:  cousin in lang:  ben_Beng Difference:  -0.904296875\n",
      "Skipping word: cousin in lang: mal_Mlym due to empty logits.\n",
      "For word:  cousin in lang:  tam_Taml Difference:  -0.39453125\n",
      "For word:  nephew in lang:  ory_Orya Difference:  -0.4306640625\n",
      "For word:  nephew in lang:  pan_Guru Difference:  -1.0\n",
      "For word:  nephew in lang:  ben_Beng Difference:  -0.338623046875\n",
      "For word:  nephew in lang:  mal_Mlym Difference:  0.7578125\n",
      "For word:  nephew in lang:  tam_Taml Difference:  -0.59326171875\n",
      "For word:  niece in lang:  ory_Orya Difference:  -0.1357421875\n",
      "For word:  niece in lang:  pan_Guru Difference:  -0.8779296875\n",
      "For word:  niece in lang:  ben_Beng Difference:  0.288330078125\n",
      "For word:  niece in lang:  mal_Mlym Difference:  0.828125\n",
      "For word:  niece in lang:  tam_Taml Difference:  -0.4287109375\n",
      "For word:  grandmother in lang:  ory_Orya Difference:  -0.9638671875\n",
      "For word:  grandmother in lang:  pan_Guru Difference:  0.8173828125\n",
      "For word:  grandmother in lang:  ben_Beng Difference:  -0.71875\n",
      "Skipping word: grandmother in lang: mal_Mlym due to empty logits.\n",
      "For word:  grandmother in lang:  tam_Taml Difference:  0.6533203125\n"
     ]
    },
    {
     "name": "stderr",
     "output_type": "stream",
     "text": [
      "/tmp/ipykernel_2164147/2259655106.py:54: UserWarning: To copy construct from a tensor, it is recommended to use sourceTensor.clone().detach() or sourceTensor.clone().detach().requires_grad_(True), rather than torch.tensor(sourceTensor).\n",
      "  diff = torch.sum(torch.tensor(matriarchal_logits_softmax)) - torch.sum(torch.tensor(patriarchal_logits_softmax))\n"
     ]
    }
   ],
   "source": [
    "# for each row of dataframe with index i\n",
    "for i in range(len(df)):\n",
    "    # print(\"Index: \", i)\n",
    "    for lang in lang_script_list:\n",
    "        # if lang != 'ory_Orya':\n",
    "        #     continue\n",
    "        # print(\"Lang: \", lang)\n",
    "        if final_res.get(lang, None) is None:\n",
    "            final_res[lang] = {}\n",
    "        root_amb_word = df.loc[i, 'root_ambiguous_words']\n",
    "        # print(\"Root ambiguous word: \", root_amb_word)\n",
    "        possible_relations = list(pir[root_amb_word][lang].keys())\n",
    "        # print(\"Possible relations: \", possible_relations)\n",
    "        matriarchal = []\n",
    "        patriarchal = []\n",
    "        for rel in possible_relations:\n",
    "            if 'F' == pir[root_amb_word][lang][rel]['relation_code']:\n",
    "                matriarchal.append(rel)\n",
    "            if 'M' == pir[root_amb_word][lang][rel]['relation_code']:\n",
    "                patriarchal.append(rel)\n",
    "        # print(\"for lang: \", lang, \"root amb word: \", root_amb_word, \"matriarchal: \", matriarchal, \"patriarchal: \", patriarchal)\n",
    "        \n",
    "        logits = df.loc[i, 'logits_'+lang_code_map[lang]]\n",
    "        # print(\"Logits: \", logits)\n",
    "        matriarchal_logits = []\n",
    "        patriarchal_logits = []\n",
    "        for relations in [matriarchal, patriarchal]:\n",
    "            for rel in relations:\n",
    "                # print(\"for reln:\", rel, \"span_encodings:\", span_encodings[lang].get(rel, None))\n",
    "                # if rel is present in any key of span_encodings[lang], then print its value\n",
    "                key = next((k for k in span_encodings[lang].keys() if rel in k), \"None\")\n",
    "                word_index = span_encodings[lang].get(key, None)\n",
    "                # print(\"for reln::\", rel, \"Index::\", word_index)\n",
    "                \n",
    "                # find the avg of the logits for the word_index\n",
    "                if word_index is not None:\n",
    "                    avg_logits = torch.mean(logits[word_index], dim=0)\n",
    "                    # print(\"Avg logits: \", avg_logits)\n",
    "                    if relations == matriarchal:\n",
    "                        matriarchal_logits.append(avg_logits)\n",
    "                    else:\n",
    "                        patriarchal_logits.append(avg_logits)\n",
    "\n",
    "        # print(\"Matriarchal sets: \", matriarchal_logits, \"Patriarchal sets: \", patriarchal_logits)\n",
    "\n",
    "        # combine arrays of matriarchal and patriarchal logits and find softmax over the new resultant array and separate the matriarchial and patriarchial logits\n",
    "        if matriarchal_logits and patriarchal_logits:\n",
    "            effective_logits = torch.stack(matriarchal_logits)\n",
    "            effective_logits = torch.cat((effective_logits, torch.stack(patriarchal_logits)))\n",
    "            effective_logits = softmax(effective_logits, dim=0)\n",
    "            matriarchal_logits_softmax = effective_logits[:len(matriarchal_logits)]\n",
    "            patriarchal_logits_softmax = effective_logits[len(matriarchal_logits):]\n",
    "\n",
    "            diff = torch.sum(torch.tensor(matriarchal_logits_softmax)) - torch.sum(torch.tensor(patriarchal_logits_softmax)) \n",
    "            # /tmp/ipykernel_1975081/1980739227.py:52: UserWarning: To copy construct from a tensor, it is recommended to use sourceTensor.clone().detach() or sourceTensor.clone().detach().requires_grad_(True), rather than torch.tensor(sourceTensor).\n",
    "            print(\"For word: \", root_amb_word, \"in lang: \", lang, \"Difference: \", diff.item())\n",
    "            # print(\"Since difference is \", \"positive, then the wordXlang is matriarchal\" if diff > 0 else \"negative, then the wordXlang is patriarchal\")\n",
    "            final_res[lang][root_amb_word] = diff.item()\n",
    "        else:\n",
    "            final_res[lang][root_amb_word] = 0\n",
    "            print(f\"Skipping word: {root_amb_word} in lang: {lang} due to empty logits.\")\n",
    "\n",
    "\n",
    "\n",
    "        # find the sum over respective sets and take difference of both sums\n",
    "        # diff = torch.sum(torch.tensor(matriarchal_logits)) - torch.sum(torch.tensor(patriarchal_logits))\n",
    "        # print(\"For word: \", root_amb_word, \"in lang: \", lang, \"Difference: \", diff)\n",
    "        # print(\"Since difference is \", \"positive, then the wordXlang is matriarchal\" if diff > 0 else \"negative, then the wordXlang is patriarchal\")\n",
    "\n",
    "        # #Report the difference for each wordXlang as a matrix. Rows are words and columns are langs. Store it as final_matrix\n",
    "        # final_matrix[root_amb_word][lang] = diff\n",
    "\n",
    "        #     matriarchal_logits.append(logits[]\n",
    "        # print(\"Matriarchal sets: \", matriarchal, \"Patriarchal sets: \", patriarchal)\n",
    "\n",
    "\n"
   ]
  },
  {
   "cell_type": "code",
   "execution_count": 60,
   "metadata": {},
   "outputs": [
    {
     "data": {
      "text/plain": [
       "{'ory_Orya': {'grandmother': -0.9638671875,\n",
       "  'grandfather': -0.2451171875,\n",
       "  'uncle': -0.86328125,\n",
       "  'aunt': -0.1630859375,\n",
       "  'brother-in-law': 0.9326171875,\n",
       "  'sister-in-law': -0.912109375,\n",
       "  'cousin': -0.951171875,\n",
       "  'nephew': -0.4306640625,\n",
       "  'niece': -0.1357421875},\n",
       " 'pan_Guru': {'grandmother': 0.8173828125,\n",
       "  'grandfather': -0.6181640625,\n",
       "  'uncle': -0.9541015625,\n",
       "  'aunt': -0.775390625,\n",
       "  'brother-in-law': 0.8349609375,\n",
       "  'sister-in-law': -0.478515625,\n",
       "  'cousin': -0.029541015625,\n",
       "  'nephew': -1.0,\n",
       "  'niece': -0.8779296875},\n",
       " 'ben_Beng': {'grandmother': -0.71875,\n",
       "  'grandfather': 0.5224609375,\n",
       "  'uncle': -0.01318359375,\n",
       "  'aunt': 0.216552734375,\n",
       "  'brother-in-law': 0.462646484375,\n",
       "  'sister-in-law': -0.31640625,\n",
       "  'cousin': -0.904296875,\n",
       "  'nephew': -0.338623046875,\n",
       "  'niece': 0.288330078125},\n",
       " 'mal_Mlym': {'grandmother': 0,\n",
       "  'grandfather': 0,\n",
       "  'uncle': -0.45263671875,\n",
       "  'aunt': 0.463134765625,\n",
       "  'brother-in-law': 0,\n",
       "  'sister-in-law': -0.564453125,\n",
       "  'cousin': 0,\n",
       "  'nephew': 0.7578125,\n",
       "  'niece': 0.828125},\n",
       " 'tam_Taml': {'grandmother': 0.6533203125,\n",
       "  'grandfather': 0,\n",
       "  'uncle': 1.0,\n",
       "  'aunt': -0.2021484375,\n",
       "  'brother-in-law': 0.99609375,\n",
       "  'sister-in-law': -0.341796875,\n",
       "  'cousin': -0.39453125,\n",
       "  'nephew': -0.59326171875,\n",
       "  'niece': -0.4287109375}}"
      ]
     },
     "execution_count": 60,
     "metadata": {},
     "output_type": "execute_result"
    }
   ],
   "source": [
    "final_res"
   ]
  },
  {
   "cell_type": "code",
   "execution_count": 63,
   "metadata": {},
   "outputs": [
    {
     "data": {
      "text/plain": [
       "[[-0.9638671875, 0.8173828125, -0.71875, 0, 0.6533203125],\n",
       " [-0.2451171875, -0.6181640625, 0.5224609375, 0, 0],\n",
       " [-0.86328125, -0.9541015625, -0.01318359375, -0.45263671875, 1.0],\n",
       " [-0.1630859375, -0.775390625, 0.216552734375, 0.463134765625, -0.2021484375],\n",
       " [0.9326171875, 0.8349609375, 0.462646484375, 0, 0.99609375],\n",
       " [-0.912109375, -0.478515625, -0.31640625, -0.564453125, -0.341796875],\n",
       " [-0.951171875, -0.029541015625, -0.904296875, 0, -0.39453125],\n",
       " [-0.4306640625, -1.0, -0.338623046875, 0.7578125, -0.59326171875],\n",
       " [-0.1357421875, -0.8779296875, 0.288330078125, 0.828125, -0.4287109375]]"
      ]
     },
     "execution_count": 63,
     "metadata": {},
     "output_type": "execute_result"
    }
   ],
   "source": [
    "# make a 2D array of the final_res.. not dataframe but 2D array\n",
    "confusion_mat =[[final_res[lang][word] for j,lang in enumerate(lang_script_list)] for i,word in enumerate(ambiguos_words) if word!='child' ]\n",
    "confusion_mat"
   ]
  },
  {
   "cell_type": "code",
   "execution_count": 68,
   "metadata": {},
   "outputs": [
    {
     "name": "stderr",
     "output_type": "stream",
     "text": [
      "/tmp/ipykernel_2164147/513731188.py:8: UserWarning: set_ticklabels() should only be used with a fixed number of ticks, i.e. after set_ticks() or using a FixedLocator.\n",
      "  ax.set_xticklabels([''] + list(lang_code_map[lang] for lang in final_res.keys()))\n",
      "/tmp/ipykernel_2164147/513731188.py:9: UserWarning: set_ticklabels() should only be used with a fixed number of ticks, i.e. after set_ticks() or using a FixedLocator.\n",
      "  ax.set_yticklabels([''] + list(final_res['ory_Orya'].keys()))\n"
     ]
    },
    {
     "data": {
      "image/png": "[encoded data removed]",
      "text/plain": [
       "<Figure size 640x480 with 2 Axes>"
      ]
     },
     "metadata": {},
     "output_type": "display_data"
    }
   ],
   "source": [
    "# show a confusion matrix plot from matplotlib of the final_res. rows are langs, columns are words and values are differences ranging from -1 to 1\n",
    "import matplotlib.pyplot as plt\n",
    "\n",
    "fig, ax = plt.subplots()\n",
    "# give colour custommed as max value as Pink and min value as blue and 0 as white\n",
    "cax = ax.matshow(confusion_mat, cmap='bwr')\n",
    "fig.colorbar(cax)\n",
    "ax.set_xticklabels([''] + list(lang_code_map[lang] for lang in final_res.keys()))\n",
    "ax.set_yticklabels([''] + list(final_res['ory_Orya'].keys()))\n",
    "plt.show()\n",
    "\n"
   ]
  },
  {
   "cell_type": "code",
   "execution_count": null,
   "metadata": {},
   "outputs": [],
   "source": []
  },
  {
   "cell_type": "code",
   "execution_count": null,
   "metadata": {},
   "outputs": [],
   "source": [
    "# index of ['ମାମୁଁ', 'ମଉସା'] in vocab of en_indic_tokenizer\n",
    "# print(en_indic_tokenizer.convert_tokens_to_ids(['ମାମୁଁ', 'ମଉସା'])) #[3, 3] - wrong\n",
    "\n",
    "# print(en_indic_tokenizer.vocab\n",
    "\n"
   ]
  },
  {
   "cell_type": "code",
   "execution_count": null,
   "metadata": {},
   "outputs": [],
   "source": [
    "# # import the test_sentences_eng.txt file data as sents\n",
    "\n",
    "# # sents = ['The river is blue.', 'My uncle wearing blue coat.', 'My maternal aunt went to the river bank.', \"The doctor went to bank for money.\"]\n",
    "# sents=['My maternal aunt went to the river bank.', 'My maternal aunt loves me.', \n",
    "#        'My maternal aunt loves her grandchildren.', \"My maternal aunt loves her children.\", \n",
    "#        \"My maternal aunt loves her family.\",\n",
    "#        ]   \n",
    "# src_lang = \"eng_Latn\"\n",
    "\n",
    "# tgt_lang = 'hin_Deva'\n",
    "# # print(lang)\n",
    "# translations, logits = batch_translate(sents, src_lang, tgt_lang, en_indic_model, en_indic_tokenizer, ip_en_ind)\n"
   ]
  },
  {
   "cell_type": "code",
   "execution_count": null,
   "metadata": {},
   "outputs": [
    {
     "name": "stdout",
     "output_type": "stream",
     "text": [
      "['ମୋ ଜେଜେମା ଜଣେ ବ୍ରାହ୍ମଣ। ', 'ମୋ ଜେଜେବାପା ଜଣେ ବ୍ରାହ୍ମଣ। ', 'ମୋ ମାମୁଁ ଜଣେ ବ୍ରାହ୍ମଣ। ', 'ମୋ ମାଉସୀ ଜଣେ ବ୍ରାହ୍ମଣ। ', 'ମୋ ଭିଣୋଇ ଜଣେ ବ୍ରାହ୍ମଣ। ', 'ମୋ ଭାଉଜ ଜଣେ ବ୍ରାହ୍ମଣ। ', 'ମୋର ସମ୍ପର୍କୀଯ଼ ଭାଇ ଜଣେ ବ୍ରାହ୍ମଣ। ', 'ମୋ ପୁତୁରା ଜଣେ ବ୍ରାହ୍ମଣ। ', 'ମୋର ଭାଣିଜୀ ଜଣେ ବ୍ରାହ୍ମଣ। ', 'ମୋ ଜେଜେମା ଜଣେ କ୍ଷତ୍ରିଯ଼। ']\n"
     ]
    }
   ],
   "source": [
    "print(translations)"
   ]
  },
  {
   "cell_type": "code",
   "execution_count": null,
   "metadata": {},
   "outputs": [
    {
     "name": "stdout",
     "output_type": "stream",
     "text": [
      "tensor([-1.4980, -1.4980, -2.9004,  ..., -1.4980, -1.4980, -1.4980],\n",
      "       dtype=torch.float16)\n"
     ]
    }
   ],
   "source": [
    "print(logits)"
   ]
  },
  {
   "cell_type": "code",
   "execution_count": null,
   "metadata": {},
   "outputs": [
    {
     "name": "stdout",
     "output_type": "stream",
     "text": [
      "[tensor([3.5763e-07, 3.5763e-07, 5.9605e-08,  ..., 3.5763e-07, 3.5763e-07,\n",
      "        3.5763e-07], dtype=torch.float16), tensor([4.1723e-07, 4.1723e-07, 1.1921e-07,  ..., 4.1723e-07, 4.1723e-07,\n",
      "        4.1723e-07], dtype=torch.float16), tensor([9.5367e-07, 9.5367e-07, 6.5565e-07,  ..., 9.5367e-07, 9.5367e-07,\n",
      "        9.5367e-07], dtype=torch.float16), tensor([1.0133e-06, 1.0133e-06, 4.1723e-07,  ..., 1.0133e-06, 1.0133e-06,\n",
      "        1.0133e-06], dtype=torch.float16), tensor([8.3447e-07, 8.3447e-07, 9.0088e-01,  ..., 8.3447e-07, 8.3447e-07,\n",
      "        8.3447e-07], dtype=torch.float16), tensor([8.3447e-07, 8.3447e-07, 4.3511e-04,  ..., 8.3447e-07, 8.3447e-07,\n",
      "        8.3447e-07], dtype=torch.float16), tensor([1.0133e-06, 1.0133e-06, 2.9802e-07,  ..., 1.0133e-06, 1.0133e-06,\n",
      "        1.0133e-06], dtype=torch.float16), tensor([3.5763e-07, 3.5763e-07, 1.7881e-07,  ..., 3.5763e-07, 3.5763e-07,\n",
      "        3.5763e-07], dtype=torch.float16), tensor([9.5367e-07, 9.5367e-07, 2.3842e-07,  ..., 9.5367e-07, 9.5367e-07,\n",
      "        9.5367e-07], dtype=torch.float16), tensor([3.5763e-07, 3.5763e-07, 5.9605e-08,  ..., 3.5763e-07, 3.5763e-07,\n",
      "        3.5763e-07], dtype=torch.float16)]\n",
      "10\n",
      "torch.Size([122672])\n"
     ]
    }
   ],
   "source": [
    "# for each logit in logits, convert it to prob using softmax\n",
    "for lang in lang_script_list:\n",
    "    if lang != 'ory_Orya':\n",
    "        continue\n",
    "    logits = output_logits[lang]\n",
    "    softmax_logits = [softmax(logit, dim=-1) for logit in logits]\n",
    "    print(softmax_logits)\n",
    "    print(len(softmax_logits) ) # for each sentence translated)\n",
    "    print(softmax_logits[0].shape) # for each word in the sentence; vocab size\n",
    "\n",
    "# for each sentence, amongs all vocab logits, find the difference of [sum of matrirach words] - [sum of patriarch words]\n",
    "# find the root word in english and as per lang, find the other Matriarch or Patriarch words based on relation code "
   ]
  },
  {
   "cell_type": "code",
   "execution_count": null,
   "metadata": {},
   "outputs": [
    {
     "name": "stdout",
     "output_type": "stream",
     "text": [
      "[tensor(41445), tensor(41445), tensor(9971), tensor(30261), tensor(2), tensor(6), tensor(60824), tensor(4300), tensor(980), tensor(41445)]\n"
     ]
    }
   ],
   "source": [
    "# get the index of max prob for each logit\n",
    "max_prob_index = [torch.argmax(softmax_logit, dim=-1) for softmax_logit in softmax_logits]\n",
    "print(max_prob_index)"
   ]
  },
  {
   "cell_type": "code",
   "execution_count": null,
   "metadata": {},
   "outputs": [
    {
     "name": "stdout",
     "output_type": "stream",
     "text": [
      "[torch.return_types.topk(\n",
      "values=tensor([0.8823, 0.0048, 0.0035, 0.0031, 0.0028, 0.0021, 0.0021, 0.0016, 0.0016,\n",
      "        0.0014], dtype=torch.float16),\n",
      "indices=tensor([41445,    80,    30,  8911, 51174, 29498, 33622, 48446, 30261, 30502])), torch.return_types.topk(\n",
      "values=tensor([0.8306, 0.0312, 0.0203, 0.0101, 0.0087, 0.0076, 0.0056, 0.0024, 0.0017,\n",
      "        0.0010], dtype=torch.float16),\n",
      "indices=tensor([41445, 53208, 15588, 20077, 30502,    30,   409,  1111, 55513, 51174])), torch.return_types.topk(\n",
      "values=tensor([0.5093, 0.1919, 0.0316, 0.0116, 0.0104, 0.0051, 0.0042, 0.0039, 0.0035,\n",
      "        0.0035], dtype=torch.float16),\n",
      "indices=tensor([ 9971, 41565, 24501,    30, 41445,  7610, 20077,  3991,  3617, 15588])), torch.return_types.topk(\n",
      "values=tensor([0.6055, 0.0270, 0.0156, 0.0095, 0.0076, 0.0057, 0.0053, 0.0051, 0.0051,\n",
      "        0.0049], dtype=torch.float16),\n",
      "indices=tensor([30261, 41445,  9971,    30,  3617,   213, 54203,   336, 58401,  1390])), torch.return_types.topk(\n",
      "values=tensor([9.0088e-01, 1.0282e-04, 4.3392e-05, 1.4842e-05, 6.9737e-06, 6.1989e-06,\n",
      "        6.0201e-06, 4.6492e-06, 4.1723e-06, 3.3975e-06], dtype=torch.float16),\n",
      "indices=tensor([    2,     6,     4,     7,     5,    13,  9182,  2207,    70, 31428])), torch.return_types.topk(\n",
      "values=tensor([8.9160e-01, 6.4964e-03, 4.3511e-04, 2.2495e-04, 1.5342e-04, 8.3387e-05,\n",
      "        3.6299e-05, 3.5644e-05, 2.5749e-05, 2.3961e-05], dtype=torch.float16),\n",
      "indices=tensor([   6, 9182,    2,    4,    5, 2207,    7,  732, 3882,   13])), torch.return_types.topk(\n",
      "values=tensor([0.5723, 0.0255, 0.0235, 0.0147, 0.0088, 0.0082, 0.0079, 0.0065, 0.0049,\n",
      "        0.0049], dtype=torch.float16),\n",
      "indices=tensor([60824,  3991,  9971, 56796,  6091, 38982,  4725,  1111, 21058,   110])), torch.return_types.topk(\n",
      "values=tensor([0.6226, 0.2020, 0.0210, 0.0135, 0.0099, 0.0072, 0.0047, 0.0047, 0.0032,\n",
      "        0.0029], dtype=torch.float16),\n",
      "indices=tensor([ 4300, 30360,   980,  3991,    30,  1013, 21058,  4569,  9919, 60824])), torch.return_types.topk(\n",
      "values=tensor([0.4546, 0.1158, 0.0446, 0.0203, 0.0179, 0.0153, 0.0098, 0.0091, 0.0066,\n",
      "        0.0056], dtype=torch.float16),\n",
      "indices=tensor([  980, 30360,  4300,  2398,  4569, 38982, 13818,  3991,  1390,  4725])), torch.return_types.topk(\n",
      "values=tensor([0.8975, 0.0045, 0.0034, 0.0028, 0.0023, 0.0020, 0.0015, 0.0014, 0.0014,\n",
      "        0.0013], dtype=torch.float16),\n",
      "indices=tensor([41445,    80,  8911,    30, 29498, 51174, 48446, 33622,  1828,  2214]))]\n"
     ]
    }
   ],
   "source": [
    "# from the softmax_logits, get the indices of top 10 max prob \n",
    "top_10_indices = [torch.topk(softmax_logit, k=10, dim=-1) for softmax_logit in softmax_logits]\n",
    "print(top_10_indices)"
   ]
  },
  {
   "cell_type": "code",
   "execution_count": null,
   "metadata": {},
   "outputs": [
    {
     "name": "stdout",
     "output_type": "stream",
     "text": [
      "[['जेजे ', 'न ', \"' \", 'नानी ', 'नाति ', 'दादी ', 'माआ ', 'दिदि ', 'माउ ', 'पिताम '], ['जेजे ', 'पितामह ', 'दादा ', 'बापा ', 'पिताम ', \"' \", 'द ', 'बड़ ', 'बापाङ्क ', 'नाति '], ['माम ', 'काका ', 'मामा ', \"' \", 'जेजे ', 'काक ', 'बापा ', 'भाइ ', 'खु ', 'दादा '], ['माउ ', 'जेजे ', 'माम ', \"' \", 'खु ', 'अ ', 'माङ्क ', 'ब ', 'कुनि ', 'बो '], ['</s> ', '। ', '. ', '\" ', ', ', '- ', '| ', 'I ', '۔ ', '᱾ '], ['। ', '| ', '</s> ', '. ', ', ', 'I ', '\" ', '_ ', 'बोलि ', '- '], ['सम्पर्कीय़ ', 'भाइ ', 'माम ', 'भ्रातृ ', 'सम्प ', 'भउणी ', 'जणे ', 'बड़ ', 'भ्र ', 'क '], ['पुत ', 'भण ', 'भ ', 'भाइ ', \"' \", 'पु ', 'भ्र ', 'भा ', 'सान ', 'सम्पर्कीय़ '], ['भ ', 'भण ', 'पुत ', 'झ ', 'भा ', 'भउणी ', 'भग ', 'भाइ ', 'बो ', 'जणे '], ['जेजे ', 'न ', 'नानी ', \"' \", 'दादी ', 'नाति ', 'दिदि ', 'माआ ', 'आइ ', 'मात ']]\n"
     ]
    },
    {
     "name": "stderr",
     "output_type": "stream",
     "text": [
      "/home/sofia/anaconda3/lib/python3.9/site-packages/transformers/tokenization_utils_base.py:4126: UserWarning: `as_target_tokenizer` is deprecated and will be removed in v5 of Transformers. You can tokenize your labels by using the argument `text_target` of the regular `__call__` method (either in the same call as your input texts if you use the same keyword arguments, or in a separate call.\n",
      "  warnings.warn(\n"
     ]
    }
   ],
   "source": [
    "# from the top_10_indices, get the words in Hindi vocab using tokenizer.target_tokenizer\n",
    "word_list = []\n",
    "for i in top_10_indices:\n",
    "    with en_indic_tokenizer.as_target_tokenizer():\n",
    "        word_list.append(en_indic_tokenizer.batch_decode(i.indices))\n",
    "print(word_list)"
   ]
  },
  {
   "cell_type": "code",
   "execution_count": null,
   "metadata": {},
   "outputs": [
    {
     "name": "stdout",
     "output_type": "stream",
     "text": [
      "['जेजे ', 'न ', \"' \", 'नानी ', 'नाति ', 'दादी ', 'माआ ', 'दिदि ', 'माउ ', 'पिताम ']\n",
      "['जेजे ', 'पितामह ', 'दादा ', 'बापा ', 'पिताम ', \"' \", 'द ', 'बड़ ', 'बापाङ्क ', 'नाति ']\n",
      "['माम ', 'काका ', 'मामा ', \"' \", 'जेजे ', 'काक ', 'बापा ', 'भाइ ', 'खु ', 'दादा ']\n",
      "['माउ ', 'जेजे ', 'माम ', \"' \", 'खु ', 'अ ', 'माङ्क ', 'ब ', 'कुनि ', 'बो ']\n",
      "['</s> ', '। ', '. ', '\" ', ', ', '- ', '| ', 'I ', '۔ ', '᱾ ']\n",
      "['। ', '| ', '</s> ', '. ', ', ', 'I ', '\" ', '_ ', 'बोलि ', '- ']\n",
      "['सम्पर्कीय़ ', 'भाइ ', 'माम ', 'भ्रातृ ', 'सम्प ', 'भउणी ', 'जणे ', 'बड़ ', 'भ्र ', 'क ']\n",
      "['पुत ', 'भण ', 'भ ', 'भाइ ', \"' \", 'पु ', 'भ्र ', 'भा ', 'सान ', 'सम्पर्कीय़ ']\n",
      "['भ ', 'भण ', 'पुत ', 'झ ', 'भा ', 'भउणी ', 'भग ', 'भाइ ', 'बो ', 'जणे ']\n",
      "['जेजे ', 'न ', 'नानी ', \"' \", 'दादी ', 'नाति ', 'दिदि ', 'माआ ', 'आइ ', 'मात ']\n"
     ]
    }
   ],
   "source": [
    "for _ in word_list:\n",
    "    print(_)"
   ]
  },
  {
   "cell_type": "code",
   "execution_count": null,
   "metadata": {},
   "outputs": [],
   "source": []
  }
 ],
 "metadata": {
  "kernelspec": {
   "display_name": "base",
   "language": "python",
   "name": "python3"
  },
  "language_info": {
   "codemirror_mode": {
    "name": "ipython",
    "version": 3
   },
   "file_extension": ".py",
   "mimetype": "text/x-python",
   "name": "python",
   "nbconvert_exporter": "python",
   "pygments_lexer": "ipython3",
   "version": "3.9.19"
  }
 },
 "nbformat": 4,
 "nbformat_minor": 2
}

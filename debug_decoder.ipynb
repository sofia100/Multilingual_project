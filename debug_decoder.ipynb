{
 "cells": [
  {
   "cell_type": "markdown",
   "metadata": {},
   "source": [
    "## IndicTrans2"
   ]
  },
  {
   "cell_type": "code",
   "execution_count": 6,
   "metadata": {},
   "outputs": [
    {
     "name": "stdout",
     "output_type": "stream",
     "text": [
      "cuda\n"
     ]
    }
   ],
   "source": [
    "import torch\n",
    "from transformers import AutoModelForSeq2SeqLM, BitsAndBytesConfig\n",
    "# from IndicTransTokenizer import IndicProcessor, IndicTransTokenizer\n",
    "from IndicTransToolkit import IndicProcessor\n",
    "from transformers import AutoModelForSeq2SeqLM, AutoTokenizer\n",
    "from tqdm import tqdm\n",
    "from torch.nn.functional import softmax\n",
    "\n",
    "\n",
    "BATCH_SIZE = 16 # edited from 4\n",
    "DEVICE = \"cuda\" if torch.cuda.is_available() else \"cpu\"\n",
    "quantization = None\n",
    "print(DEVICE)"
   ]
  },
  {
   "cell_type": "code",
   "execution_count": 70,
   "metadata": {},
   "outputs": [],
   "source": [
    "def initialize_model_and_tokenizer(ckpt_dir, quantization):\n",
    "    if quantization == \"4-bit\":\n",
    "        qconfig = BitsAndBytesConfig(\n",
    "            load_in_4bit=True,\n",
    "            bnb_4bit_use_double_quant=True,\n",
    "            bnb_4bit_compute_dtype=torch.bfloat16,\n",
    "        )\n",
    "    elif quantization == \"8-bit\":\n",
    "        qconfig = BitsAndBytesConfig(\n",
    "            load_in_8bit=True,\n",
    "            bnb_8bit_use_double_quant=True,\n",
    "            bnb_8bit_compute_dtype=torch.bfloat16,\n",
    "        )\n",
    "    else:\n",
    "        qconfig = None\n",
    "\n",
    "    tokenizer = AutoTokenizer.from_pretrained(ckpt_dir, trust_remote_code=True)\n",
    "    model = AutoModelForSeq2SeqLM.from_pretrained(\n",
    "        ckpt_dir,\n",
    "        trust_remote_code=True,\n",
    "        low_cpu_mem_usage=True,\n",
    "        quantization_config=qconfig,\n",
    "    )\n",
    "\n",
    "    if qconfig == None:\n",
    "        model = model.to(DEVICE)\n",
    "        if DEVICE == \"cuda\":\n",
    "            model.half()\n",
    "\n",
    "    model.eval()\n",
    "\n",
    "    return tokenizer, model\n",
    "\n",
    "\n",
    "def batch_translate(input_sentences, src_lang, tgt_lang, model, tokenizer, ip):\n",
    "    translations = []\n",
    "\n",
    "\n",
    "\n",
    "    for i in tqdm(range(0, len(input_sentences), BATCH_SIZE)):\n",
    "\n",
    "    # for i in range(0, len(input_sentences), BATCH_SIZE):\n",
    "        batch = input_sentences[i : i + BATCH_SIZE]\n",
    "        print(\"batch: \", batch)\n",
    "\n",
    "        # Preprocess the batch and extract entity mappings\n",
    "        batch = ip.preprocess_batch(batch, src_lang=src_lang, tgt_lang=tgt_lang)\n",
    "        print(\"batch after pre-process: \", batch)\n",
    "\n",
    "        # Tokenize the batch and generate input encodings\n",
    "        inputs = tokenizer(\n",
    "            batch,\n",
    "            truncation=True,\n",
    "            padding=\"longest\",\n",
    "            return_tensors=\"pt\",\n",
    "            return_attention_mask=True,\n",
    "        ).to(DEVICE)\n",
    "        print(\"inputs: \", inputs)\n",
    "\n",
    "        # Generate translations using the model\n",
    "        with torch.no_grad():\n",
    "            # generated_tokens = model.generate(\n",
    "            outputs = model.generate(\n",
    "                **inputs,\n",
    "                use_cache=True,\n",
    "                min_length=0,\n",
    "                max_length=256,\n",
    "                num_beams=5,\n",
    "                num_return_sequences=1, # TODO temp\n",
    "                # output_scores=True,\n",
    "                output_logits=True,\n",
    "                return_dict_in_generate=True\n",
    "            )\n",
    "            \n",
    "            # print(\"\\n\\ngenerated_tokens: \", dir(outputs))\n",
    "            \n",
    "            # print(\"\\n\\ngenerated_tokens: \", (outputs))\n",
    "        \n",
    "            # if generated_tokens.logits:\n",
    "            #     print(\"\\n\\ngenerated_tokens LOGITS: \", (generated_tokens.logits))\n",
    "\n",
    "            # Generated tokens\n",
    "            \n",
    "            # Scores (logits) for each token\n",
    "            # scores = outputs.scores  # List of tensors, one for each generated token\n",
    "            # print(\"1st score: \", scores[0].shape, len(scores))\n",
    "            # Convert logits to probabilities\n",
    "            # probabilities = [softmax(score, dim=-1) for score in scores]\n",
    "            # print(\"\\n\\nprobabilities: \", probabilities)\n",
    "            # print(\"0th probability: \", probabilities[0].shape)\n",
    "\n",
    "            # print(\"output logits: \", outputs.logits)\n",
    "            # size of logits: (batch_size, seq_len, vocab_size)\n",
    "            print(\"len of output logits: \", len(outputs.logits))\n",
    "            print(\"Shape of output logits [0]: \", outputs.logits[0].shape)\n",
    "            # print(\"logit after 1st token: \", outputs.logits[0])\n",
    "\n",
    "            # # Decode the generated tokens\n",
    "            # generated_text = tokenizer.decode(generated_tokens[0], skip_special_tokens=True)\n",
    "\n",
    "            # print(\"Generated Text:\", generated_text)\n",
    "            \n",
    "            # print(\"\\n\\ngenerated_tokens LOGITS: \", (generated_tokens.logits()))\n",
    "\n",
    "        # Decode the generated tokens into text\n",
    "        generated_tokens = outputs.sequences\n",
    "        print(\"len generated_tokens: \", (generated_tokens[0]).shape)\n",
    "        vector = generated_tokens.detach().cpu().tolist()\n",
    "        print(\"vector of generated_tokens: \", vector)\n",
    "\n",
    "\n",
    "        with tokenizer.as_target_tokenizer():\n",
    "            decoded_op = tokenizer.batch_decode(\n",
    "                vector,\n",
    "                # skip_special_tokens=True,\n",
    "                clean_up_tokenization_spaces=True,\n",
    "            )\n",
    "        print(\"1st item in generated_tokens: \", decoded_op[0])\n",
    "            \n",
    "        print(\"generated_tokens after decode: \", decoded_op)\n",
    "        for idx, (logit, token_id) in enumerate(zip(outputs.logits, vector[0])):\n",
    "            # if idx!=0 and idx !=9:\n",
    "            with tokenizer.as_target_tokenizer():\n",
    "\n",
    "            \n",
    "                token_str = tokenizer.batch_decode([token_id])\n",
    "                # token_str = generated_tokens[0][idx]\n",
    "            print(f\"Step {idx + 1}: Token ID = {token_id}, Token = {token_str}, Logit Shape = {logit.shape}\")\n",
    "        # print decoded text and respective logit\n",
    "        # for i in range(len(generated_tokens[0]).shape):\n",
    "        #     print(\"Generated Text:\", generated_tokens[0][i])\n",
    "        #     print(\"Logit:\", outputs.logits[i])\n",
    "        #     print(\"\\n\\n\")\n",
    "\n",
    "\n",
    "        # Postprocess the translations, including entity replacement\n",
    "        translations += ip.postprocess_batch(decoded_op, lang=tgt_lang)\n",
    "\n",
    "        del inputs\n",
    "        torch.cuda.empty_cache()\n",
    "\n",
    "    return translations"
   ]
  },
  {
   "cell_type": "markdown",
   "metadata": {},
   "source": [
    "**TODO: CAN I USE SOME CACHE TO STORE THE HF model and tokenizer?**"
   ]
  },
  {
   "cell_type": "code",
   "execution_count": 3,
   "metadata": {},
   "outputs": [],
   "source": [
    "en_indic_ckpt_dir = \"ai4bharat/indictrans2-en-indic-1B\"  # ai4bharat/indictrans2-en-indic-dist-200M\n",
    "en_indic_tokenizer, en_indic_model = initialize_model_and_tokenizer(en_indic_ckpt_dir,  quantization)\n",
    "\n",
    "ip_en_ind = IndicProcessor(inference=True)"
   ]
  },
  {
   "cell_type": "code",
   "execution_count": 71,
   "metadata": {},
   "outputs": [
    {
     "name": "stderr",
     "output_type": "stream",
     "text": [
      "  0%|          | 0/1 [00:00<?, ?it/s]"
     ]
    },
    {
     "name": "stdout",
     "output_type": "stream",
     "text": [
      "batch:  ['My maternal aunt went to the river bank.']\n",
      "batch after pre-process:  ['eng_Latn hin_Deva My maternal aunt went to the river bank .']\n",
      "inputs:  {'input_ids': tensor([[    4,    15,   362, 14624, 17973,   436,     9,     6,  1811,   978,\n",
      "             5,     2]], device='cuda:0'), 'attention_mask': tensor([[1, 1, 1, 1, 1, 1, 1, 1, 1, 1, 1, 1]], device='cuda:0')}\n"
     ]
    },
    {
     "name": "stderr",
     "output_type": "stream",
     "text": [
      "/home/sofia/anaconda3/lib/python3.9/site-packages/transformers/tokenization_utils_base.py:4126: UserWarning: `as_target_tokenizer` is deprecated and will be removed in v5 of Transformers. You can tokenize your labels by using the argument `text_target` of the regular `__call__` method (either in the same call as your input texts if you use the same keyword arguments, or in a separate call.\n",
      "  warnings.warn(\n",
      "100%|██████████| 1/1 [00:00<00:00,  2.32it/s]"
     ]
    },
    {
     "name": "stdout",
     "output_type": "stream",
     "text": [
      "len of output logits:  11\n",
      "Shape of output logits [0]:  torch.Size([5, 122672])\n",
      "len generated_tokens:  torch.Size([10])\n",
      "vector of generated_tokens:  [[2, 1653, 8911, 3228, 9, 15933, 167, 3070, 6, 2]]\n",
      "1st item in generated_tokens:  </s> मेरी नानी नदी के किनारे गई थीं ।</s> \n",
      "generated_tokens after decode:  ['</s> मेरी नानी नदी के किनारे गई थीं ।</s> ']\n",
      "Step 1: Token ID = 2, Token = ['</s> '], Logit Shape = torch.Size([5, 122672])\n",
      "Step 2: Token ID = 1653, Token = ['मेरी '], Logit Shape = torch.Size([5, 122672])\n",
      "Step 3: Token ID = 8911, Token = ['नानी '], Logit Shape = torch.Size([5, 122672])\n",
      "Step 4: Token ID = 3228, Token = ['नदी '], Logit Shape = torch.Size([5, 122672])\n",
      "Step 5: Token ID = 9, Token = ['के '], Logit Shape = torch.Size([5, 122672])\n",
      "Step 6: Token ID = 15933, Token = ['किनारे '], Logit Shape = torch.Size([5, 122672])\n",
      "Step 7: Token ID = 167, Token = ['गई '], Logit Shape = torch.Size([5, 122672])\n",
      "Step 8: Token ID = 3070, Token = ['थीं '], Logit Shape = torch.Size([5, 122672])\n",
      "Step 9: Token ID = 6, Token = ['। '], Logit Shape = torch.Size([5, 122672])\n",
      "Step 10: Token ID = 2, Token = ['</s> '], Logit Shape = torch.Size([5, 122672])\n"
     ]
    },
    {
     "name": "stderr",
     "output_type": "stream",
     "text": [
      "\n"
     ]
    }
   ],
   "source": [
    "# import the test_sentences_eng.txt file data as sents\n",
    "\n",
    "# sents = ['The river is blue.', 'My uncle wearing blue coat.', 'My maternal aunt went to the river bank.', \"The doctor went to bank for money.\"]\n",
    "sents=['My maternal aunt went to the river bank.']\n",
    "src_lang = \"eng_Latn\"\n",
    "\n",
    "\n",
    "tgt_lang = 'hin_Deva'\n",
    "# print(lang)\n",
    "translations = batch_translate(sents, src_lang, tgt_lang, en_indic_model, en_indic_tokenizer, ip_en_ind)\n"
   ]
  },
  {
   "cell_type": "code",
   "execution_count": null,
   "metadata": {},
   "outputs": [],
   "source": []
  }
 ],
 "metadata": {
  "kernelspec": {
   "display_name": "base",
   "language": "python",
   "name": "python3"
  },
  "language_info": {
   "codemirror_mode": {
    "name": "ipython",
    "version": 3
   },
   "file_extension": ".py",
   "mimetype": "text/x-python",
   "name": "python",
   "nbconvert_exporter": "python",
   "pygments_lexer": "ipython3",
   "version": "3.9.19"
  }
 },
 "nbformat": 4,
 "nbformat_minor": 2
}

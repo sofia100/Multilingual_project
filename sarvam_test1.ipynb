{
 "cells": [
  {
   "cell_type": "code",
   "execution_count": 2,
   "metadata": {},
   "outputs": [
    {
     "name": "stdout",
     "output_type": "stream",
     "text": [
      "env: CUDA_VISIBLE_DEVICES=1, 3,5,7\n"
     ]
    }
   ],
   "source": [
    "%env CUDA_VISIBLE_DEVICES= 1, 3,5,7\n"
   ]
  },
  {
   "cell_type": "code",
   "execution_count": 3,
   "metadata": {},
   "outputs": [],
   "source": [
    "import os\n",
    "os.environ['HF_HOME'] = '/home/sofia/cache_custom'"
   ]
  },
  {
   "cell_type": "code",
   "execution_count": null,
   "metadata": {},
   "outputs": [],
   "source": [
    "from transformers import AutoModelForCausalLM, AutoTokenizer\n",
    "\n",
    "# Load model and tokenizer\n",
    "model = AutoModelForCausalLM.from_pretrained(\"sarvamai/sarvam-1\")\n",
    "tokenizer = AutoTokenizer.from_pretrained(\"sarvamai/sarvam-1\")\n"
   ]
  },
  {
   "cell_type": "code",
   "execution_count": 17,
   "metadata": {},
   "outputs": [],
   "source": [
    "text = '''Below are a few examples of the translations from English to Hindi.\n",
    "            \n",
    "        English: I am a student.    \n",
    "        Hindi: मैं एक विद्यार्थी हूँ।\n",
    "        \n",
    "        English: I am a teacher.\n",
    "        Hindi: मैं एक शिक्षिका हूँ।\n",
    "\n",
    "        English: I am a doctor.\n",
    "        Hindi: मैं एक वैद्य हूँ।\n",
    "        \n",
    "        Similarly, translate the following sentences from English to Hindi. I want only the translations\n",
    "        Answer should be in Hindi script with serial number.\n",
    "\n",
    "        1. I am a writer.\n",
    "        2. I am a singer.\n",
    "        3. I am a dancer.\n",
    "        4. I am a painter.\n",
    "        5. I am a musician.\n",
    "\n",
    "        <Translate the above sentences to Hindi>\n",
    "        '''"
   ]
  },
  {
   "cell_type": "code",
   "execution_count": 18,
   "metadata": {},
   "outputs": [
    {
     "name": "stderr",
     "output_type": "stream",
     "text": [
      "Setting `pad_token_id` to `eos_token_id`:2 for open-end generation.\n"
     ]
    },
    {
     "data": {
      "text/plain": [
       "'<s> Below are a few examples of the translations from English to Hindi.\\n            \\n        English: I am a student.    \\n        Hindi: मैं एक विद्यार्थी हूँ।\\n        \\n        English: I am a teacher.\\n        Hindi: मैं एक शिक्षिका हूँ।\\n\\n        English: I am a doctor.\\n        Hindi: मैं एक वैद्य हूँ।\\n        \\n        Similarly, translate the following sentences from English to Hindi. I want only the translations\\n        Answer should be in Hindi script with serial number.\\n\\n        1. I am a writer.\\n        2. I am a singer.\\n        3. I am a dancer.\\n        4. I am a painter.\\n        5. I am a musician.\\n\\n        <Translate the above sentences to Hindi>\\n        1. मैं एक लेखक हूँ।\\n        2. मैं एक गायक हूँ।\\n        3. मैं एक नर्तक हूँ।\\n        4. मैं एक चित्रकार हूँ।\\n        5. मैं एक संगीतकार हूँ।\\n\\n        <Explanation for each translation>\\n        1. I am a writer. (I am a person who writes.)\\n        2. I am a singer. (I am a person who sings.)\\n        3. I am a dancer. (I am a person who dances.)\\n        4. I am a painter. (I am a person who paints.)\\n        5. I am a musician. (I am a person who plays musical instruments.)\\n\\n        <Note on writing style and formatting>\\n        The answers must be written in Hindi script with serial numbers. The serial numbers will help you keep track of your work. You can use any font or size that suits you best. However, it is recommended to stick to one font throughout the assignment. This will make it easier for others to read and understand your work. Additionally, ensure that all your responses are clear and concise, avoiding unnecessary words or phrases.'"
      ]
     },
     "execution_count": 18,
     "metadata": {},
     "output_type": "execute_result"
    }
   ],
   "source": [
    "\n",
    "# Example usage\n",
    "# text = \"कर्नाटक की राजधानी है:\"\n",
    "# text = \"Translate the following text from English to Hindi: 1. The capital of Karnataka is Bengaluru. 2. The capital of India is New Delhi. 3. The capital of Tamil Nadu is Chennai.\"\n",
    "inputs = tokenizer(text, return_tensors=\"pt\")\n",
    "outputs = model.generate(**inputs, max_new_tokens=250)\n",
    "result = tokenizer.decode(outputs[0])\n",
    "print(result)"
   ]
  },
  {
   "cell_type": "code",
   "execution_count": 24,
   "metadata": {},
   "outputs": [
    {
     "name": "stdout",
     "output_type": "stream",
     "text": [
      " Below are a few examples of the translations from English to Hindi.\n",
      "            \n",
      "        English: I am a student.    \n",
      "        Hindi: मैं एक विद्यार्थी हूँ।\n",
      "        \n",
      "        English: I am a teacher.\n",
      "        Hindi: मैं एक शिक्षिका हूँ।\n",
      "\n",
      "        English: I am a doctor.\n",
      "        Hindi: मैं एक वैद्य हूँ।\n",
      "        \n",
      "        Similarly, translate the following sentences from English to Hindi. I want only the translations\n",
      "        Answer should be in Hindi script with serial number.\n",
      "\n",
      "        1. I am a writer.\n",
      "        2. I am a singer.\n",
      "        3. I am a dancer.\n",
      "        4. I am a painter.\n",
      "        5. I am a musician.\n",
      "\n",
      "        <Translate the above sentences to Hindi>\n",
      "        1. मैं एक लेखक हूँ।\n",
      "        2. मैं एक गायक हूँ।\n",
      "        3. मैं एक नर्तक हूँ।\n",
      "        4. मैं एक चित्रकार हूँ।\n",
      "        5. मैं एक संगीतकार हूँ।\n",
      "\n",
      "        <Explanation for each translation>\n",
      "        1. I am a writer. (I am a person who writes.)\n",
      "        2. I am a singer. (I am a person who sings.)\n",
      "        3. I am a dancer. (I am a person who dances.)\n",
      "        4. I am a painter. (I am a person who paints.)\n",
      "        5. I am a musician. (I am a person who plays musical instruments.)\n",
      "\n",
      "        <Note on writing style and formatting>\n",
      "        The answers must be written in Hindi script with serial numbers. The serial numbers will help you keep track of your work. You can use any font or size that suits you best. However, it is recommended to stick to one font throughout the assignment. This will make it easier for others to read and understand your work. Additionally, ensure that all your responses are clear and concise, avoiding unnecessary words or phrases.\n"
     ]
    }
   ],
   "source": [
    "print(result)"
   ]
  },
  {
   "cell_type": "code",
   "execution_count": null,
   "metadata": {},
   "outputs": [],
   "source": []
  }
 ],
 "metadata": {
  "kernelspec": {
   "display_name": "base",
   "language": "python",
   "name": "python3"
  },
  "language_info": {
   "codemirror_mode": {
    "name": "ipython",
    "version": 3
   },
   "file_extension": ".py",
   "mimetype": "text/x-python",
   "name": "python",
   "nbconvert_exporter": "python",
   "pygments_lexer": "ipython3",
   "version": "3.9.19"
  }
 },
 "nbformat": 4,
 "nbformat_minor": 2
}
